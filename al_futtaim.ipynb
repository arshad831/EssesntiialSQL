{
  "cells": [
    {
      "cell_type": "markdown",
      "metadata": {
        "id": "view-in-github",
        "colab_type": "text"
      },
      "source": [
        "<a href=\"https://colab.research.google.com/github/arshad831/EssesntiialSQL/blob/main/al_futtaim.ipynb\" target=\"_parent\"><img src=\"https://colab.research.google.com/assets/colab-badge.svg\" alt=\"Open In Colab\"/></a>"
      ]
    },
    {
      "cell_type": "code",
      "execution_count": null,
      "metadata": {
        "id": "IuL2YLDuK-Vs"
      },
      "outputs": [],
      "source": [
        "#Import necessary libraries\n",
        "%matplotlib inline\n",
        "import numpy as np\n",
        "import pandas as pd\n",
        "import matplotlib.pyplot as plt"
      ]
    },
    {
      "cell_type": "code",
      "source": [
        "!pip install -U -q PyDrive\n",
        "from pydrive.auth import GoogleAuth\n",
        "from pydrive.drive import GoogleDrive\n",
        "from google.colab import auth\n",
        "from oauth2client.client import GoogleCredentials"
      ],
      "metadata": {
        "id": "vO3z_xOxLJnp"
      },
      "execution_count": null,
      "outputs": []
    },
    {
      "cell_type": "code",
      "source": [
        "auth.authenticate_user()\n",
        "gauth = GoogleAuth()\n",
        "gauth.credentials = GoogleCredentials.get_application_default()\n",
        "drive = GoogleDrive(gauth)"
      ],
      "metadata": {
        "id": "TTaal7PEThrg"
      },
      "execution_count": null,
      "outputs": []
    },
    {
      "cell_type": "code",
      "source": [
        "# add your google drive link of the file\n",
        "link = 'https://drive.google.com/file/d/1yEkNooxsGBRk1Iub1sq6eVabxcd9cuqy/'\n",
        "\n",
        "import pandas as pd\n",
        " \n",
        "# to get the id part of the file\n",
        "id = link.split(\"/\")[-2]\n",
        "\n",
        "\n",
        "downloaded = drive.CreateFile({'id':id})\n",
        "downloaded.GetContentFile('carrefour_transaction.csv') \n",
        " \n",
        "Rtl_data = pd.read_csv('carrefour_transaction.csv',encoding = 'unicode_escape')\n",
        "print(Rtl_data)"
      ],
      "metadata": {
        "colab": {
          "base_uri": "https://localhost:8080/"
        },
        "id": "tJXBeI3XTvpI",
        "outputId": "daf0d3db-8c71-41b1-9ab3-f4ee5f0f7cbb"
      },
      "execution_count": null,
      "outputs": [
        {
          "output_type": "stream",
          "name": "stdout",
          "text": [
            "       Invoice StockCode                          Description  Category  Age  \\\n",
            "0       536370     22728            ALARM CLOCK BAKELIKE PINK         3   38   \n",
            "1       536370     22727            ALARM CLOCK BAKELIKE RED         18   34   \n",
            "2       536370     22726           ALARM CLOCK BAKELIKE GREEN        11   44   \n",
            "3       536370     21724      PANDA AND BUNNIES STICKER SHEET        15   32   \n",
            "4       536370     21883                     STARS GIFT TAPE          1   23   \n",
            "...        ...       ...                                  ...       ...  ...   \n",
            "509761  581585     22466       FAIRY TALE COTTAGE NIGHT LIGHT        14   35   \n",
            "509762  581586     22061  LARGE CAKE STAND  HANGING STRAWBERY         9   37   \n",
            "509763  581586     23275     SET OF 3 HANGING OWLS OLLIE BEAK         2   35   \n",
            "509764  581586     21217        RED RETROSPOT ROUND CAKE TINS        16   54   \n",
            "509765  581586     20685                DOORMAT RED RETROSPOT         7   16   \n",
            "\n",
            "        Quantity      InvoiceDate   Price  Customer ID        City  \n",
            "0             24   12/1/2010 8:45  13.875      12583.0  Abu Dhabhi  \n",
            "1             24   12/1/2010 8:45  13.875      12583.0  Abu Dhabhi  \n",
            "2             12   12/1/2010 8:45  13.875      12583.0  Abu Dhabhi  \n",
            "3             12   12/1/2010 8:45   3.145      12583.0  Abu Dhabhi  \n",
            "4             24   12/1/2010 8:45   2.405      12583.0  Abu Dhabhi  \n",
            "...          ...              ...     ...          ...         ...  \n",
            "509761        12  12/9/2011 12:31   7.215      15804.0       Dubai  \n",
            "509762         8  12/9/2011 12:49  10.915      13113.0       Dubai  \n",
            "509763        24  12/9/2011 12:49   4.625      13113.0       Dubai  \n",
            "509764        24  12/9/2011 12:49  33.115      13113.0       Dubai  \n",
            "509765        10  12/9/2011 12:49  26.196      13113.0       Dubai  \n",
            "\n",
            "[509766 rows x 10 columns]\n"
          ]
        }
      ]
    },
    {
      "cell_type": "code",
      "source": [
        "Rtl_data.info()"
      ],
      "metadata": {
        "colab": {
          "base_uri": "https://localhost:8080/"
        },
        "id": "CXKHw52xXBKW",
        "outputId": "f0435e8f-ae7a-4a3d-a13f-141e492634c7"
      },
      "execution_count": null,
      "outputs": [
        {
          "output_type": "stream",
          "name": "stdout",
          "text": [
            "<class 'pandas.core.frame.DataFrame'>\n",
            "RangeIndex: 509766 entries, 0 to 509765\n",
            "Data columns (total 10 columns):\n",
            " #   Column       Non-Null Count   Dtype  \n",
            "---  ------       --------------   -----  \n",
            " 0   Invoice      509766 non-null  object \n",
            " 1   StockCode    509766 non-null  object \n",
            " 2   Description  508312 non-null  object \n",
            " 3   Category     509766 non-null  int64  \n",
            " 4   Age          509766 non-null  int64  \n",
            " 5   Quantity     509766 non-null  int64  \n",
            " 6   InvoiceDate  509766 non-null  object \n",
            " 7   Price        509766 non-null  float64\n",
            " 8   Customer ID  376098 non-null  float64\n",
            " 9   City         509766 non-null  object \n",
            "dtypes: float64(2), int64(3), object(5)\n",
            "memory usage: 38.9+ MB\n"
          ]
        }
      ]
    },
    {
      "cell_type": "code",
      "source": [
        "from google.colab import drive\n",
        "drive.mount('/content/drive')"
      ],
      "metadata": {
        "colab": {
          "base_uri": "https://localhost:8080/"
        },
        "id": "KKFA7GPeU2HW",
        "outputId": "e5e61225-a032-4a13-e808-f2b7afeb2ccb"
      },
      "execution_count": null,
      "outputs": [
        {
          "output_type": "stream",
          "name": "stdout",
          "text": [
            "Drive already mounted at /content/drive; to attempt to forcibly remount, call drive.mount(\"/content/drive\", force_remount=True).\n"
          ]
        }
      ]
    },
    {
      "cell_type": "code",
      "source": [
        ""
      ],
      "metadata": {
        "id": "-x7nGoi1U2Bm"
      },
      "execution_count": null,
      "outputs": []
    },
    {
      "cell_type": "code",
      "execution_count": null,
      "metadata": {
        "id": "pgbldiHUK-Vw",
        "outputId": "52302aa4-2d36-4086-a350-3723ac279073",
        "colab": {
          "base_uri": "https://localhost:8080/",
          "height": 206
        }
      },
      "outputs": [
        {
          "output_type": "execute_result",
          "data": {
            "text/plain": [
              "  Invoice StockCode                      Description  Category  Age  Quantity  \\\n",
              "0  536370     22728        ALARM CLOCK BAKELIKE PINK         3   38        24   \n",
              "1  536370     22727        ALARM CLOCK BAKELIKE RED         18   34        24   \n",
              "2  536370     22726       ALARM CLOCK BAKELIKE GREEN        11   44        12   \n",
              "3  536370     21724  PANDA AND BUNNIES STICKER SHEET        15   32        12   \n",
              "4  536370     21883                 STARS GIFT TAPE          1   23        24   \n",
              "\n",
              "      InvoiceDate   Price  Customer ID        City  \n",
              "0  12/1/2010 8:45  13.875      12583.0  Abu Dhabhi  \n",
              "1  12/1/2010 8:45  13.875      12583.0  Abu Dhabhi  \n",
              "2  12/1/2010 8:45  13.875      12583.0  Abu Dhabhi  \n",
              "3  12/1/2010 8:45   3.145      12583.0  Abu Dhabhi  \n",
              "4  12/1/2010 8:45   2.405      12583.0  Abu Dhabhi  "
            ],
            "text/html": [
              "\n",
              "  <div id=\"df-19f423c5-f8f6-4bce-bcbd-8bc1aa36e697\">\n",
              "    <div class=\"colab-df-container\">\n",
              "      <div>\n",
              "<style scoped>\n",
              "    .dataframe tbody tr th:only-of-type {\n",
              "        vertical-align: middle;\n",
              "    }\n",
              "\n",
              "    .dataframe tbody tr th {\n",
              "        vertical-align: top;\n",
              "    }\n",
              "\n",
              "    .dataframe thead th {\n",
              "        text-align: right;\n",
              "    }\n",
              "</style>\n",
              "<table border=\"1\" class=\"dataframe\">\n",
              "  <thead>\n",
              "    <tr style=\"text-align: right;\">\n",
              "      <th></th>\n",
              "      <th>Invoice</th>\n",
              "      <th>StockCode</th>\n",
              "      <th>Description</th>\n",
              "      <th>Category</th>\n",
              "      <th>Age</th>\n",
              "      <th>Quantity</th>\n",
              "      <th>InvoiceDate</th>\n",
              "      <th>Price</th>\n",
              "      <th>Customer ID</th>\n",
              "      <th>City</th>\n",
              "    </tr>\n",
              "  </thead>\n",
              "  <tbody>\n",
              "    <tr>\n",
              "      <th>0</th>\n",
              "      <td>536370</td>\n",
              "      <td>22728</td>\n",
              "      <td>ALARM CLOCK BAKELIKE PINK</td>\n",
              "      <td>3</td>\n",
              "      <td>38</td>\n",
              "      <td>24</td>\n",
              "      <td>12/1/2010 8:45</td>\n",
              "      <td>13.875</td>\n",
              "      <td>12583.0</td>\n",
              "      <td>Abu Dhabhi</td>\n",
              "    </tr>\n",
              "    <tr>\n",
              "      <th>1</th>\n",
              "      <td>536370</td>\n",
              "      <td>22727</td>\n",
              "      <td>ALARM CLOCK BAKELIKE RED</td>\n",
              "      <td>18</td>\n",
              "      <td>34</td>\n",
              "      <td>24</td>\n",
              "      <td>12/1/2010 8:45</td>\n",
              "      <td>13.875</td>\n",
              "      <td>12583.0</td>\n",
              "      <td>Abu Dhabhi</td>\n",
              "    </tr>\n",
              "    <tr>\n",
              "      <th>2</th>\n",
              "      <td>536370</td>\n",
              "      <td>22726</td>\n",
              "      <td>ALARM CLOCK BAKELIKE GREEN</td>\n",
              "      <td>11</td>\n",
              "      <td>44</td>\n",
              "      <td>12</td>\n",
              "      <td>12/1/2010 8:45</td>\n",
              "      <td>13.875</td>\n",
              "      <td>12583.0</td>\n",
              "      <td>Abu Dhabhi</td>\n",
              "    </tr>\n",
              "    <tr>\n",
              "      <th>3</th>\n",
              "      <td>536370</td>\n",
              "      <td>21724</td>\n",
              "      <td>PANDA AND BUNNIES STICKER SHEET</td>\n",
              "      <td>15</td>\n",
              "      <td>32</td>\n",
              "      <td>12</td>\n",
              "      <td>12/1/2010 8:45</td>\n",
              "      <td>3.145</td>\n",
              "      <td>12583.0</td>\n",
              "      <td>Abu Dhabhi</td>\n",
              "    </tr>\n",
              "    <tr>\n",
              "      <th>4</th>\n",
              "      <td>536370</td>\n",
              "      <td>21883</td>\n",
              "      <td>STARS GIFT TAPE</td>\n",
              "      <td>1</td>\n",
              "      <td>23</td>\n",
              "      <td>24</td>\n",
              "      <td>12/1/2010 8:45</td>\n",
              "      <td>2.405</td>\n",
              "      <td>12583.0</td>\n",
              "      <td>Abu Dhabhi</td>\n",
              "    </tr>\n",
              "  </tbody>\n",
              "</table>\n",
              "</div>\n",
              "      <button class=\"colab-df-convert\" onclick=\"convertToInteractive('df-19f423c5-f8f6-4bce-bcbd-8bc1aa36e697')\"\n",
              "              title=\"Convert this dataframe to an interactive table.\"\n",
              "              style=\"display:none;\">\n",
              "        \n",
              "  <svg xmlns=\"http://www.w3.org/2000/svg\" height=\"24px\"viewBox=\"0 0 24 24\"\n",
              "       width=\"24px\">\n",
              "    <path d=\"M0 0h24v24H0V0z\" fill=\"none\"/>\n",
              "    <path d=\"M18.56 5.44l.94 2.06.94-2.06 2.06-.94-2.06-.94-.94-2.06-.94 2.06-2.06.94zm-11 1L8.5 8.5l.94-2.06 2.06-.94-2.06-.94L8.5 2.5l-.94 2.06-2.06.94zm10 10l.94 2.06.94-2.06 2.06-.94-2.06-.94-.94-2.06-.94 2.06-2.06.94z\"/><path d=\"M17.41 7.96l-1.37-1.37c-.4-.4-.92-.59-1.43-.59-.52 0-1.04.2-1.43.59L10.3 9.45l-7.72 7.72c-.78.78-.78 2.05 0 2.83L4 21.41c.39.39.9.59 1.41.59.51 0 1.02-.2 1.41-.59l7.78-7.78 2.81-2.81c.8-.78.8-2.07 0-2.86zM5.41 20L4 18.59l7.72-7.72 1.47 1.35L5.41 20z\"/>\n",
              "  </svg>\n",
              "      </button>\n",
              "      \n",
              "  <style>\n",
              "    .colab-df-container {\n",
              "      display:flex;\n",
              "      flex-wrap:wrap;\n",
              "      gap: 12px;\n",
              "    }\n",
              "\n",
              "    .colab-df-convert {\n",
              "      background-color: #E8F0FE;\n",
              "      border: none;\n",
              "      border-radius: 50%;\n",
              "      cursor: pointer;\n",
              "      display: none;\n",
              "      fill: #1967D2;\n",
              "      height: 32px;\n",
              "      padding: 0 0 0 0;\n",
              "      width: 32px;\n",
              "    }\n",
              "\n",
              "    .colab-df-convert:hover {\n",
              "      background-color: #E2EBFA;\n",
              "      box-shadow: 0px 1px 2px rgba(60, 64, 67, 0.3), 0px 1px 3px 1px rgba(60, 64, 67, 0.15);\n",
              "      fill: #174EA6;\n",
              "    }\n",
              "\n",
              "    [theme=dark] .colab-df-convert {\n",
              "      background-color: #3B4455;\n",
              "      fill: #D2E3FC;\n",
              "    }\n",
              "\n",
              "    [theme=dark] .colab-df-convert:hover {\n",
              "      background-color: #434B5C;\n",
              "      box-shadow: 0px 1px 3px 1px rgba(0, 0, 0, 0.15);\n",
              "      filter: drop-shadow(0px 1px 2px rgba(0, 0, 0, 0.3));\n",
              "      fill: #FFFFFF;\n",
              "    }\n",
              "  </style>\n",
              "\n",
              "      <script>\n",
              "        const buttonEl =\n",
              "          document.querySelector('#df-19f423c5-f8f6-4bce-bcbd-8bc1aa36e697 button.colab-df-convert');\n",
              "        buttonEl.style.display =\n",
              "          google.colab.kernel.accessAllowed ? 'block' : 'none';\n",
              "\n",
              "        async function convertToInteractive(key) {\n",
              "          const element = document.querySelector('#df-19f423c5-f8f6-4bce-bcbd-8bc1aa36e697');\n",
              "          const dataTable =\n",
              "            await google.colab.kernel.invokeFunction('convertToInteractive',\n",
              "                                                     [key], {});\n",
              "          if (!dataTable) return;\n",
              "\n",
              "          const docLinkHtml = 'Like what you see? Visit the ' +\n",
              "            '<a target=\"_blank\" href=https://colab.research.google.com/notebooks/data_table.ipynb>data table notebook</a>'\n",
              "            + ' to learn more about interactive tables.';\n",
              "          element.innerHTML = '';\n",
              "          dataTable['output_type'] = 'display_data';\n",
              "          await google.colab.output.renderOutput(dataTable, element);\n",
              "          const docLink = document.createElement('div');\n",
              "          docLink.innerHTML = docLinkHtml;\n",
              "          element.appendChild(docLink);\n",
              "        }\n",
              "      </script>\n",
              "    </div>\n",
              "  </div>\n",
              "  "
            ]
          },
          "metadata": {},
          "execution_count": 6
        }
      ],
      "source": [
        "#Import Online Retail Data containing transactions from 01/12/2010 and 09/12/2011\n",
        "\n",
        "Rtl_data.head()"
      ]
    },
    {
      "cell_type": "code",
      "execution_count": null,
      "metadata": {
        "id": "4JMtHlhAK-Vx",
        "outputId": "d33f46e1-fb12-47ff-8d8a-ae60615acf0f",
        "colab": {
          "base_uri": "https://localhost:8080/"
        }
      },
      "outputs": [
        {
          "output_type": "execute_result",
          "data": {
            "text/plain": [
              "(509766, 10)"
            ]
          },
          "metadata": {},
          "execution_count": 29
        }
      ],
      "source": [
        "#Check the shape (number of columns and rows) in the dataset\n",
        "Rtl_data.shape\n",
        "#(509766, 10)"
      ]
    },
    {
      "cell_type": "code",
      "execution_count": null,
      "metadata": {
        "id": "LEKCvvmlK-Vy",
        "outputId": "f21bf3c1-1ea5-4187-93f0-a50765fd1ead",
        "colab": {
          "base_uri": "https://localhost:8080/",
          "height": 81
        }
      },
      "outputs": [
        {
          "output_type": "execute_result",
          "data": {
            "text/plain": [
              "    City  Customer ID\n",
              "0  Dubai         3921"
            ],
            "text/html": [
              "\n",
              "  <div id=\"df-61b51720-74d3-4a42-8f8b-02e7680758af\">\n",
              "    <div class=\"colab-df-container\">\n",
              "      <div>\n",
              "<style scoped>\n",
              "    .dataframe tbody tr th:only-of-type {\n",
              "        vertical-align: middle;\n",
              "    }\n",
              "\n",
              "    .dataframe tbody tr th {\n",
              "        vertical-align: top;\n",
              "    }\n",
              "\n",
              "    .dataframe thead th {\n",
              "        text-align: right;\n",
              "    }\n",
              "</style>\n",
              "<table border=\"1\" class=\"dataframe\">\n",
              "  <thead>\n",
              "    <tr style=\"text-align: right;\">\n",
              "      <th></th>\n",
              "      <th>City</th>\n",
              "      <th>Customer ID</th>\n",
              "    </tr>\n",
              "  </thead>\n",
              "  <tbody>\n",
              "    <tr>\n",
              "      <th>0</th>\n",
              "      <td>Dubai</td>\n",
              "      <td>3921</td>\n",
              "    </tr>\n",
              "  </tbody>\n",
              "</table>\n",
              "</div>\n",
              "      <button class=\"colab-df-convert\" onclick=\"convertToInteractive('df-61b51720-74d3-4a42-8f8b-02e7680758af')\"\n",
              "              title=\"Convert this dataframe to an interactive table.\"\n",
              "              style=\"display:none;\">\n",
              "        \n",
              "  <svg xmlns=\"http://www.w3.org/2000/svg\" height=\"24px\"viewBox=\"0 0 24 24\"\n",
              "       width=\"24px\">\n",
              "    <path d=\"M0 0h24v24H0V0z\" fill=\"none\"/>\n",
              "    <path d=\"M18.56 5.44l.94 2.06.94-2.06 2.06-.94-2.06-.94-.94-2.06-.94 2.06-2.06.94zm-11 1L8.5 8.5l.94-2.06 2.06-.94-2.06-.94L8.5 2.5l-.94 2.06-2.06.94zm10 10l.94 2.06.94-2.06 2.06-.94-2.06-.94-.94-2.06-.94 2.06-2.06.94z\"/><path d=\"M17.41 7.96l-1.37-1.37c-.4-.4-.92-.59-1.43-.59-.52 0-1.04.2-1.43.59L10.3 9.45l-7.72 7.72c-.78.78-.78 2.05 0 2.83L4 21.41c.39.39.9.59 1.41.59.51 0 1.02-.2 1.41-.59l7.78-7.78 2.81-2.81c.8-.78.8-2.07 0-2.86zM5.41 20L4 18.59l7.72-7.72 1.47 1.35L5.41 20z\"/>\n",
              "  </svg>\n",
              "      </button>\n",
              "      \n",
              "  <style>\n",
              "    .colab-df-container {\n",
              "      display:flex;\n",
              "      flex-wrap:wrap;\n",
              "      gap: 12px;\n",
              "    }\n",
              "\n",
              "    .colab-df-convert {\n",
              "      background-color: #E8F0FE;\n",
              "      border: none;\n",
              "      border-radius: 50%;\n",
              "      cursor: pointer;\n",
              "      display: none;\n",
              "      fill: #1967D2;\n",
              "      height: 32px;\n",
              "      padding: 0 0 0 0;\n",
              "      width: 32px;\n",
              "    }\n",
              "\n",
              "    .colab-df-convert:hover {\n",
              "      background-color: #E2EBFA;\n",
              "      box-shadow: 0px 1px 2px rgba(60, 64, 67, 0.3), 0px 1px 3px 1px rgba(60, 64, 67, 0.15);\n",
              "      fill: #174EA6;\n",
              "    }\n",
              "\n",
              "    [theme=dark] .colab-df-convert {\n",
              "      background-color: #3B4455;\n",
              "      fill: #D2E3FC;\n",
              "    }\n",
              "\n",
              "    [theme=dark] .colab-df-convert:hover {\n",
              "      background-color: #434B5C;\n",
              "      box-shadow: 0px 1px 3px 1px rgba(0, 0, 0, 0.15);\n",
              "      filter: drop-shadow(0px 1px 2px rgba(0, 0, 0, 0.3));\n",
              "      fill: #FFFFFF;\n",
              "    }\n",
              "  </style>\n",
              "\n",
              "      <script>\n",
              "        const buttonEl =\n",
              "          document.querySelector('#df-61b51720-74d3-4a42-8f8b-02e7680758af button.colab-df-convert');\n",
              "        buttonEl.style.display =\n",
              "          google.colab.kernel.accessAllowed ? 'block' : 'none';\n",
              "\n",
              "        async function convertToInteractive(key) {\n",
              "          const element = document.querySelector('#df-61b51720-74d3-4a42-8f8b-02e7680758af');\n",
              "          const dataTable =\n",
              "            await google.colab.kernel.invokeFunction('convertToInteractive',\n",
              "                                                     [key], {});\n",
              "          if (!dataTable) return;\n",
              "\n",
              "          const docLinkHtml = 'Like what you see? Visit the ' +\n",
              "            '<a target=\"_blank\" href=https://colab.research.google.com/notebooks/data_table.ipynb>data table notebook</a>'\n",
              "            + ' to learn more about interactive tables.';\n",
              "          element.innerHTML = '';\n",
              "          dataTable['output_type'] = 'display_data';\n",
              "          await google.colab.output.renderOutput(dataTable, element);\n",
              "          const docLink = document.createElement('div');\n",
              "          docLink.innerHTML = docLinkHtml;\n",
              "          element.appendChild(docLink);\n",
              "        }\n",
              "      </script>\n",
              "    </div>\n",
              "  </div>\n",
              "  "
            ]
          },
          "metadata": {},
          "execution_count": 19
        }
      ],
      "source": [
        "#Customer distribution by city\n",
        "country_cust_data=Rtl_data[['City','Customer ID']].drop_duplicates()\n",
        "country_cust_data.groupby(['City'])['Customer ID'].aggregate('count').reset_index().sort_values('Customer ID', ascending=False)"
      ]
    },
    {
      "cell_type": "code",
      "execution_count": null,
      "metadata": {
        "id": "6_cdyNbDK-Vy"
      },
      "outputs": [],
      "source": [
        "#Keep only Dubai\n",
        "Rtl_data = Rtl_data.query(\"City=='Dubai'\").reset_index(drop=True)"
      ]
    },
    {
      "cell_type": "code",
      "source": [
        "Rtl_data.shape\n",
        "#(497,000)"
      ],
      "metadata": {
        "colab": {
          "base_uri": "https://localhost:8080/"
        },
        "id": "YTHAfOlx9ptc",
        "outputId": "a36497ef-03c7-457c-be8f-55294503b44a"
      },
      "execution_count": null,
      "outputs": [
        {
          "output_type": "execute_result",
          "data": {
            "text/plain": [
              "(361878, 10)"
            ]
          },
          "metadata": {},
          "execution_count": 14
        }
      ]
    },
    {
      "cell_type": "code",
      "execution_count": null,
      "metadata": {
        "id": "tA6WgJ8hK-Vz",
        "outputId": "5c8fa100-aa67-4afd-86a7-aad75279c8e5",
        "colab": {
          "base_uri": "https://localhost:8080/"
        }
      },
      "outputs": [
        {
          "output_type": "execute_result",
          "data": {
            "text/plain": [
              "Invoice             0\n",
              "StockCode           0\n",
              "Description      1454\n",
              "Category            0\n",
              "Age                 0\n",
              "Quantity            0\n",
              "InvoiceDate         0\n",
              "Price               0\n",
              "Customer ID    133600\n",
              "City                0\n",
              "dtype: int64"
            ]
          },
          "metadata": {},
          "execution_count": 35
        }
      ],
      "source": [
        "#Check for missing values in the dataset\n",
        "Rtl_data.isnull().sum(axis=0)"
      ]
    },
    {
      "cell_type": "code",
      "execution_count": null,
      "metadata": {
        "id": "EwBRoXQrK-Vz"
      },
      "outputs": [],
      "source": [
        "#Remove missing values from CustomerID column, can ignore missing values in description column\n",
        "Rtl_data = Rtl_data[pd.notnull(Rtl_data['Customer ID'])]\n",
        "#(361878, 10)\n",
        "#Validate if there are any negative values in Quantity column\n",
        "#Rtl_data.Quantity.min()"
      ]
    },
    {
      "cell_type": "code",
      "source": [
        "Rtl_data.Quantity.min()"
      ],
      "metadata": {
        "colab": {
          "base_uri": "https://localhost:8080/"
        },
        "id": "lFuKNKZF-cYA",
        "outputId": "5b0c0aab-6ae9-4c37-e26a-fa854d7d7c68"
      },
      "execution_count": null,
      "outputs": [
        {
          "output_type": "execute_result",
          "data": {
            "text/plain": [
              "1"
            ]
          },
          "metadata": {},
          "execution_count": 17
        }
      ]
    },
    {
      "cell_type": "code",
      "source": [
        ""
      ],
      "metadata": {
        "id": "Rt0x3uXO-TNu"
      },
      "execution_count": null,
      "outputs": []
    },
    {
      "cell_type": "code",
      "execution_count": null,
      "metadata": {
        "id": "z_O7Ni3xK-V0",
        "outputId": "0bdde0cb-fed9-44c2-8644-5791f48b7a3e",
        "colab": {
          "base_uri": "https://localhost:8080/"
        }
      },
      "outputs": [
        {
          "output_type": "execute_result",
          "data": {
            "text/plain": [
              "0.0"
            ]
          },
          "metadata": {},
          "execution_count": 38
        }
      ],
      "source": [
        "#Validate if there are any negative values in UnitPrice column\n",
        "Rtl_data.Price.min()"
      ]
    },
    {
      "cell_type": "code",
      "source": [
        ""
      ],
      "metadata": {
        "id": "rT8VyL2u_Lz5"
      },
      "execution_count": null,
      "outputs": []
    },
    {
      "cell_type": "code",
      "execution_count": null,
      "metadata": {
        "id": "ZnUjNVBNK-V0"
      },
      "outputs": [],
      "source": [
        "#Filter out records with negative values\n",
        "Rtl_data = Rtl_data[(Rtl_data['Quantity']>0)]"
      ]
    },
    {
      "cell_type": "code",
      "source": [
        "Rtl_data.shape\n",
        "#(354345, 10)"
      ],
      "metadata": {
        "colab": {
          "base_uri": "https://localhost:8080/"
        },
        "id": "ll4WKu6T_MZJ",
        "outputId": "56f99eee-015b-41f6-aef2-a7d1a24e7157"
      },
      "execution_count": null,
      "outputs": [
        {
          "output_type": "execute_result",
          "data": {
            "text/plain": [
              "(354345, 10)"
            ]
          },
          "metadata": {},
          "execution_count": 18
        }
      ]
    },
    {
      "cell_type": "code",
      "source": [
        "Rtl_data.info()"
      ],
      "metadata": {
        "colab": {
          "base_uri": "https://localhost:8080/"
        },
        "id": "GpHC1LoO_MM7",
        "outputId": "734f3526-e766-49d1-83ff-a0a4396eb3f2"
      },
      "execution_count": null,
      "outputs": [
        {
          "output_type": "stream",
          "name": "stdout",
          "text": [
            "<class 'pandas.core.frame.DataFrame'>\n",
            "Int64Index: 354345 entries, 0 to 495477\n",
            "Data columns (total 10 columns):\n",
            " #   Column       Non-Null Count   Dtype         \n",
            "---  ------       --------------   -----         \n",
            " 0   Invoice      354345 non-null  object        \n",
            " 1   StockCode    354345 non-null  object        \n",
            " 2   Description  354345 non-null  object        \n",
            " 3   Category     354345 non-null  int64         \n",
            " 4   Age          354345 non-null  int64         \n",
            " 5   Quantity     354345 non-null  int64         \n",
            " 6   InvoiceDate  354345 non-null  datetime64[ns]\n",
            " 7   Price        354345 non-null  float64       \n",
            " 8   Customer ID  354345 non-null  float64       \n",
            " 9   City         354345 non-null  object        \n",
            "dtypes: datetime64[ns](1), float64(2), int64(3), object(4)\n",
            "memory usage: 29.7+ MB\n"
          ]
        }
      ]
    },
    {
      "cell_type": "code",
      "execution_count": null,
      "metadata": {
        "id": "DsYh6mPaK-V1"
      },
      "outputs": [],
      "source": [
        "#Convert the string date field to datetime\n",
        "Rtl_data['InvoiceDate'] = pd.to_datetime(Rtl_data['InvoiceDate'])"
      ]
    },
    {
      "cell_type": "code",
      "execution_count": null,
      "metadata": {
        "id": "zoJ8UlSZK-V1"
      },
      "outputs": [],
      "source": [
        "#Add new column depicting total amount\n",
        "Rtl_data['TotalAmount'] = Rtl_data['Quantity'] * Rtl_data['Price']"
      ]
    },
    {
      "cell_type": "code",
      "execution_count": null,
      "metadata": {
        "id": "_HzIV0paK-V2",
        "outputId": "a6fe5a84-2103-47e1-d578-1cf76f5f833d",
        "colab": {
          "base_uri": "https://localhost:8080/"
        }
      },
      "outputs": [
        {
          "output_type": "execute_result",
          "data": {
            "text/plain": [
              "(354345, 11)"
            ]
          },
          "metadata": {},
          "execution_count": 25
        }
      ],
      "source": [
        "#Check the shape (number of columns and rows) in the dataset after data is cleaned\n",
        "Rtl_data.shape\n",
        "#(354345, 11)"
      ]
    },
    {
      "cell_type": "code",
      "execution_count": null,
      "metadata": {
        "id": "FbhDDc0oK-V2",
        "outputId": "8a97bf25-87d1-4d8b-af27-bc965bab929b",
        "colab": {
          "base_uri": "https://localhost:8080/",
          "height": 206
        }
      },
      "outputs": [
        {
          "output_type": "execute_result",
          "data": {
            "text/plain": [
              "  Invoice StockCode                          Description  Category  Age  \\\n",
              "0  536365    85123A   WHITE HANGING HEART T-LIGHT HOLDER        15   46   \n",
              "1  536365     71053                  WHITE METAL LANTERN        10   34   \n",
              "2  536365    84406B       CREAM CUPID HEARTS COAT HANGER         8   60   \n",
              "3  536365    84029G  KNITTED UNION FLAG HOT WATER BOTTLE         9   28   \n",
              "4  536365    84029E       RED WOOLLY HOTTIE WHITE HEART.         4   19   \n",
              "\n",
              "   Quantity         InvoiceDate   Price  Customer ID   City  TotalAmount  \n",
              "0         6 2010-12-01 08:26:00   9.435      17850.0  Dubai       56.610  \n",
              "1         6 2010-12-01 08:26:00  12.543      17850.0  Dubai       75.258  \n",
              "2         8 2010-12-01 08:26:00  10.175      17850.0  Dubai       81.400  \n",
              "3         6 2010-12-01 08:26:00  12.543      17850.0  Dubai       75.258  \n",
              "4         6 2010-12-01 08:26:00  12.543      17850.0  Dubai       75.258  "
            ],
            "text/html": [
              "\n",
              "  <div id=\"df-a7ff5404-4552-4723-bda9-398a053979aa\">\n",
              "    <div class=\"colab-df-container\">\n",
              "      <div>\n",
              "<style scoped>\n",
              "    .dataframe tbody tr th:only-of-type {\n",
              "        vertical-align: middle;\n",
              "    }\n",
              "\n",
              "    .dataframe tbody tr th {\n",
              "        vertical-align: top;\n",
              "    }\n",
              "\n",
              "    .dataframe thead th {\n",
              "        text-align: right;\n",
              "    }\n",
              "</style>\n",
              "<table border=\"1\" class=\"dataframe\">\n",
              "  <thead>\n",
              "    <tr style=\"text-align: right;\">\n",
              "      <th></th>\n",
              "      <th>Invoice</th>\n",
              "      <th>StockCode</th>\n",
              "      <th>Description</th>\n",
              "      <th>Category</th>\n",
              "      <th>Age</th>\n",
              "      <th>Quantity</th>\n",
              "      <th>InvoiceDate</th>\n",
              "      <th>Price</th>\n",
              "      <th>Customer ID</th>\n",
              "      <th>City</th>\n",
              "      <th>TotalAmount</th>\n",
              "    </tr>\n",
              "  </thead>\n",
              "  <tbody>\n",
              "    <tr>\n",
              "      <th>0</th>\n",
              "      <td>536365</td>\n",
              "      <td>85123A</td>\n",
              "      <td>WHITE HANGING HEART T-LIGHT HOLDER</td>\n",
              "      <td>15</td>\n",
              "      <td>46</td>\n",
              "      <td>6</td>\n",
              "      <td>2010-12-01 08:26:00</td>\n",
              "      <td>9.435</td>\n",
              "      <td>17850.0</td>\n",
              "      <td>Dubai</td>\n",
              "      <td>56.610</td>\n",
              "    </tr>\n",
              "    <tr>\n",
              "      <th>1</th>\n",
              "      <td>536365</td>\n",
              "      <td>71053</td>\n",
              "      <td>WHITE METAL LANTERN</td>\n",
              "      <td>10</td>\n",
              "      <td>34</td>\n",
              "      <td>6</td>\n",
              "      <td>2010-12-01 08:26:00</td>\n",
              "      <td>12.543</td>\n",
              "      <td>17850.0</td>\n",
              "      <td>Dubai</td>\n",
              "      <td>75.258</td>\n",
              "    </tr>\n",
              "    <tr>\n",
              "      <th>2</th>\n",
              "      <td>536365</td>\n",
              "      <td>84406B</td>\n",
              "      <td>CREAM CUPID HEARTS COAT HANGER</td>\n",
              "      <td>8</td>\n",
              "      <td>60</td>\n",
              "      <td>8</td>\n",
              "      <td>2010-12-01 08:26:00</td>\n",
              "      <td>10.175</td>\n",
              "      <td>17850.0</td>\n",
              "      <td>Dubai</td>\n",
              "      <td>81.400</td>\n",
              "    </tr>\n",
              "    <tr>\n",
              "      <th>3</th>\n",
              "      <td>536365</td>\n",
              "      <td>84029G</td>\n",
              "      <td>KNITTED UNION FLAG HOT WATER BOTTLE</td>\n",
              "      <td>9</td>\n",
              "      <td>28</td>\n",
              "      <td>6</td>\n",
              "      <td>2010-12-01 08:26:00</td>\n",
              "      <td>12.543</td>\n",
              "      <td>17850.0</td>\n",
              "      <td>Dubai</td>\n",
              "      <td>75.258</td>\n",
              "    </tr>\n",
              "    <tr>\n",
              "      <th>4</th>\n",
              "      <td>536365</td>\n",
              "      <td>84029E</td>\n",
              "      <td>RED WOOLLY HOTTIE WHITE HEART.</td>\n",
              "      <td>4</td>\n",
              "      <td>19</td>\n",
              "      <td>6</td>\n",
              "      <td>2010-12-01 08:26:00</td>\n",
              "      <td>12.543</td>\n",
              "      <td>17850.0</td>\n",
              "      <td>Dubai</td>\n",
              "      <td>75.258</td>\n",
              "    </tr>\n",
              "  </tbody>\n",
              "</table>\n",
              "</div>\n",
              "      <button class=\"colab-df-convert\" onclick=\"convertToInteractive('df-a7ff5404-4552-4723-bda9-398a053979aa')\"\n",
              "              title=\"Convert this dataframe to an interactive table.\"\n",
              "              style=\"display:none;\">\n",
              "        \n",
              "  <svg xmlns=\"http://www.w3.org/2000/svg\" height=\"24px\"viewBox=\"0 0 24 24\"\n",
              "       width=\"24px\">\n",
              "    <path d=\"M0 0h24v24H0V0z\" fill=\"none\"/>\n",
              "    <path d=\"M18.56 5.44l.94 2.06.94-2.06 2.06-.94-2.06-.94-.94-2.06-.94 2.06-2.06.94zm-11 1L8.5 8.5l.94-2.06 2.06-.94-2.06-.94L8.5 2.5l-.94 2.06-2.06.94zm10 10l.94 2.06.94-2.06 2.06-.94-2.06-.94-.94-2.06-.94 2.06-2.06.94z\"/><path d=\"M17.41 7.96l-1.37-1.37c-.4-.4-.92-.59-1.43-.59-.52 0-1.04.2-1.43.59L10.3 9.45l-7.72 7.72c-.78.78-.78 2.05 0 2.83L4 21.41c.39.39.9.59 1.41.59.51 0 1.02-.2 1.41-.59l7.78-7.78 2.81-2.81c.8-.78.8-2.07 0-2.86zM5.41 20L4 18.59l7.72-7.72 1.47 1.35L5.41 20z\"/>\n",
              "  </svg>\n",
              "      </button>\n",
              "      \n",
              "  <style>\n",
              "    .colab-df-container {\n",
              "      display:flex;\n",
              "      flex-wrap:wrap;\n",
              "      gap: 12px;\n",
              "    }\n",
              "\n",
              "    .colab-df-convert {\n",
              "      background-color: #E8F0FE;\n",
              "      border: none;\n",
              "      border-radius: 50%;\n",
              "      cursor: pointer;\n",
              "      display: none;\n",
              "      fill: #1967D2;\n",
              "      height: 32px;\n",
              "      padding: 0 0 0 0;\n",
              "      width: 32px;\n",
              "    }\n",
              "\n",
              "    .colab-df-convert:hover {\n",
              "      background-color: #E2EBFA;\n",
              "      box-shadow: 0px 1px 2px rgba(60, 64, 67, 0.3), 0px 1px 3px 1px rgba(60, 64, 67, 0.15);\n",
              "      fill: #174EA6;\n",
              "    }\n",
              "\n",
              "    [theme=dark] .colab-df-convert {\n",
              "      background-color: #3B4455;\n",
              "      fill: #D2E3FC;\n",
              "    }\n",
              "\n",
              "    [theme=dark] .colab-df-convert:hover {\n",
              "      background-color: #434B5C;\n",
              "      box-shadow: 0px 1px 3px 1px rgba(0, 0, 0, 0.15);\n",
              "      filter: drop-shadow(0px 1px 2px rgba(0, 0, 0, 0.3));\n",
              "      fill: #FFFFFF;\n",
              "    }\n",
              "  </style>\n",
              "\n",
              "      <script>\n",
              "        const buttonEl =\n",
              "          document.querySelector('#df-a7ff5404-4552-4723-bda9-398a053979aa button.colab-df-convert');\n",
              "        buttonEl.style.display =\n",
              "          google.colab.kernel.accessAllowed ? 'block' : 'none';\n",
              "\n",
              "        async function convertToInteractive(key) {\n",
              "          const element = document.querySelector('#df-a7ff5404-4552-4723-bda9-398a053979aa');\n",
              "          const dataTable =\n",
              "            await google.colab.kernel.invokeFunction('convertToInteractive',\n",
              "                                                     [key], {});\n",
              "          if (!dataTable) return;\n",
              "\n",
              "          const docLinkHtml = 'Like what you see? Visit the ' +\n",
              "            '<a target=\"_blank\" href=https://colab.research.google.com/notebooks/data_table.ipynb>data table notebook</a>'\n",
              "            + ' to learn more about interactive tables.';\n",
              "          element.innerHTML = '';\n",
              "          dataTable['output_type'] = 'display_data';\n",
              "          await google.colab.output.renderOutput(dataTable, element);\n",
              "          const docLink = document.createElement('div');\n",
              "          docLink.innerHTML = docLinkHtml;\n",
              "          element.appendChild(docLink);\n",
              "        }\n",
              "      </script>\n",
              "    </div>\n",
              "  </div>\n",
              "  "
            ]
          },
          "metadata": {},
          "execution_count": 26
        }
      ],
      "source": [
        "Rtl_data.head()"
      ]
    },
    {
      "cell_type": "markdown",
      "metadata": {
        "id": "lehoc7L9K-V2"
      },
      "source": [
        "## RFM Modelling"
      ]
    },
    {
      "cell_type": "code",
      "execution_count": null,
      "metadata": {
        "id": "BgM-7pWoK-V3",
        "outputId": "1921cc63-ff3b-4656-a2dd-4d3a4f5bad73",
        "colab": {
          "base_uri": "https://localhost:8080/",
          "height": 206
        }
      },
      "outputs": [
        {
          "output_type": "execute_result",
          "data": {
            "text/plain": [
              "   Customer ID  Recency  Frequency    Monetary\n",
              "0      12346.0      325          1  285579.320\n",
              "1      12747.0        2        103   15525.237\n",
              "2      12748.0        0       4596  124763.001\n",
              "3      12749.0        3        199   15136.256\n",
              "4      12820.0        3         59    3486.658"
            ],
            "text/html": [
              "\n",
              "  <div id=\"df-b7fb2f79-047a-46e1-8780-e0a67abb035e\">\n",
              "    <div class=\"colab-df-container\">\n",
              "      <div>\n",
              "<style scoped>\n",
              "    .dataframe tbody tr th:only-of-type {\n",
              "        vertical-align: middle;\n",
              "    }\n",
              "\n",
              "    .dataframe tbody tr th {\n",
              "        vertical-align: top;\n",
              "    }\n",
              "\n",
              "    .dataframe thead th {\n",
              "        text-align: right;\n",
              "    }\n",
              "</style>\n",
              "<table border=\"1\" class=\"dataframe\">\n",
              "  <thead>\n",
              "    <tr style=\"text-align: right;\">\n",
              "      <th></th>\n",
              "      <th>Customer ID</th>\n",
              "      <th>Recency</th>\n",
              "      <th>Frequency</th>\n",
              "      <th>Monetary</th>\n",
              "    </tr>\n",
              "  </thead>\n",
              "  <tbody>\n",
              "    <tr>\n",
              "      <th>0</th>\n",
              "      <td>12346.0</td>\n",
              "      <td>325</td>\n",
              "      <td>1</td>\n",
              "      <td>285579.320</td>\n",
              "    </tr>\n",
              "    <tr>\n",
              "      <th>1</th>\n",
              "      <td>12747.0</td>\n",
              "      <td>2</td>\n",
              "      <td>103</td>\n",
              "      <td>15525.237</td>\n",
              "    </tr>\n",
              "    <tr>\n",
              "      <th>2</th>\n",
              "      <td>12748.0</td>\n",
              "      <td>0</td>\n",
              "      <td>4596</td>\n",
              "      <td>124763.001</td>\n",
              "    </tr>\n",
              "    <tr>\n",
              "      <th>3</th>\n",
              "      <td>12749.0</td>\n",
              "      <td>3</td>\n",
              "      <td>199</td>\n",
              "      <td>15136.256</td>\n",
              "    </tr>\n",
              "    <tr>\n",
              "      <th>4</th>\n",
              "      <td>12820.0</td>\n",
              "      <td>3</td>\n",
              "      <td>59</td>\n",
              "      <td>3486.658</td>\n",
              "    </tr>\n",
              "  </tbody>\n",
              "</table>\n",
              "</div>\n",
              "      <button class=\"colab-df-convert\" onclick=\"convertToInteractive('df-b7fb2f79-047a-46e1-8780-e0a67abb035e')\"\n",
              "              title=\"Convert this dataframe to an interactive table.\"\n",
              "              style=\"display:none;\">\n",
              "        \n",
              "  <svg xmlns=\"http://www.w3.org/2000/svg\" height=\"24px\"viewBox=\"0 0 24 24\"\n",
              "       width=\"24px\">\n",
              "    <path d=\"M0 0h24v24H0V0z\" fill=\"none\"/>\n",
              "    <path d=\"M18.56 5.44l.94 2.06.94-2.06 2.06-.94-2.06-.94-.94-2.06-.94 2.06-2.06.94zm-11 1L8.5 8.5l.94-2.06 2.06-.94-2.06-.94L8.5 2.5l-.94 2.06-2.06.94zm10 10l.94 2.06.94-2.06 2.06-.94-2.06-.94-.94-2.06-.94 2.06-2.06.94z\"/><path d=\"M17.41 7.96l-1.37-1.37c-.4-.4-.92-.59-1.43-.59-.52 0-1.04.2-1.43.59L10.3 9.45l-7.72 7.72c-.78.78-.78 2.05 0 2.83L4 21.41c.39.39.9.59 1.41.59.51 0 1.02-.2 1.41-.59l7.78-7.78 2.81-2.81c.8-.78.8-2.07 0-2.86zM5.41 20L4 18.59l7.72-7.72 1.47 1.35L5.41 20z\"/>\n",
              "  </svg>\n",
              "      </button>\n",
              "      \n",
              "  <style>\n",
              "    .colab-df-container {\n",
              "      display:flex;\n",
              "      flex-wrap:wrap;\n",
              "      gap: 12px;\n",
              "    }\n",
              "\n",
              "    .colab-df-convert {\n",
              "      background-color: #E8F0FE;\n",
              "      border: none;\n",
              "      border-radius: 50%;\n",
              "      cursor: pointer;\n",
              "      display: none;\n",
              "      fill: #1967D2;\n",
              "      height: 32px;\n",
              "      padding: 0 0 0 0;\n",
              "      width: 32px;\n",
              "    }\n",
              "\n",
              "    .colab-df-convert:hover {\n",
              "      background-color: #E2EBFA;\n",
              "      box-shadow: 0px 1px 2px rgba(60, 64, 67, 0.3), 0px 1px 3px 1px rgba(60, 64, 67, 0.15);\n",
              "      fill: #174EA6;\n",
              "    }\n",
              "\n",
              "    [theme=dark] .colab-df-convert {\n",
              "      background-color: #3B4455;\n",
              "      fill: #D2E3FC;\n",
              "    }\n",
              "\n",
              "    [theme=dark] .colab-df-convert:hover {\n",
              "      background-color: #434B5C;\n",
              "      box-shadow: 0px 1px 3px 1px rgba(0, 0, 0, 0.15);\n",
              "      filter: drop-shadow(0px 1px 2px rgba(0, 0, 0, 0.3));\n",
              "      fill: #FFFFFF;\n",
              "    }\n",
              "  </style>\n",
              "\n",
              "      <script>\n",
              "        const buttonEl =\n",
              "          document.querySelector('#df-b7fb2f79-047a-46e1-8780-e0a67abb035e button.colab-df-convert');\n",
              "        buttonEl.style.display =\n",
              "          google.colab.kernel.accessAllowed ? 'block' : 'none';\n",
              "\n",
              "        async function convertToInteractive(key) {\n",
              "          const element = document.querySelector('#df-b7fb2f79-047a-46e1-8780-e0a67abb035e');\n",
              "          const dataTable =\n",
              "            await google.colab.kernel.invokeFunction('convertToInteractive',\n",
              "                                                     [key], {});\n",
              "          if (!dataTable) return;\n",
              "\n",
              "          const docLinkHtml = 'Like what you see? Visit the ' +\n",
              "            '<a target=\"_blank\" href=https://colab.research.google.com/notebooks/data_table.ipynb>data table notebook</a>'\n",
              "            + ' to learn more about interactive tables.';\n",
              "          element.innerHTML = '';\n",
              "          dataTable['output_type'] = 'display_data';\n",
              "          await google.colab.output.renderOutput(dataTable, element);\n",
              "          const docLink = document.createElement('div');\n",
              "          docLink.innerHTML = docLinkHtml;\n",
              "          element.appendChild(docLink);\n",
              "        }\n",
              "      </script>\n",
              "    </div>\n",
              "  </div>\n",
              "  "
            ]
          },
          "metadata": {},
          "execution_count": 27
        }
      ],
      "source": [
        "#Recency = Latest Date - Last Inovice Data, Frequency = count of invoice no. of transaction(s), Monetary = Sum of Total \n",
        "#Amount for each customer\n",
        "import datetime as dt\n",
        "\n",
        "#Set Latest date 2011-12-10 as last invoice date was 2011-12-09. This is to calculate the number of days from recent purchase\n",
        "Latest_Date = dt.datetime(2011,12,10)\n",
        "\n",
        "#Create RFM Modelling scores for each customer\n",
        "RFMScores = Rtl_data.groupby('Customer ID').agg({'InvoiceDate': lambda x: (Latest_Date - x.max()).days, 'Invoice': lambda x: len(x), 'TotalAmount': lambda x: x.sum()})\n",
        "\n",
        "#Convert Invoice Date into type int\n",
        "RFMScores['InvoiceDate'] = RFMScores['InvoiceDate'].astype(int)\n",
        "\n",
        "#Rename column names to Recency, Frequency and Monetary\n",
        "RFMScores.rename(columns={'InvoiceDate': 'Recency', \n",
        "                         'Invoice': 'Frequency', \n",
        "                         'TotalAmount': 'Monetary'}, inplace=True)\n",
        "\n",
        "RFMScores.reset_index().head()"
      ]
    },
    {
      "cell_type": "code",
      "execution_count": null,
      "metadata": {
        "id": "ecYGGPsNK-V4",
        "outputId": "dfb3a69b-af24-4121-b55e-1715441969d9",
        "colab": {
          "base_uri": "https://localhost:8080/"
        }
      },
      "outputs": [
        {
          "output_type": "execute_result",
          "data": {
            "text/plain": [
              "count      3921.000000\n",
              "mean       6896.467419\n",
              "std       27683.112205\n",
              "min           0.000000\n",
              "25%        1110.148000\n",
              "50%        2411.734000\n",
              "75%        5830.793000\n",
              "max      960732.010000\n",
              "Name: Monetary, dtype: float64"
            ]
          },
          "metadata": {},
          "execution_count": 40
        }
      ],
      "source": [
        "#Descriptive Statistics (Recency)\n",
        "RFMScores.Monetary.describe()"
      ]
    },
    {
      "cell_type": "code",
      "execution_count": null,
      "metadata": {
        "id": "mNYdxTLVK-V5",
        "outputId": "1773fac9-af0a-484c-aadc-e55ee1d24d85",
        "colab": {
          "base_uri": "https://localhost:8080/",
          "height": 346
        }
      },
      "outputs": [
        {
          "output_type": "stream",
          "name": "stderr",
          "text": [
            "/usr/local/lib/python3.7/dist-packages/seaborn/distributions.py:2619: FutureWarning: `distplot` is a deprecated function and will be removed in a future version. Please adapt your code to use either `displot` (a figure-level function with similar flexibility) or `histplot` (an axes-level function for histograms).\n",
            "  warnings.warn(msg, FutureWarning)\n"
          ]
        },
        {
          "output_type": "display_data",
          "data": {
            "text/plain": [
              "<Figure size 432x288 with 1 Axes>"
            ],
            "image/png": "[encoded data removed]"
          },
          "metadata": {
            "needs_background": "light"
          }
        }
      ],
      "source": [
        "#Recency distribution plot\n",
        "import seaborn as sns\n",
        "x = RFMScores['Monetary']\n",
        "\n",
        "ax = sns.distplot(x)"
      ]
    },
    {
      "cell_type": "code",
      "execution_count": null,
      "metadata": {
        "id": "EtyAHQ65K-V5",
        "outputId": "8575d321-b8f2-4b83-d3e5-3a1866ac046c",
        "colab": {
          "base_uri": "https://localhost:8080/"
        }
      },
      "outputs": [
        {
          "output_type": "execute_result",
          "data": {
            "text/plain": [
              "count    3921.000000\n",
              "mean       90.371079\n",
              "std       217.796155\n",
              "min         1.000000\n",
              "25%        17.000000\n",
              "50%        41.000000\n",
              "75%        99.000000\n",
              "max      7847.000000\n",
              "Name: Frequency, dtype: float64"
            ]
          },
          "metadata": {},
          "execution_count": 51
        }
      ],
      "source": [
        "#Descriptive Statistics (Frequency)\n",
        "RFMScores.Frequency.describe()"
      ]
    },
    {
      "cell_type": "code",
      "execution_count": null,
      "metadata": {
        "id": "dh2W9PwqK-V6",
        "outputId": "0508c728-defb-48ec-a9cb-024ccfab7171",
        "colab": {
          "base_uri": "https://localhost:8080/",
          "height": 335
        }
      },
      "outputs": [
        {
          "output_type": "stream",
          "name": "stderr",
          "text": [
            "/usr/local/lib/python3.7/dist-packages/seaborn/distributions.py:2619: FutureWarning: `distplot` is a deprecated function and will be removed in a future version. Please adapt your code to use either `displot` (a figure-level function with similar flexibility) or `histplot` (an axes-level function for histograms).\n",
            "  warnings.warn(msg, FutureWarning)\n"
          ]
        },
        {
          "output_type": "display_data",
          "data": {
            "text/plain": [
              "<Figure size 432x288 with 1 Axes>"
            ],
            "image/png": "[encoded data removed]"
          },
          "metadata": {
            "needs_background": "light"
          }
        }
      ],
      "source": [
        "#Frequency distribution plot, taking observations which have frequency less than 1000\n",
        "import seaborn as sns\n",
        "x = RFMScores.query('Frequency < 1000')['Frequency']\n",
        "\n",
        "ax = sns.distplot(x)"
      ]
    },
    {
      "cell_type": "code",
      "execution_count": null,
      "metadata": {
        "id": "qirN0sTWK-V6",
        "outputId": "ca4bf4a4-8ef5-4787-af53-05b796e78dea",
        "colab": {
          "base_uri": "https://localhost:8080/"
        }
      },
      "outputs": [
        {
          "output_type": "execute_result",
          "data": {
            "text/plain": [
              "count      3921.000000\n",
              "mean       6896.467419\n",
              "std       27683.112205\n",
              "min           0.000000\n",
              "25%        1110.148000\n",
              "50%        2411.734000\n",
              "75%        5830.793000\n",
              "max      960732.010000\n",
              "Name: Monetary, dtype: float64"
            ]
          },
          "metadata": {},
          "execution_count": 53
        }
      ],
      "source": [
        "#Descriptive Statistics (Monetary)\n",
        "RFMScores.Monetary.describe()"
      ]
    },
    {
      "cell_type": "code",
      "execution_count": null,
      "metadata": {
        "id": "0NwPB2iWK-V6",
        "outputId": "2a3a3928-ebee-4c85-978c-292ab887eb75",
        "colab": {
          "base_uri": "https://localhost:8080/",
          "height": 335
        }
      },
      "outputs": [
        {
          "output_type": "stream",
          "name": "stderr",
          "text": [
            "/usr/local/lib/python3.7/dist-packages/seaborn/distributions.py:2619: FutureWarning: `distplot` is a deprecated function and will be removed in a future version. Please adapt your code to use either `displot` (a figure-level function with similar flexibility) or `histplot` (an axes-level function for histograms).\n",
            "  warnings.warn(msg, FutureWarning)\n"
          ]
        },
        {
          "output_type": "display_data",
          "data": {
            "text/plain": [
              "<Figure size 432x288 with 1 Axes>"
            ],
            "image/png": "[encoded data removed]"
          },
          "metadata": {
            "needs_background": "light"
          }
        }
      ],
      "source": [
        "#Monateray distribution plot, taking observations which have monetary value less than 10000\n",
        "import seaborn as sns\n",
        "x = RFMScores.query('Monetary < 10000')['Monetary']\n",
        "\n",
        "ax = sns.distplot(x)"
      ]
    },
    {
      "cell_type": "code",
      "execution_count": null,
      "metadata": {
        "id": "waTqZ-wrK-V7"
      },
      "outputs": [],
      "source": [
        "#Split into four segments using quantiles\n",
        "quantiles = RFMScores.quantile(q=[0.25,0.5,0.75])\n",
        "quantiles = quantiles.to_dict()"
      ]
    },
    {
      "cell_type": "code",
      "execution_count": null,
      "metadata": {
        "id": "hsi3rDgvK-V7",
        "outputId": "d30759c4-e718-4942-f8a0-e58fe8eeded7",
        "colab": {
          "base_uri": "https://localhost:8080/"
        }
      },
      "outputs": [
        {
          "output_type": "execute_result",
          "data": {
            "text/plain": [
              "{'Frequency': {0.25: 17.0, 0.5: 41.0, 0.75: 99.0},\n",
              " 'Monetary': {0.25: 1110.148,\n",
              "  0.5: 2411.7339999999995,\n",
              "  0.75: 5830.793000000001},\n",
              " 'Recency': {0.25: 17.0, 0.5: 50.0, 0.75: 142.0}}"
            ]
          },
          "metadata": {},
          "execution_count": 43
        }
      ],
      "source": [
        "quantiles"
      ]
    },
    {
      "cell_type": "code",
      "execution_count": null,
      "metadata": {
        "id": "TOStvqp2K-V7"
      },
      "outputs": [],
      "source": [
        "#Functions to create R, F and M segments\n",
        "def RScoring(x,p,d):\n",
        "    if x <= d[p][0.25]:\n",
        "        return 1\n",
        "    elif x <= d[p][0.50]:\n",
        "        return 2\n",
        "    elif x <= d[p][0.75]: \n",
        "        return 3\n",
        "    else:\n",
        "        return 4\n",
        "    \n",
        "def FnMScoring(x,p,d):\n",
        "    if x <= d[p][0.25]:\n",
        "        return 4\n",
        "    elif x <= d[p][0.50]:\n",
        "        return 3\n",
        "    elif x <= d[p][0.75]: \n",
        "        return 2\n",
        "    else:\n",
        "        return 1"
      ]
    },
    {
      "cell_type": "code",
      "execution_count": null,
      "metadata": {
        "id": "fMbdRQQDK-V7",
        "outputId": "cb133ae8-4c45-472e-ef78-b88855185768",
        "colab": {
          "base_uri": "https://localhost:8080/",
          "height": 237
        }
      },
      "outputs": [
        {
          "output_type": "execute_result",
          "data": {
            "text/plain": [
              "             Recency  Frequency    Monetary  R  F  M\n",
              "Customer ID                                         \n",
              "12346.0          325          1  285579.320  4  4  1\n",
              "12747.0            2        103   15525.237  1  1  1\n",
              "12748.0            0       4596  124763.001  1  1  1\n",
              "12749.0            3        199   15136.256  1  1  1\n",
              "12820.0            3         59    3486.658  1  2  2"
            ],
            "text/html": [
              "\n",
              "  <div id=\"df-e0707fb3-3c88-45c2-8939-0d7ec0948330\">\n",
              "    <div class=\"colab-df-container\">\n",
              "      <div>\n",
              "<style scoped>\n",
              "    .dataframe tbody tr th:only-of-type {\n",
              "        vertical-align: middle;\n",
              "    }\n",
              "\n",
              "    .dataframe tbody tr th {\n",
              "        vertical-align: top;\n",
              "    }\n",
              "\n",
              "    .dataframe thead th {\n",
              "        text-align: right;\n",
              "    }\n",
              "</style>\n",
              "<table border=\"1\" class=\"dataframe\">\n",
              "  <thead>\n",
              "    <tr style=\"text-align: right;\">\n",
              "      <th></th>\n",
              "      <th>Recency</th>\n",
              "      <th>Frequency</th>\n",
              "      <th>Monetary</th>\n",
              "      <th>R</th>\n",
              "      <th>F</th>\n",
              "      <th>M</th>\n",
              "    </tr>\n",
              "    <tr>\n",
              "      <th>Customer ID</th>\n",
              "      <th></th>\n",
              "      <th></th>\n",
              "      <th></th>\n",
              "      <th></th>\n",
              "      <th></th>\n",
              "      <th></th>\n",
              "    </tr>\n",
              "  </thead>\n",
              "  <tbody>\n",
              "    <tr>\n",
              "      <th>12346.0</th>\n",
              "      <td>325</td>\n",
              "      <td>1</td>\n",
              "      <td>285579.320</td>\n",
              "      <td>4</td>\n",
              "      <td>4</td>\n",
              "      <td>1</td>\n",
              "    </tr>\n",
              "    <tr>\n",
              "      <th>12747.0</th>\n",
              "      <td>2</td>\n",
              "      <td>103</td>\n",
              "      <td>15525.237</td>\n",
              "      <td>1</td>\n",
              "      <td>1</td>\n",
              "      <td>1</td>\n",
              "    </tr>\n",
              "    <tr>\n",
              "      <th>12748.0</th>\n",
              "      <td>0</td>\n",
              "      <td>4596</td>\n",
              "      <td>124763.001</td>\n",
              "      <td>1</td>\n",
              "      <td>1</td>\n",
              "      <td>1</td>\n",
              "    </tr>\n",
              "    <tr>\n",
              "      <th>12749.0</th>\n",
              "      <td>3</td>\n",
              "      <td>199</td>\n",
              "      <td>15136.256</td>\n",
              "      <td>1</td>\n",
              "      <td>1</td>\n",
              "      <td>1</td>\n",
              "    </tr>\n",
              "    <tr>\n",
              "      <th>12820.0</th>\n",
              "      <td>3</td>\n",
              "      <td>59</td>\n",
              "      <td>3486.658</td>\n",
              "      <td>1</td>\n",
              "      <td>2</td>\n",
              "      <td>2</td>\n",
              "    </tr>\n",
              "  </tbody>\n",
              "</table>\n",
              "</div>\n",
              "      <button class=\"colab-df-convert\" onclick=\"convertToInteractive('df-e0707fb3-3c88-45c2-8939-0d7ec0948330')\"\n",
              "              title=\"Convert this dataframe to an interactive table.\"\n",
              "              style=\"display:none;\">\n",
              "        \n",
              "  <svg xmlns=\"http://www.w3.org/2000/svg\" height=\"24px\"viewBox=\"0 0 24 24\"\n",
              "       width=\"24px\">\n",
              "    <path d=\"M0 0h24v24H0V0z\" fill=\"none\"/>\n",
              "    <path d=\"M18.56 5.44l.94 2.06.94-2.06 2.06-.94-2.06-.94-.94-2.06-.94 2.06-2.06.94zm-11 1L8.5 8.5l.94-2.06 2.06-.94-2.06-.94L8.5 2.5l-.94 2.06-2.06.94zm10 10l.94 2.06.94-2.06 2.06-.94-2.06-.94-.94-2.06-.94 2.06-2.06.94z\"/><path d=\"M17.41 7.96l-1.37-1.37c-.4-.4-.92-.59-1.43-.59-.52 0-1.04.2-1.43.59L10.3 9.45l-7.72 7.72c-.78.78-.78 2.05 0 2.83L4 21.41c.39.39.9.59 1.41.59.51 0 1.02-.2 1.41-.59l7.78-7.78 2.81-2.81c.8-.78.8-2.07 0-2.86zM5.41 20L4 18.59l7.72-7.72 1.47 1.35L5.41 20z\"/>\n",
              "  </svg>\n",
              "      </button>\n",
              "      \n",
              "  <style>\n",
              "    .colab-df-container {\n",
              "      display:flex;\n",
              "      flex-wrap:wrap;\n",
              "      gap: 12px;\n",
              "    }\n",
              "\n",
              "    .colab-df-convert {\n",
              "      background-color: #E8F0FE;\n",
              "      border: none;\n",
              "      border-radius: 50%;\n",
              "      cursor: pointer;\n",
              "      display: none;\n",
              "      fill: #1967D2;\n",
              "      height: 32px;\n",
              "      padding: 0 0 0 0;\n",
              "      width: 32px;\n",
              "    }\n",
              "\n",
              "    .colab-df-convert:hover {\n",
              "      background-color: #E2EBFA;\n",
              "      box-shadow: 0px 1px 2px rgba(60, 64, 67, 0.3), 0px 1px 3px 1px rgba(60, 64, 67, 0.15);\n",
              "      fill: #174EA6;\n",
              "    }\n",
              "\n",
              "    [theme=dark] .colab-df-convert {\n",
              "      background-color: #3B4455;\n",
              "      fill: #D2E3FC;\n",
              "    }\n",
              "\n",
              "    [theme=dark] .colab-df-convert:hover {\n",
              "      background-color: #434B5C;\n",
              "      box-shadow: 0px 1px 3px 1px rgba(0, 0, 0, 0.15);\n",
              "      filter: drop-shadow(0px 1px 2px rgba(0, 0, 0, 0.3));\n",
              "      fill: #FFFFFF;\n",
              "    }\n",
              "  </style>\n",
              "\n",
              "      <script>\n",
              "        const buttonEl =\n",
              "          document.querySelector('#df-e0707fb3-3c88-45c2-8939-0d7ec0948330 button.colab-df-convert');\n",
              "        buttonEl.style.display =\n",
              "          google.colab.kernel.accessAllowed ? 'block' : 'none';\n",
              "\n",
              "        async function convertToInteractive(key) {\n",
              "          const element = document.querySelector('#df-e0707fb3-3c88-45c2-8939-0d7ec0948330');\n",
              "          const dataTable =\n",
              "            await google.colab.kernel.invokeFunction('convertToInteractive',\n",
              "                                                     [key], {});\n",
              "          if (!dataTable) return;\n",
              "\n",
              "          const docLinkHtml = 'Like what you see? Visit the ' +\n",
              "            '<a target=\"_blank\" href=https://colab.research.google.com/notebooks/data_table.ipynb>data table notebook</a>'\n",
              "            + ' to learn more about interactive tables.';\n",
              "          element.innerHTML = '';\n",
              "          dataTable['output_type'] = 'display_data';\n",
              "          await google.colab.output.renderOutput(dataTable, element);\n",
              "          const docLink = document.createElement('div');\n",
              "          docLink.innerHTML = docLinkHtml;\n",
              "          element.appendChild(docLink);\n",
              "        }\n",
              "      </script>\n",
              "    </div>\n",
              "  </div>\n",
              "  "
            ]
          },
          "metadata": {},
          "execution_count": 47
        }
      ],
      "source": [
        "#Calculate Add R, F and M segment value columns in the existing dataset to show R, F and M segment values\n",
        "RFMScores['R'] = RFMScores['Recency'].apply(RScoring, args=('Recency',quantiles,))\n",
        "RFMScores['F'] = RFMScores['Frequency'].apply(FnMScoring, args=('Frequency',quantiles,))\n",
        "RFMScores['M'] = RFMScores['Monetary'].apply(FnMScoring, args=('Monetary',quantiles,))\n",
        "RFMScores.head()"
      ]
    },
    {
      "cell_type": "code",
      "execution_count": null,
      "metadata": {
        "id": "wnsOue0AK-V8",
        "outputId": "68056427-888c-4697-b95a-ba450ae3b843",
        "colab": {
          "base_uri": "https://localhost:8080/",
          "height": 237
        }
      },
      "outputs": [
        {
          "output_type": "execute_result",
          "data": {
            "text/plain": [
              "             Recency  Frequency    Monetary  R  F  M RFMGroup  RFMScore\n",
              "Customer ID                                                            \n",
              "12346.0          325          1  285579.320  4  4  1      441         9\n",
              "12747.0            2        103   15525.237  1  1  1      111         3\n",
              "12748.0            0       4596  124763.001  1  1  1      111         3\n",
              "12749.0            3        199   15136.256  1  1  1      111         3\n",
              "12820.0            3         59    3486.658  1  2  2      122         5"
            ],
            "text/html": [
              "\n",
              "  <div id=\"df-9c18ac44-a005-409b-8c12-47e83c4a07ea\">\n",
              "    <div class=\"colab-df-container\">\n",
              "      <div>\n",
              "<style scoped>\n",
              "    .dataframe tbody tr th:only-of-type {\n",
              "        vertical-align: middle;\n",
              "    }\n",
              "\n",
              "    .dataframe tbody tr th {\n",
              "        vertical-align: top;\n",
              "    }\n",
              "\n",
              "    .dataframe thead th {\n",
              "        text-align: right;\n",
              "    }\n",
              "</style>\n",
              "<table border=\"1\" class=\"dataframe\">\n",
              "  <thead>\n",
              "    <tr style=\"text-align: right;\">\n",
              "      <th></th>\n",
              "      <th>Recency</th>\n",
              "      <th>Frequency</th>\n",
              "      <th>Monetary</th>\n",
              "      <th>R</th>\n",
              "      <th>F</th>\n",
              "      <th>M</th>\n",
              "      <th>RFMGroup</th>\n",
              "      <th>RFMScore</th>\n",
              "    </tr>\n",
              "    <tr>\n",
              "      <th>Customer ID</th>\n",
              "      <th></th>\n",
              "      <th></th>\n",
              "      <th></th>\n",
              "      <th></th>\n",
              "      <th></th>\n",
              "      <th></th>\n",
              "      <th></th>\n",
              "      <th></th>\n",
              "    </tr>\n",
              "  </thead>\n",
              "  <tbody>\n",
              "    <tr>\n",
              "      <th>12346.0</th>\n",
              "      <td>325</td>\n",
              "      <td>1</td>\n",
              "      <td>285579.320</td>\n",
              "      <td>4</td>\n",
              "      <td>4</td>\n",
              "      <td>1</td>\n",
              "      <td>441</td>\n",
              "      <td>9</td>\n",
              "    </tr>\n",
              "    <tr>\n",
              "      <th>12747.0</th>\n",
              "      <td>2</td>\n",
              "      <td>103</td>\n",
              "      <td>15525.237</td>\n",
              "      <td>1</td>\n",
              "      <td>1</td>\n",
              "      <td>1</td>\n",
              "      <td>111</td>\n",
              "      <td>3</td>\n",
              "    </tr>\n",
              "    <tr>\n",
              "      <th>12748.0</th>\n",
              "      <td>0</td>\n",
              "      <td>4596</td>\n",
              "      <td>124763.001</td>\n",
              "      <td>1</td>\n",
              "      <td>1</td>\n",
              "      <td>1</td>\n",
              "      <td>111</td>\n",
              "      <td>3</td>\n",
              "    </tr>\n",
              "    <tr>\n",
              "      <th>12749.0</th>\n",
              "      <td>3</td>\n",
              "      <td>199</td>\n",
              "      <td>15136.256</td>\n",
              "      <td>1</td>\n",
              "      <td>1</td>\n",
              "      <td>1</td>\n",
              "      <td>111</td>\n",
              "      <td>3</td>\n",
              "    </tr>\n",
              "    <tr>\n",
              "      <th>12820.0</th>\n",
              "      <td>3</td>\n",
              "      <td>59</td>\n",
              "      <td>3486.658</td>\n",
              "      <td>1</td>\n",
              "      <td>2</td>\n",
              "      <td>2</td>\n",
              "      <td>122</td>\n",
              "      <td>5</td>\n",
              "    </tr>\n",
              "  </tbody>\n",
              "</table>\n",
              "</div>\n",
              "      <button class=\"colab-df-convert\" onclick=\"convertToInteractive('df-9c18ac44-a005-409b-8c12-47e83c4a07ea')\"\n",
              "              title=\"Convert this dataframe to an interactive table.\"\n",
              "              style=\"display:none;\">\n",
              "        \n",
              "  <svg xmlns=\"http://www.w3.org/2000/svg\" height=\"24px\"viewBox=\"0 0 24 24\"\n",
              "       width=\"24px\">\n",
              "    <path d=\"M0 0h24v24H0V0z\" fill=\"none\"/>\n",
              "    <path d=\"M18.56 5.44l.94 2.06.94-2.06 2.06-.94-2.06-.94-.94-2.06-.94 2.06-2.06.94zm-11 1L8.5 8.5l.94-2.06 2.06-.94-2.06-.94L8.5 2.5l-.94 2.06-2.06.94zm10 10l.94 2.06.94-2.06 2.06-.94-2.06-.94-.94-2.06-.94 2.06-2.06.94z\"/><path d=\"M17.41 7.96l-1.37-1.37c-.4-.4-.92-.59-1.43-.59-.52 0-1.04.2-1.43.59L10.3 9.45l-7.72 7.72c-.78.78-.78 2.05 0 2.83L4 21.41c.39.39.9.59 1.41.59.51 0 1.02-.2 1.41-.59l7.78-7.78 2.81-2.81c.8-.78.8-2.07 0-2.86zM5.41 20L4 18.59l7.72-7.72 1.47 1.35L5.41 20z\"/>\n",
              "  </svg>\n",
              "      </button>\n",
              "      \n",
              "  <style>\n",
              "    .colab-df-container {\n",
              "      display:flex;\n",
              "      flex-wrap:wrap;\n",
              "      gap: 12px;\n",
              "    }\n",
              "\n",
              "    .colab-df-convert {\n",
              "      background-color: #E8F0FE;\n",
              "      border: none;\n",
              "      border-radius: 50%;\n",
              "      cursor: pointer;\n",
              "      display: none;\n",
              "      fill: #1967D2;\n",
              "      height: 32px;\n",
              "      padding: 0 0 0 0;\n",
              "      width: 32px;\n",
              "    }\n",
              "\n",
              "    .colab-df-convert:hover {\n",
              "      background-color: #E2EBFA;\n",
              "      box-shadow: 0px 1px 2px rgba(60, 64, 67, 0.3), 0px 1px 3px 1px rgba(60, 64, 67, 0.15);\n",
              "      fill: #174EA6;\n",
              "    }\n",
              "\n",
              "    [theme=dark] .colab-df-convert {\n",
              "      background-color: #3B4455;\n",
              "      fill: #D2E3FC;\n",
              "    }\n",
              "\n",
              "    [theme=dark] .colab-df-convert:hover {\n",
              "      background-color: #434B5C;\n",
              "      box-shadow: 0px 1px 3px 1px rgba(0, 0, 0, 0.15);\n",
              "      filter: drop-shadow(0px 1px 2px rgba(0, 0, 0, 0.3));\n",
              "      fill: #FFFFFF;\n",
              "    }\n",
              "  </style>\n",
              "\n",
              "      <script>\n",
              "        const buttonEl =\n",
              "          document.querySelector('#df-9c18ac44-a005-409b-8c12-47e83c4a07ea button.colab-df-convert');\n",
              "        buttonEl.style.display =\n",
              "          google.colab.kernel.accessAllowed ? 'block' : 'none';\n",
              "\n",
              "        async function convertToInteractive(key) {\n",
              "          const element = document.querySelector('#df-9c18ac44-a005-409b-8c12-47e83c4a07ea');\n",
              "          const dataTable =\n",
              "            await google.colab.kernel.invokeFunction('convertToInteractive',\n",
              "                                                     [key], {});\n",
              "          if (!dataTable) return;\n",
              "\n",
              "          const docLinkHtml = 'Like what you see? Visit the ' +\n",
              "            '<a target=\"_blank\" href=https://colab.research.google.com/notebooks/data_table.ipynb>data table notebook</a>'\n",
              "            + ' to learn more about interactive tables.';\n",
              "          element.innerHTML = '';\n",
              "          dataTable['output_type'] = 'display_data';\n",
              "          await google.colab.output.renderOutput(dataTable, element);\n",
              "          const docLink = document.createElement('div');\n",
              "          docLink.innerHTML = docLinkHtml;\n",
              "          element.appendChild(docLink);\n",
              "        }\n",
              "      </script>\n",
              "    </div>\n",
              "  </div>\n",
              "  "
            ]
          },
          "metadata": {},
          "execution_count": 48
        }
      ],
      "source": [
        "#Calculate and Add RFMGroup value column showing combined concatenated score of RFM\n",
        "RFMScores['RFMGroup'] = RFMScores.R.map(str) + RFMScores.F.map(str) + RFMScores.M.map(str)\n",
        "\n",
        "#Calculate and Add RFMScore value column showing total sum of RFMGroup values\n",
        "RFMScores['RFMScore'] = RFMScores[['R', 'F', 'M']].sum(axis = 1)\n",
        "RFMScores.head()\n"
      ]
    },
    {
      "cell_type": "code",
      "execution_count": null,
      "metadata": {
        "id": "rvJ0O42pK-V8",
        "outputId": "839b39c2-8a79-4e68-e36c-deb7c4eb3429",
        "colab": {
          "base_uri": "https://localhost:8080/",
          "height": 206
        }
      },
      "outputs": [
        {
          "output_type": "execute_result",
          "data": {
            "text/plain": [
              "   Customer ID  Recency  Frequency    Monetary  R  F  M RFMGroup  RFMScore  \\\n",
              "0      12346.0      325          1  285579.320  4  4  1      441         9   \n",
              "1      12747.0        2        103   15525.237  1  1  1      111         3   \n",
              "2      12748.0        0       4596  124763.001  1  1  1      111         3   \n",
              "3      12749.0        3        199   15136.256  1  1  1      111         3   \n",
              "4      12820.0        3         59    3486.658  1  2  2      122         5   \n",
              "\n",
              "  RFM_Loyalty_Level  \n",
              "0            Silver  \n",
              "1          Platinum  \n",
              "2          Platinum  \n",
              "3          Platinum  \n",
              "4          Platinum  "
            ],
            "text/html": [
              "\n",
              "  <div id=\"df-2c775f57-9252-47ee-acc8-c9265d23e173\">\n",
              "    <div class=\"colab-df-container\">\n",
              "      <div>\n",
              "<style scoped>\n",
              "    .dataframe tbody tr th:only-of-type {\n",
              "        vertical-align: middle;\n",
              "    }\n",
              "\n",
              "    .dataframe tbody tr th {\n",
              "        vertical-align: top;\n",
              "    }\n",
              "\n",
              "    .dataframe thead th {\n",
              "        text-align: right;\n",
              "    }\n",
              "</style>\n",
              "<table border=\"1\" class=\"dataframe\">\n",
              "  <thead>\n",
              "    <tr style=\"text-align: right;\">\n",
              "      <th></th>\n",
              "      <th>Customer ID</th>\n",
              "      <th>Recency</th>\n",
              "      <th>Frequency</th>\n",
              "      <th>Monetary</th>\n",
              "      <th>R</th>\n",
              "      <th>F</th>\n",
              "      <th>M</th>\n",
              "      <th>RFMGroup</th>\n",
              "      <th>RFMScore</th>\n",
              "      <th>RFM_Loyalty_Level</th>\n",
              "    </tr>\n",
              "  </thead>\n",
              "  <tbody>\n",
              "    <tr>\n",
              "      <th>0</th>\n",
              "      <td>12346.0</td>\n",
              "      <td>325</td>\n",
              "      <td>1</td>\n",
              "      <td>285579.320</td>\n",
              "      <td>4</td>\n",
              "      <td>4</td>\n",
              "      <td>1</td>\n",
              "      <td>441</td>\n",
              "      <td>9</td>\n",
              "      <td>Silver</td>\n",
              "    </tr>\n",
              "    <tr>\n",
              "      <th>1</th>\n",
              "      <td>12747.0</td>\n",
              "      <td>2</td>\n",
              "      <td>103</td>\n",
              "      <td>15525.237</td>\n",
              "      <td>1</td>\n",
              "      <td>1</td>\n",
              "      <td>1</td>\n",
              "      <td>111</td>\n",
              "      <td>3</td>\n",
              "      <td>Platinum</td>\n",
              "    </tr>\n",
              "    <tr>\n",
              "      <th>2</th>\n",
              "      <td>12748.0</td>\n",
              "      <td>0</td>\n",
              "      <td>4596</td>\n",
              "      <td>124763.001</td>\n",
              "      <td>1</td>\n",
              "      <td>1</td>\n",
              "      <td>1</td>\n",
              "      <td>111</td>\n",
              "      <td>3</td>\n",
              "      <td>Platinum</td>\n",
              "    </tr>\n",
              "    <tr>\n",
              "      <th>3</th>\n",
              "      <td>12749.0</td>\n",
              "      <td>3</td>\n",
              "      <td>199</td>\n",
              "      <td>15136.256</td>\n",
              "      <td>1</td>\n",
              "      <td>1</td>\n",
              "      <td>1</td>\n",
              "      <td>111</td>\n",
              "      <td>3</td>\n",
              "      <td>Platinum</td>\n",
              "    </tr>\n",
              "    <tr>\n",
              "      <th>4</th>\n",
              "      <td>12820.0</td>\n",
              "      <td>3</td>\n",
              "      <td>59</td>\n",
              "      <td>3486.658</td>\n",
              "      <td>1</td>\n",
              "      <td>2</td>\n",
              "      <td>2</td>\n",
              "      <td>122</td>\n",
              "      <td>5</td>\n",
              "      <td>Platinum</td>\n",
              "    </tr>\n",
              "  </tbody>\n",
              "</table>\n",
              "</div>\n",
              "      <button class=\"colab-df-convert\" onclick=\"convertToInteractive('df-2c775f57-9252-47ee-acc8-c9265d23e173')\"\n",
              "              title=\"Convert this dataframe to an interactive table.\"\n",
              "              style=\"display:none;\">\n",
              "        \n",
              "  <svg xmlns=\"http://www.w3.org/2000/svg\" height=\"24px\"viewBox=\"0 0 24 24\"\n",
              "       width=\"24px\">\n",
              "    <path d=\"M0 0h24v24H0V0z\" fill=\"none\"/>\n",
              "    <path d=\"M18.56 5.44l.94 2.06.94-2.06 2.06-.94-2.06-.94-.94-2.06-.94 2.06-2.06.94zm-11 1L8.5 8.5l.94-2.06 2.06-.94-2.06-.94L8.5 2.5l-.94 2.06-2.06.94zm10 10l.94 2.06.94-2.06 2.06-.94-2.06-.94-.94-2.06-.94 2.06-2.06.94z\"/><path d=\"M17.41 7.96l-1.37-1.37c-.4-.4-.92-.59-1.43-.59-.52 0-1.04.2-1.43.59L10.3 9.45l-7.72 7.72c-.78.78-.78 2.05 0 2.83L4 21.41c.39.39.9.59 1.41.59.51 0 1.02-.2 1.41-.59l7.78-7.78 2.81-2.81c.8-.78.8-2.07 0-2.86zM5.41 20L4 18.59l7.72-7.72 1.47 1.35L5.41 20z\"/>\n",
              "  </svg>\n",
              "      </button>\n",
              "      \n",
              "  <style>\n",
              "    .colab-df-container {\n",
              "      display:flex;\n",
              "      flex-wrap:wrap;\n",
              "      gap: 12px;\n",
              "    }\n",
              "\n",
              "    .colab-df-convert {\n",
              "      background-color: #E8F0FE;\n",
              "      border: none;\n",
              "      border-radius: 50%;\n",
              "      cursor: pointer;\n",
              "      display: none;\n",
              "      fill: #1967D2;\n",
              "      height: 32px;\n",
              "      padding: 0 0 0 0;\n",
              "      width: 32px;\n",
              "    }\n",
              "\n",
              "    .colab-df-convert:hover {\n",
              "      background-color: #E2EBFA;\n",
              "      box-shadow: 0px 1px 2px rgba(60, 64, 67, 0.3), 0px 1px 3px 1px rgba(60, 64, 67, 0.15);\n",
              "      fill: #174EA6;\n",
              "    }\n",
              "\n",
              "    [theme=dark] .colab-df-convert {\n",
              "      background-color: #3B4455;\n",
              "      fill: #D2E3FC;\n",
              "    }\n",
              "\n",
              "    [theme=dark] .colab-df-convert:hover {\n",
              "      background-color: #434B5C;\n",
              "      box-shadow: 0px 1px 3px 1px rgba(0, 0, 0, 0.15);\n",
              "      filter: drop-shadow(0px 1px 2px rgba(0, 0, 0, 0.3));\n",
              "      fill: #FFFFFF;\n",
              "    }\n",
              "  </style>\n",
              "\n",
              "      <script>\n",
              "        const buttonEl =\n",
              "          document.querySelector('#df-2c775f57-9252-47ee-acc8-c9265d23e173 button.colab-df-convert');\n",
              "        buttonEl.style.display =\n",
              "          google.colab.kernel.accessAllowed ? 'block' : 'none';\n",
              "\n",
              "        async function convertToInteractive(key) {\n",
              "          const element = document.querySelector('#df-2c775f57-9252-47ee-acc8-c9265d23e173');\n",
              "          const dataTable =\n",
              "            await google.colab.kernel.invokeFunction('convertToInteractive',\n",
              "                                                     [key], {});\n",
              "          if (!dataTable) return;\n",
              "\n",
              "          const docLinkHtml = 'Like what you see? Visit the ' +\n",
              "            '<a target=\"_blank\" href=https://colab.research.google.com/notebooks/data_table.ipynb>data table notebook</a>'\n",
              "            + ' to learn more about interactive tables.';\n",
              "          element.innerHTML = '';\n",
              "          dataTable['output_type'] = 'display_data';\n",
              "          await google.colab.output.renderOutput(dataTable, element);\n",
              "          const docLink = document.createElement('div');\n",
              "          docLink.innerHTML = docLinkHtml;\n",
              "          element.appendChild(docLink);\n",
              "        }\n",
              "      </script>\n",
              "    </div>\n",
              "  </div>\n",
              "  "
            ]
          },
          "metadata": {},
          "execution_count": 49
        }
      ],
      "source": [
        "#Assign Loyalty Level to each customer\n",
        "Loyalty_Level = ['Platinum', 'Gold', 'Silver', 'Bronze']\n",
        "Score_cuts = pd.qcut(RFMScores.RFMScore, q = 4, labels = Loyalty_Level)\n",
        "RFMScores['RFM_Loyalty_Level'] = Score_cuts.values\n",
        "RFMScores.reset_index().head()"
      ]
    },
    {
      "cell_type": "code",
      "execution_count": null,
      "metadata": {
        "id": "8xQDWajgK-V8",
        "outputId": "7338190e-0e0b-4623-ada6-e1b8007052e8",
        "colab": {
          "base_uri": "https://localhost:8080/",
          "height": 363
        }
      },
      "outputs": [
        {
          "output_type": "execute_result",
          "data": {
            "text/plain": [
              "   Customer ID  Recency  Frequency    Monetary  R  F  M RFMGroup  RFMScore  \\\n",
              "0      18102.0        0        431  960732.010  1  1  1      111         3   \n",
              "1      17450.0        8        337  719837.923  1  1  1      111         3   \n",
              "2      17511.0        2        963  336930.806  1  1  1      111         3   \n",
              "3      16684.0        4        277  246618.172  1  1  1      111         3   \n",
              "4      14096.0        4       5111  241109.723  1  1  1      111         3   \n",
              "5      13694.0        3        568  240646.594  1  1  1      111         3   \n",
              "6      15311.0        0       2379  224841.230  1  1  1      111         3   \n",
              "7      13089.0        2       1818  217655.571  1  1  1      111         3   \n",
              "8      15769.0        7        130  208135.064  1  1  1      111         3   \n",
              "9      15061.0        3        403  201776.318  1  1  1      111         3   \n",
              "\n",
              "  RFM_Loyalty_Level  \n",
              "0          Platinum  \n",
              "1          Platinum  \n",
              "2          Platinum  \n",
              "3          Platinum  \n",
              "4          Platinum  \n",
              "5          Platinum  \n",
              "6          Platinum  \n",
              "7          Platinum  \n",
              "8          Platinum  \n",
              "9          Platinum  "
            ],
            "text/html": [
              "\n",
              "  <div id=\"df-493783dc-445a-4e6e-866b-aece2ddb97c9\">\n",
              "    <div class=\"colab-df-container\">\n",
              "      <div>\n",
              "<style scoped>\n",
              "    .dataframe tbody tr th:only-of-type {\n",
              "        vertical-align: middle;\n",
              "    }\n",
              "\n",
              "    .dataframe tbody tr th {\n",
              "        vertical-align: top;\n",
              "    }\n",
              "\n",
              "    .dataframe thead th {\n",
              "        text-align: right;\n",
              "    }\n",
              "</style>\n",
              "<table border=\"1\" class=\"dataframe\">\n",
              "  <thead>\n",
              "    <tr style=\"text-align: right;\">\n",
              "      <th></th>\n",
              "      <th>Customer ID</th>\n",
              "      <th>Recency</th>\n",
              "      <th>Frequency</th>\n",
              "      <th>Monetary</th>\n",
              "      <th>R</th>\n",
              "      <th>F</th>\n",
              "      <th>M</th>\n",
              "      <th>RFMGroup</th>\n",
              "      <th>RFMScore</th>\n",
              "      <th>RFM_Loyalty_Level</th>\n",
              "    </tr>\n",
              "  </thead>\n",
              "  <tbody>\n",
              "    <tr>\n",
              "      <th>0</th>\n",
              "      <td>18102.0</td>\n",
              "      <td>0</td>\n",
              "      <td>431</td>\n",
              "      <td>960732.010</td>\n",
              "      <td>1</td>\n",
              "      <td>1</td>\n",
              "      <td>1</td>\n",
              "      <td>111</td>\n",
              "      <td>3</td>\n",
              "      <td>Platinum</td>\n",
              "    </tr>\n",
              "    <tr>\n",
              "      <th>1</th>\n",
              "      <td>17450.0</td>\n",
              "      <td>8</td>\n",
              "      <td>337</td>\n",
              "      <td>719837.923</td>\n",
              "      <td>1</td>\n",
              "      <td>1</td>\n",
              "      <td>1</td>\n",
              "      <td>111</td>\n",
              "      <td>3</td>\n",
              "      <td>Platinum</td>\n",
              "    </tr>\n",
              "    <tr>\n",
              "      <th>2</th>\n",
              "      <td>17511.0</td>\n",
              "      <td>2</td>\n",
              "      <td>963</td>\n",
              "      <td>336930.806</td>\n",
              "      <td>1</td>\n",
              "      <td>1</td>\n",
              "      <td>1</td>\n",
              "      <td>111</td>\n",
              "      <td>3</td>\n",
              "      <td>Platinum</td>\n",
              "    </tr>\n",
              "    <tr>\n",
              "      <th>3</th>\n",
              "      <td>16684.0</td>\n",
              "      <td>4</td>\n",
              "      <td>277</td>\n",
              "      <td>246618.172</td>\n",
              "      <td>1</td>\n",
              "      <td>1</td>\n",
              "      <td>1</td>\n",
              "      <td>111</td>\n",
              "      <td>3</td>\n",
              "      <td>Platinum</td>\n",
              "    </tr>\n",
              "    <tr>\n",
              "      <th>4</th>\n",
              "      <td>14096.0</td>\n",
              "      <td>4</td>\n",
              "      <td>5111</td>\n",
              "      <td>241109.723</td>\n",
              "      <td>1</td>\n",
              "      <td>1</td>\n",
              "      <td>1</td>\n",
              "      <td>111</td>\n",
              "      <td>3</td>\n",
              "      <td>Platinum</td>\n",
              "    </tr>\n",
              "    <tr>\n",
              "      <th>5</th>\n",
              "      <td>13694.0</td>\n",
              "      <td>3</td>\n",
              "      <td>568</td>\n",
              "      <td>240646.594</td>\n",
              "      <td>1</td>\n",
              "      <td>1</td>\n",
              "      <td>1</td>\n",
              "      <td>111</td>\n",
              "      <td>3</td>\n",
              "      <td>Platinum</td>\n",
              "    </tr>\n",
              "    <tr>\n",
              "      <th>6</th>\n",
              "      <td>15311.0</td>\n",
              "      <td>0</td>\n",
              "      <td>2379</td>\n",
              "      <td>224841.230</td>\n",
              "      <td>1</td>\n",
              "      <td>1</td>\n",
              "      <td>1</td>\n",
              "      <td>111</td>\n",
              "      <td>3</td>\n",
              "      <td>Platinum</td>\n",
              "    </tr>\n",
              "    <tr>\n",
              "      <th>7</th>\n",
              "      <td>13089.0</td>\n",
              "      <td>2</td>\n",
              "      <td>1818</td>\n",
              "      <td>217655.571</td>\n",
              "      <td>1</td>\n",
              "      <td>1</td>\n",
              "      <td>1</td>\n",
              "      <td>111</td>\n",
              "      <td>3</td>\n",
              "      <td>Platinum</td>\n",
              "    </tr>\n",
              "    <tr>\n",
              "      <th>8</th>\n",
              "      <td>15769.0</td>\n",
              "      <td>7</td>\n",
              "      <td>130</td>\n",
              "      <td>208135.064</td>\n",
              "      <td>1</td>\n",
              "      <td>1</td>\n",
              "      <td>1</td>\n",
              "      <td>111</td>\n",
              "      <td>3</td>\n",
              "      <td>Platinum</td>\n",
              "    </tr>\n",
              "    <tr>\n",
              "      <th>9</th>\n",
              "      <td>15061.0</td>\n",
              "      <td>3</td>\n",
              "      <td>403</td>\n",
              "      <td>201776.318</td>\n",
              "      <td>1</td>\n",
              "      <td>1</td>\n",
              "      <td>1</td>\n",
              "      <td>111</td>\n",
              "      <td>3</td>\n",
              "      <td>Platinum</td>\n",
              "    </tr>\n",
              "  </tbody>\n",
              "</table>\n",
              "</div>\n",
              "      <button class=\"colab-df-convert\" onclick=\"convertToInteractive('df-493783dc-445a-4e6e-866b-aece2ddb97c9')\"\n",
              "              title=\"Convert this dataframe to an interactive table.\"\n",
              "              style=\"display:none;\">\n",
              "        \n",
              "  <svg xmlns=\"http://www.w3.org/2000/svg\" height=\"24px\"viewBox=\"0 0 24 24\"\n",
              "       width=\"24px\">\n",
              "    <path d=\"M0 0h24v24H0V0z\" fill=\"none\"/>\n",
              "    <path d=\"M18.56 5.44l.94 2.06.94-2.06 2.06-.94-2.06-.94-.94-2.06-.94 2.06-2.06.94zm-11 1L8.5 8.5l.94-2.06 2.06-.94-2.06-.94L8.5 2.5l-.94 2.06-2.06.94zm10 10l.94 2.06.94-2.06 2.06-.94-2.06-.94-.94-2.06-.94 2.06-2.06.94z\"/><path d=\"M17.41 7.96l-1.37-1.37c-.4-.4-.92-.59-1.43-.59-.52 0-1.04.2-1.43.59L10.3 9.45l-7.72 7.72c-.78.78-.78 2.05 0 2.83L4 21.41c.39.39.9.59 1.41.59.51 0 1.02-.2 1.41-.59l7.78-7.78 2.81-2.81c.8-.78.8-2.07 0-2.86zM5.41 20L4 18.59l7.72-7.72 1.47 1.35L5.41 20z\"/>\n",
              "  </svg>\n",
              "      </button>\n",
              "      \n",
              "  <style>\n",
              "    .colab-df-container {\n",
              "      display:flex;\n",
              "      flex-wrap:wrap;\n",
              "      gap: 12px;\n",
              "    }\n",
              "\n",
              "    .colab-df-convert {\n",
              "      background-color: #E8F0FE;\n",
              "      border: none;\n",
              "      border-radius: 50%;\n",
              "      cursor: pointer;\n",
              "      display: none;\n",
              "      fill: #1967D2;\n",
              "      height: 32px;\n",
              "      padding: 0 0 0 0;\n",
              "      width: 32px;\n",
              "    }\n",
              "\n",
              "    .colab-df-convert:hover {\n",
              "      background-color: #E2EBFA;\n",
              "      box-shadow: 0px 1px 2px rgba(60, 64, 67, 0.3), 0px 1px 3px 1px rgba(60, 64, 67, 0.15);\n",
              "      fill: #174EA6;\n",
              "    }\n",
              "\n",
              "    [theme=dark] .colab-df-convert {\n",
              "      background-color: #3B4455;\n",
              "      fill: #D2E3FC;\n",
              "    }\n",
              "\n",
              "    [theme=dark] .colab-df-convert:hover {\n",
              "      background-color: #434B5C;\n",
              "      box-shadow: 0px 1px 3px 1px rgba(0, 0, 0, 0.15);\n",
              "      filter: drop-shadow(0px 1px 2px rgba(0, 0, 0, 0.3));\n",
              "      fill: #FFFFFF;\n",
              "    }\n",
              "  </style>\n",
              "\n",
              "      <script>\n",
              "        const buttonEl =\n",
              "          document.querySelector('#df-493783dc-445a-4e6e-866b-aece2ddb97c9 button.colab-df-convert');\n",
              "        buttonEl.style.display =\n",
              "          google.colab.kernel.accessAllowed ? 'block' : 'none';\n",
              "\n",
              "        async function convertToInteractive(key) {\n",
              "          const element = document.querySelector('#df-493783dc-445a-4e6e-866b-aece2ddb97c9');\n",
              "          const dataTable =\n",
              "            await google.colab.kernel.invokeFunction('convertToInteractive',\n",
              "                                                     [key], {});\n",
              "          if (!dataTable) return;\n",
              "\n",
              "          const docLinkHtml = 'Like what you see? Visit the ' +\n",
              "            '<a target=\"_blank\" href=https://colab.research.google.com/notebooks/data_table.ipynb>data table notebook</a>'\n",
              "            + ' to learn more about interactive tables.';\n",
              "          element.innerHTML = '';\n",
              "          dataTable['output_type'] = 'display_data';\n",
              "          await google.colab.output.renderOutput(dataTable, element);\n",
              "          const docLink = document.createElement('div');\n",
              "          docLink.innerHTML = docLinkHtml;\n",
              "          element.appendChild(docLink);\n",
              "        }\n",
              "      </script>\n",
              "    </div>\n",
              "  </div>\n",
              "  "
            ]
          },
          "metadata": {},
          "execution_count": 50
        }
      ],
      "source": [
        "#Validate the data for RFMGroup = 111\n",
        "RFMScores[RFMScores['RFMGroup']=='111'].sort_values('Monetary', ascending=False).reset_index().head(10)"
      ]
    },
    {
      "cell_type": "code",
      "source": [
        "pip install chart_studio"
      ],
      "metadata": {
        "colab": {
          "base_uri": "https://localhost:8080/"
        },
        "id": "fEPT4uoQG360",
        "outputId": "9824524a-655b-49d9-ee21-b009c21fa55c"
      },
      "execution_count": null,
      "outputs": [
        {
          "output_type": "stream",
          "name": "stdout",
          "text": [
            "Looking in indexes: https://pypi.org/simple, https://us-python.pkg.dev/colab-wheels/public/simple/\n",
            "Collecting chart_studio\n",
            "  Downloading chart_studio-1.1.0-py3-none-any.whl (64 kB)\n",
            "\u001b[K     |████████████████████████████████| 64 kB 1.8 MB/s \n",
            "\u001b[?25hRequirement already satisfied: requests in /usr/local/lib/python3.7/dist-packages (from chart_studio) (2.23.0)\n",
            "Requirement already satisfied: plotly in /usr/local/lib/python3.7/dist-packages (from chart_studio) (5.5.0)\n",
            "Requirement already satisfied: six in /usr/local/lib/python3.7/dist-packages (from chart_studio) (1.15.0)\n",
            "Collecting retrying>=1.3.3\n",
            "  Downloading retrying-1.3.3.tar.gz (10 kB)\n",
            "Requirement already satisfied: tenacity>=6.2.0 in /usr/local/lib/python3.7/dist-packages (from plotly->chart_studio) (8.0.1)\n",
            "Requirement already satisfied: urllib3!=1.25.0,!=1.25.1,<1.26,>=1.21.1 in /usr/local/lib/python3.7/dist-packages (from requests->chart_studio) (1.24.3)\n",
            "Requirement already satisfied: certifi>=2017.4.17 in /usr/local/lib/python3.7/dist-packages (from requests->chart_studio) (2022.6.15)\n",
            "Requirement already satisfied: chardet<4,>=3.0.2 in /usr/local/lib/python3.7/dist-packages (from requests->chart_studio) (3.0.4)\n",
            "Requirement already satisfied: idna<3,>=2.5 in /usr/local/lib/python3.7/dist-packages (from requests->chart_studio) (2.10)\n",
            "Building wheels for collected packages: retrying\n",
            "  Building wheel for retrying (setup.py) ... \u001b[?25l\u001b[?25hdone\n",
            "  Created wheel for retrying: filename=retrying-1.3.3-py3-none-any.whl size=11447 sha256=381104dfd32ed8b724c9cb001a31e79cef7edd07262cc90a69b341b5010222e4\n",
            "  Stored in directory: /root/.cache/pip/wheels/f9/8d/8d/f6af3f7f9eea3553bc2fe6d53e4b287dad18b06a861ac56ddf\n",
            "Successfully built retrying\n",
            "Installing collected packages: retrying, chart-studio\n",
            "Successfully installed chart-studio-1.1.0 retrying-1.3.3\n"
          ]
        }
      ]
    },
    {
      "cell_type": "code",
      "execution_count": null,
      "metadata": {
        "id": "kQmgX52mK-V8",
        "outputId": "7f7763cb-9c6f-4151-a81f-350be2b35290",
        "colab": {
          "base_uri": "https://localhost:8080/",
          "height": 1000
        }
      },
      "outputs": [
        {
          "output_type": "display_data",
          "data": {
            "text/html": [
              "<html>\n",
              "<head><meta charset=\"utf-8\" /></head>\n",
              "<body>\n",
              "    <div>            <script src=\"https://cdnjs.cloudflare.com/ajax/libs/mathjax/2.7.5/MathJax.js?config=TeX-AMS-MML_SVG\"></script><script type=\"text/javascript\">if (window.MathJax) {MathJax.Hub.Config({SVG: {font: \"STIX-Web\"}});}</script>                <script type=\"text/javascript\">window.PlotlyConfig = {MathJaxConfig: 'local'};</script>\n",
              "        <script src=\"https://cdn.plot.ly/plotly-2.8.3.min.js\"></script>                <div id=\"e347ac87-7815-4517-8e47-fdec8b1843d9\" class=\"plotly-graph-div\" style=\"height:525px; width:100%;\"></div>            <script type=\"text/javascript\">                                    window.PLOTLYENV=window.PLOTLYENV || {};                                    if (document.getElementById(\"e347ac87-7815-4517-8e47-fdec8b1843d9\")) {                    Plotly.newPlot(                        \"e347ac87-7815-4517-8e47-fdec8b1843d9\",                        [{\"marker\":{\"color\":\"blue\",\"line\":{\"width\":1},\"opacity\":0.8,\"size\":7},\"mode\":\"markers\",\"name\":\"Bronze\",\"x\":[214,336,262,173,294,372,138,282,143,275,214,185,204,264,311,306,112,197,156,85,318,105,56,323,372,357,273,249,253,72,191,373,82,192,266,179,70,99,234,133,372,238,77,94,261,273,332,313,64,267,337,135,267,127,200,273,201,225,112,263,366,113,78,59,330,359,137,268,155,120,64,71,365,280,203,63,149,91,259,165,252,184,99,200,232,65,241,71,243,260,126,73,78,319,215,243,309,306,312,173,252,120,179,60,301,151,187,285,182,59,155,318,218,246,269,246,217,162,373,288,151,218,103,250,367,66,255,63,367,176,211,252,168,57,326,74,63,86,71,325,351,294,169,65,360,145,70,287,206,60,213,211,277,60,176,266,284,124,65,266,266,320,364,56,324,154,72,273,143,133,233,266,173,275,331,218,94,373,326,183,234,278,318,141,154,225,196,213,222,106,242,163,242,218,274,164,215,365,319,295,358,191,296,218,119,362,218,302,98,365,306,190,310,74,257,281,175,183,187,64,108,259,185,280,372,276,371,242,57,262,58,201,187,208,264,218,214,198,147,274,297,58,112,319,63,166,52,51,75,369,197,64,366,267,148,52,261,336,253,157,74,245,72,253,270,247,57,246,159,172,199,273,319,213,372,256,281,311,134,245,239,239,225,357,320,322,260,367,92,357,241,87,176,366,318,358,310,276,298,148,283,323,106,338,354,172,201,95,110,326,283,52,332,366,72,373,361,372,128,213,172,325,112,289,189,264,171,323,254,248,264,330,362,94,92,81,330,155,233,254,163,288,217,277,351,151,162,70,53,78,52,336,184,51,52,317,106,217,296,117,119,252,264,201,283,234,364,201,212,212,282,77,304,218,245,319,372,303,186,277,60,80,253,149,194,368,173,178,247,373,372,194,239,64,311,276,365,74,303,366,211,373,173,220,297,283,81,106,264,240,248,65,143,183,170,189,317,367,246,296,281,252,59,138,60,78,80,235,203,225,170,61,176,339,169,126,330,217,196,157,284,158,290,332,197,53,322,312,302,191,263,106,64,198,149,87,218,177,73,74,274,192,161,296,372,277,171,81,53,164,242,364,182,373,248,232,68,285,219,186,235,263,245,222,105,169,368,189,362,366,72,241,262,297,176,372,214,318,294,74,372,282,57,192,360,93,156,184,128,52,186,368,59,140,84,187,299,290,276,371,109,239,87,116,187,226,267,218,149,185,63,266,78,322,261,165,288,317,119,161,185,334,239,51,284,289,217,201,226,273,53,253,234,182,312,204,362,107,208,241,57,308,95,280,123,302,94,355,86,179,311,238,65,163,219,163,71,253,156,176,203,365,158,79,248,358,75,220,308,361,359,190,53,280,177,269,233,205,71,242,218,236,239,173,59,81,276,373,65,277,227,263,358,137,141,260,185,187,169,320,200,232,240,112,359,263,254,159,53,281,51,303,185,372,304,323,204,170,173,304,129,212,162,225,159,190,247,282,372,159,233,147,249,171,166,241,365,56,185,225,281,362,235,256,373,155,51,334,154,53,203,359,289,185,373,274,254,368,290,367,214,243,295,140,177,60,249,192,261,165,157,236,89,226,263,217,325,89,140,134,366,58,73,277,180],\"y\":[6,11,9,12,17,3,3,4,2,7,5,3,4,10,8,19,5,8,9,3,7,6,4,14,3,11,13,8,15,10,11,14,15,9,7,6,6,1,8,1,10,1,15,2,3,7,3,8,17,1,37,3,5,5,5,16,9,10,13,11,1,16,9,7,13,10,5,5,1,1,14,10,14,15,1,16,8,13,2,17,9,17,10,15,11,10,8,17,12,15,10,4,8,4,14,27,10,24,19,13,19,5,13,12,6,16,3,30,8,9,14,1,13,10,21,12,6,25,1,9,12,7,9,17,7,13,17,10,7,10,19,1,14,11,28,7,7,3,16,12,7,16,9,5,3,2,15,11,10,11,16,15,11,6,28,21,14,4,6,8,7,24,29,14,1,21,9,15,3,7,3,6,25,25,3,2,10,9,8,10,16,20,8,5,17,10,8,16,17,8,8,12,14,6,18,1,6,11,8,4,4,11,7,5,8,23,3,17,9,5,9,22,4,7,19,9,17,10,23,16,12,19,5,29,1,19,3,3,13,8,2,30,2,13,8,22,8,1,29,10,5,11,9,6,2,6,12,13,11,30,4,13,2,4,13,6,13,10,7,17,9,10,14,12,5,13,11,8,12,20,5,3,30,5,1,5,15,17,1,14,9,13,14,4,41,11,3,6,10,9,5,2,9,5,5,14,8,14,15,6,7,10,12,6,19,16,25,12,1,1,16,10,17,5,9,5,7,16,3,8,1,7,14,6,8,34,10,6,17,2,5,9,25,11,2,13,1,7,27,26,24,28,17,14,1,39,13,5,14,2,17,13,16,6,15,5,9,1,12,10,9,2,5,6,6,7,41,11,5,14,10,3,1,7,7,17,1,8,22,15,12,12,41,11,24,4,7,19,12,11,21,12,12,7,1,6,2,7,11,4,8,8,10,8,1,1,10,1,12,10,13,6,16,30,8,30,11,13,1,1,14,2,3,8,11,6,14,15,8,6,16,7,2,11,8,11,14,3,1,11,20,2,9,8,31,5,4,10,5,5,9,2,8,20,11,14,9,33,3,2,13,19,15,13,13,17,15,14,5,3,17,3,9,14,8,13,10,10,6,10,5,14,5,9,12,14,8,2,9,3,12,21,37,1,13,9,13,7,1,16,17,12,16,15,15,8,11,12,10,14,8,10,6,11,3,38,37,8,9,14,16,16,7,14,7,26,2,1,4,4,11,5,2,14,1,12,9,10,7,9,32,14,15,9,10,16,4,15,10,29,7,4,9,14,15,9,39,16,23,15,9,1,12,6,1,11,9,17,1,9,19,34,2,3,4,2,2,17,5,9,8,17,9,14,12,10,17,18,11,6,9,14,9,13,3,25,5,6,12,8,5,29,9,3,4,5,7,8,7,22,11,16,19,16,15,8,5,35,7,10,1,6,6,1,1,1,3,12,13,14,13,37,15,17,25,11,10,12,6,8,10,21,34,16,32,6,12,1,1,12,20,1,1,26,14,31,12,1,13,5,2,40,32,14,28,31,5,5,19,7,7,5,1,18,13,7,17,1,28,30,17,14,8,10,10,9,17,15,7,16,19,15,13,2,10,5,1,6,13,1,7,8,9,10,7],\"type\":\"scatter\"},{\"marker\":{\"color\":\"green\",\"line\":{\"width\":1},\"opacity\":0.5,\"size\":9},\"mode\":\"markers\",\"name\":\"Silver\",\"x\":[59,145,282,267,96,52,84,326,44,88,30,176,148,128,161,64,78,25,288,7,9,211,242,18,73,292,31,196,106,173,7,54,291,99,64,212,24,4,157,70,39,138,269,196,39,26,22,283,63,26,45,11,18,61,15,93,122,81,261,203,92,50,124,156,14,61,61,268,31,63,15,155,169,351,72,81,316,157,177,287,70,10,66,60,257,268,63,50,256,371,89,329,74,185,192,127,17,1,74,107,74,1,255,23,29,60,236,233,57,105,311,282,64,316,30,78,205,182,85,19,173,205,50,63,35,52,47,64,26,318,116,15,215,256,35,164,149,50,75,151,63,38,302,271,31,219,200,18,240,287,54,81,75,127,309,66,52,301,144,22,19,159,64,92,247,58,119,358,189,204,119,92,297,50,49,53,23,74,169,57,109,263,179,35,79,176,154,21,21,308,14,30,110,77,155,225,121,63,284,33,305,106,32,129,124,32,36,137,84,319,129,373,78,220,33,297,66,201,106,239,89,42,4,247,177,80,331,73,51,8,40,18,117,242,64,206,114,124,67,161,38,260,5,43,22,185,52,9,149,310,22,99,50,180,110,98,253,11,164,50,207,25,50,311,309,88,100,1,57,64,150,311,18,151,57,85,1,16,40,50,305,10,274,72,245,205,184,266,50,21,170,156,77,169,86,26,24,71,106,24,373,249,43,87,75,263,46,29,17,280,54,26,10,28,21,61,180,196,53,10,311,24,119,19,29,7,185,210,19,26,131,252,207,148,204,91,32,14,79,147,49,30,128,37,19,198,211,170,43,33,266,71,89,170,31,151,269,275,308,67,215,42,84,333,245,133,22,65,169,240,133,75,45,373,25,331,71,66,154,70,60,59,225,318,225,234,239,113,74,65,238,122,127,168,135,64,23,66,46,49,64,290,274,199,64,44,103,333,208,156,53,129,87,158,29,39,21,169,40,186,16,92,148,313,85,24,38,15,23,213,22,262,131,312,283,262,25,354,29,51,77,161,362,171,44,84,24,33,173,11,114,54,24,50,18,176,255,36,141,116,17,134,191,157,204,336,91,92,243,22,43,50,39,81,52,28,266,143,66,49,134,40,51,24,65,64,115,68,133,241,183,10,358,149,142,51,207,172,50,64,58,46,51,18,25,101,312,198,92,156,226,190,154,172,67,112,133,84,165,30,19,3,54,245,47,260,43,91,309,196,269,54,260,365,288,299,154,61,218,211,51,262,88,249,157,133,232,50,73,67,15,40,236,75,360,58,88,267,189,71,78,56,261,266,116,373,196,176,100,121,268,138,213,3,36,75,63,267,247,89,269,94,264,70,53,56,21,302,57,213,28,67,135,197,44,164,88,25,173,360,19,30,61,25,3,190,290,35,24,194,3,71,113,71,75,15,4,40,74,70,182,3,274,79,245,42,71,141,19,43,75,256,135,226,78,266,369,26,364,53,46,58,372,65,96,198,273,260,57,80,19,8,365,89,65,173,99,103,95,227,51,227,39,197,50,43,333,10,14,77,66,35,366,64,72,36,61,115,53,211,235,138,30,184,189,77,60,5,288,18,30,31,45,60,110,245,30,137,113,157,194,130,313,22,47,233,50,106,275,247,194,24,75,21,38,78,57,46,58,53,53,31,65,310,308,35,18,52,127,107,35,101,361,138,22,85,46,303,11,239,72,218,199,70,19,77,306,36,184,79,128,32,313,1,192,94,10,77,65,261,58,289,75,261,72,128,53,25,23,197,359,129,332,252,17,78,217,130,312,169,19,86,21,141,74,23,43,236,252,168,372,9,113,178,21,158,198,56,72,85,73,29,179,73,36,33,47,218,368,142,107,364,322,56,44,23,85,29,21,373,310,133,45,138,130,7,37,198,66,116,142,371,373,211,51,372,29,165,145,236,28,81,108,152,98,4,65,70,288,9,173,133,75,257,217,36,16,330,61,312,127,37,329,149,60,212,157,45,50,75,301,57,7,358,227,15,82,106,28,326,211,92,81,46,23,17,310,38,2,30,43,7],\"y\":[25,24,18,27,50,5,11,66,10,7,34,2,22,2,28,29,25,9,23,16,10,22,28,4,28,92,13,28,31,26,1,37,33,18,14,18,8,6,22,25,8,30,50,1,6,17,4,41,13,32,11,2,29,29,8,22,4,2,22,58,27,16,26,36,1,87,8,9,15,30,8,42,20,21,11,12,17,19,19,20,8,16,16,24,90,29,23,1,29,39,23,35,13,21,26,39,3,11,27,18,10,12,54,19,17,21,64,23,34,14,18,19,22,26,5,15,22,76,37,38,44,33,26,8,16,26,40,23,27,23,19,8,66,23,6,49,87,9,25,25,6,12,20,51,8,38,30,3,23,35,57,22,31,11,33,23,13,36,59,15,3,29,9,5,20,30,23,18,28,19,40,15,21,17,18,20,11,21,9,17,23,31,26,7,11,39,33,12,11,35,15,5,34,39,22,28,16,15,38,6,85,10,13,46,12,4,21,26,5,67,28,22,5,28,26,31,24,7,6,20,9,12,7,21,41,15,29,33,29,9,5,3,13,20,24,31,36,28,15,31,6,18,9,41,41,75,56,14,25,14,14,29,17,40,16,6,18,13,30,14,30,7,6,19,29,7,12,4,10,19,4,56,10,58,21,16,12,17,6,29,25,7,2,4,20,26,21,20,16,7,31,30,29,80,30,4,14,7,15,10,71,18,5,30,19,21,6,39,5,41,27,15,3,6,14,59,70,17,40,6,21,9,20,11,11,4,36,28,17,11,15,18,20,33,43,12,11,3,20,42,6,37,18,21,41,87,40,75,35,20,70,7,27,67,3,12,22,25,23,30,26,11,23,3,28,21,15,16,22,28,23,85,7,27,5,5,23,16,29,21,19,13,20,24,20,23,23,31,22,34,33,6,18,34,19,23,2,52,12,3,28,31,19,24,37,36,49,29,16,99,36,24,21,72,14,13,4,41,12,31,12,12,42,48,28,8,2,6,10,41,29,45,25,28,60,58,7,58,7,24,29,88,70,46,15,10,1,4,75,15,29,81,31,8,7,31,29,6,19,34,15,25,33,35,25,2,21,6,34,1,11,17,13,21,12,12,22,19,8,9,28,21,28,9,37,11,27,25,18,21,29,14,25,42,1,8,40,20,10,24,27,11,30,14,18,45,29,23,18,93,62,40,60,25,21,18,14,24,98,14,27,3,35,86,32,76,32,16,29,22,39,34,23,74,23,38,18,29,18,34,16,21,30,37,29,22,6,15,11,15,11,6,19,15,18,35,23,37,35,22,20,19,24,13,25,67,33,6,23,17,20,22,41,16,10,15,39,5,23,33,45,29,60,23,35,31,7,21,6,83,17,24,36,40,2,18,28,17,25,19,3,6,40,13,17,30,25,17,11,35,5,28,6,33,53,12,7,31,34,30,26,9,23,20,27,19,24,29,32,10,13,3,10,5,19,2,45,27,46,1,1,34,2,22,13,23,34,40,26,50,3,5,66,18,24,98,23,28,26,38,22,24,11,25,11,12,19,9,2,7,1,37,45,69,18,38,60,6,53,33,21,19,1,25,21,39,22,7,12,11,15,7,3,9,2,28,22,15,22,22,43,13,70,8,30,18,40,24,24,20,14,14,23,5,12,15,23,2,19,40,13,25,28,49,21,25,18,12,38,6,27,30,53,14,6,28,32,59,15,35,33,28,69,24,15,15,62,33,13,14,39,14,43,9,61,29,5,29,21,24,29,40,14,88,6,40,30,9,6,42,43,2,29,45,13,11,63,14,77,26,20,5,8,45,27,11,15,19,24,31,18,10,15,35,25,57,38,54,67,72,5,10,46,10,17,2,24,26,58,9,40,26,94,28,16,2,28,19,38,58,38,21,23,29,2,2,9,19,31,7,35,48,85,31,15,65,21,30,48,29,32,3,29,21,21,9,34,20,19,3,27,7,10,25,29,17,1,29,39,21,19,18,39,32,56,1,15,7,16,25,23,39,1,30,37,1,7,32,8,43,21,19,37,6,4,8,21,11,3,11,14,12],\"type\":\"scatter\"},{\"marker\":{\"color\":\"red\",\"line\":{\"width\":1},\"opacity\":0.9,\"size\":11},\"mode\":\"markers\",\"name\":\"Gold\",\"x\":[70,74,5,37,32,143,70,29,22,31,134,78,210,185,236,9,24,63,67,24,42,18,17,88,24,64,54,131,35,143,9,89,358,157,29,23,23,22,73,64,1,113,22,30,52,73,138,80,30,78,24,10,129,126,4,28,275,21,3,44,59,21,19,94,23,85,22,108,19,10,295,5,33,94,122,46,18,21,4,46,39,95,19,58,56,78,240,74,212,24,17,96,17,92,9,11,53,37,40,122,18,38,189,1,103,22,28,4,22,1,78,17,3,31,92,14,77,200,260,16,71,122,80,88,99,26,131,29,72,24,133,43,4,108,19,10,18,67,23,24,38,58,191,178,37,78,51,10,23,16,72,21,85,40,14,33,43,39,12,96,25,28,7,81,84,144,17,23,14,155,14,64,45,29,40,89,40,30,59,99,67,36,52,74,31,45,114,10,205,85,18,24,7,267,281,116,36,131,38,28,36,135,28,71,2,95,95,53,124,33,50,63,70,7,4,116,138,5,18,57,25,11,24,51,129,95,57,31,54,26,23,16,183,37,11,49,92,10,95,23,11,217,1,79,49,73,26,17,65,45,134,115,198,52,46,16,7,22,28,78,109,8,31,19,29,63,40,101,302,2,73,239,30,14,19,7,122,60,46,2,46,35,75,239,19,40,215,87,70,39,98,10,86,67,18,60,2,16,30,92,110,51,183,49,75,30,219,110,260,50,162,98,30,21,51,22,21,127,120,10,157,79,19,108,44,26,38,65,65,130,107,71,92,42,91,57,17,21,53,18,9,60,10,155,148,246,17,11,46,71,19,38,67,23,22,61,33,24,37,60,236,15,58,75,56,179,3,169,35,21,7,44,9,196,91,50,36,67,67,5,19,60,241,280,234,44,137,14,2,29,24,43,5,24,47,3,42,197,16,112,29,44,15,144,232,58,127,7,162,8,15,36,200,73,21,10,29,23,36,59,25,3,107,77,18,79,85,25,2,35,70,115,212,30,50,23,19,25,12,64,8,96,14,68,107,57,15,38,46,47,147,51,35,53,38,33,80,30,8,256,72,58,65,71,53,78,46,179,93,105,77,172,212,22,21,103,4,8,31,196,23,29,18,50,114,60,18,127,52,46,164,10,31,18,68,29,14,119,2,10,87,85,10,60,46,36,217,29,134,36,66,100,151,22,57,37,22,29,10,67,60,64,75,3,70,85,39,32,66,80,0,45,254,95,75,57,137,169,31,26,9,58,26,54,26,30,29,338,85,9,50,2,113,14,40,22,28,17,52,189,1,32,19,7,4,36,60,28,11,103,11,31,177,37,68,24,50,46,100,35,26,36,61,28,32,10,56,4,103,74,45,89,166,18,36,9,45,190,168,40,49,25,4,17,172,63,11,145,24,11,15,65,114,19,61,65,31,5,25,10,14,113,75,107,46,46,50,306,36,78,107,63,44,3,56,99,37,58,254,44,33,72,38,19,136,22,40,32,369,2,23,8,19,21,89,82,16,8,33,31,19,23,2,77,88,123,44,88,2,23,22,35,39,12,29,92,87,7,65,30,22,37,119,32,145,45,65,22,44,16,100,59,114,87,50,70,84,8,59,57,73,39,51,21,59,18,65,4,268,15,65,17,95,126,94,72,64,16,44,23,30,54,25,44,88,19,170,36,318,57,87,43,40,33,211,23,52,50,73,71,353,72,22,37,106,17,119,35,1,128,46,17,107,16,44,21,17,33,32,18,2,82,33,66,61,74,60,28,53,56,60,154,19,18,19,44,26,112,24,46,33,63,21,23,51,10,75,15,77,33,46,79,296,4,106,25,31,4,186,22,17,5,110,95,163,42,26,5,53,15,26,127,84,80,50,61,36,32,15,51,80,73,32,31,4,177,16,68,15,28,54,72,4,61,68,37,45,84,218,91,302,52,31,52,37,44,30,114,19,47,57,67,60,100,123,163,23,103,142,4,15,38,38,100,4,23,144,31,66,37,194,1,26,116,29,81,9,23,156,21,26,1,54,25,56,134,17,38,4,39,38,255,29,7,30,23,85,46,50,8,40,78,11,86,16,87,26,25,85,117,28,28,81,73,21,58,114,36,36,25,109,123,22,18,159,8,3,152,105,17,7,32,57,44,178,56,106,35,29,23,175,60,7,18,96,264,2,25,11,108,53,15,120,3,116,4,40,148,138,2,227,130,21,28,17,21,78,31,46,100,14,151,156,15,36,129,50,24,49,17,40,11,4,14,19,39,22,114,333,12,43,42,50,46,19,18,88,40,17,126,15,60,10,44,191,7,17,9,2,206,161,24,31,29,11,4,53,29,24,43,60,19,14,94,19,24,29,4,7,109,100,85,12,213,33,57,21,32,1,31,31,119,219,60,138,36,73,25,18,3,1,52,127,131,35,10,44,26,127,71,79,38,53,9,32,50,15,10,96,21,152,25,40,82,11,4,71,1,49,2,42,85,81,372,11,1,30,80,185,43,12,21,71,172,71,9,58,3,45,88,64,11,35,134,29,51,5,49,72,39,31,37,22,11,121,37,12,3,23,70,4,21,35,32,19,24,45,23,40,114,18,25,98,93,81,11,37,19,12,67,25,24,19,29,63,116,32,134,3,9,37,23,176,33,58,86,31,128,24,77,71,95,199,36,25,31,29,22,56,192,29,218,72,122,87,50,172,43,25,72],\"y\":[46,5,25,38,27,113,34,52,91,51,78,110,46,107,47,13,42,71,82,82,22,72,28,30,106,47,99,75,30,97,17,109,19,20,20,31,27,59,47,40,40,26,45,10,71,27,48,28,35,76,48,2,22,73,18,21,159,24,20,58,47,76,79,55,44,98,63,46,23,4,74,15,85,79,79,42,65,46,43,72,79,63,46,149,90,21,66,43,58,36,31,67,25,23,13,38,91,96,46,85,37,31,54,2,81,54,72,26,78,20,106,25,21,17,53,21,51,54,42,40,51,32,42,37,53,97,35,43,38,28,24,19,28,78,29,74,49,46,59,46,27,41,86,58,79,69,86,35,65,18,59,44,38,27,6,66,25,87,98,124,51,34,33,82,49,83,85,46,23,53,21,58,99,43,98,74,44,81,92,11,62,63,101,40,28,63,56,16,104,53,65,53,28,48,105,43,28,85,42,20,63,43,33,34,41,72,28,24,76,25,70,15,208,57,45,39,60,96,40,93,55,20,55,101,93,81,23,61,36,27,27,19,43,26,33,30,41,27,58,45,35,137,25,92,28,54,16,13,41,39,47,30,42,20,66,39,31,89,66,92,6,32,54,56,80,52,42,65,153,69,35,74,34,10,72,15,44,46,26,40,11,26,49,52,48,41,108,52,29,52,58,29,42,42,39,37,44,24,67,60,118,40,50,35,79,42,108,75,53,52,55,64,32,27,33,26,21,71,60,31,47,33,55,69,46,131,59,45,73,20,73,54,194,43,97,27,1,12,93,70,20,109,62,37,180,130,90,43,29,42,10,47,46,96,57,73,18,17,18,229,64,32,111,69,33,235,24,100,164,152,53,50,16,53,24,41,28,26,102,29,99,90,170,132,61,50,68,22,28,25,71,55,37,52,45,17,54,89,26,69,89,41,38,71,52,60,35,30,44,12,47,53,63,48,29,29,42,28,66,60,48,98,47,47,53,6,23,20,30,87,77,45,57,78,44,63,19,55,85,59,27,83,38,34,32,72,4,61,26,77,158,144,20,128,31,72,61,35,48,52,127,130,97,57,42,82,104,70,26,42,27,49,47,33,57,47,25,8,35,69,35,84,21,28,82,102,52,29,80,26,91,20,22,29,103,63,19,51,1,32,69,37,9,52,35,58,143,50,89,44,47,77,82,11,63,41,20,58,39,7,23,58,47,33,95,42,57,13,86,17,26,20,63,29,44,95,27,194,53,99,39,53,82,62,60,30,58,157,57,52,24,77,76,11,46,50,35,15,97,92,18,57,83,41,61,29,56,20,27,31,57,104,168,45,51,44,9,24,77,22,52,67,77,60,45,3,100,16,64,49,60,25,238,52,32,21,47,48,116,33,33,53,19,18,86,55,35,118,128,91,32,70,26,62,192,45,61,10,20,35,12,8,98,119,64,31,48,208,35,89,41,49,62,33,68,51,39,68,54,50,62,47,22,97,80,20,40,76,105,49,51,30,143,74,76,29,19,41,91,42,28,84,20,49,43,37,52,130,9,33,90,94,28,64,28,100,55,26,65,6,71,39,83,84,70,68,180,33,21,21,31,39,51,67,39,76,48,16,30,212,38,40,78,35,37,31,35,18,29,18,20,34,69,23,58,28,45,31,67,57,98,63,19,66,46,41,44,97,137,96,47,37,46,51,91,90,69,18,61,45,54,17,27,4,42,37,69,19,37,118,18,39,153,47,38,57,28,34,81,18,76,228,97,111,32,102,59,88,34,83,210,82,73,63,45,54,71,51,18,84,63,99,82,182,170,35,53,18,42,29,39,56,50,11,84,86,4,35,156,77,4,31,55,32,84,52,57,31,19,18,87,57,42,28,27,85,29,66,33,29,48,64,69,50,34,62,16,53,20,6,98,44,30,62,60,123,27,79,93,43,151,82,28,53,42,95,25,170,89,54,145,48,76,60,155,76,60,103,67,28,26,28,23,63,20,19,52,26,39,26,135,99,162,44,60,93,57,143,327,83,54,44,62,57,42,86,16,101,31,42,41,87,3,12,37,23,49,44,52,74,16,153,22,28,30,75,70,6,65,43,92,83,62,99,78,62,64,25,28,64,52,187,74,65,90,39,35,260,35,20,13,67,54,63,80,128,61,32,29,96,57,103,63,47,47,69,36,29,19,40,31,55,69,57,87,112,78,124,127,80,69,94,45,69,51,66,55,24,9,73,33,543,183,87,27,8,16,45,29,87,57,83,51,47,78,27,92,38,113,41,6,30,30,26,43,48,54,36,19,19,54,27,41,78,181,27,5,28,38,127,52,20,87,45,33,19,47,75,25,145,49,106,34,27,46,49,25,50,35,214,23,50,83,55,59,100,26,33,39,70,35,40,51,91,52,44,82,19,43,18,15,30,46,35,55,23,29,50,10,40,67,35,43,25,19,75,21,53,156,82,134,58,82,140,43,33,48,23,61,61,56,1,51,297,24,15,79,44,46,26,64,67,193,114,34,39,59,80,94,23,145,5,39,65,90,21,77,19,71,20,104,68,23,38,81,93,58,60,22,30,46,112,53,96,19,121,47,19,37,73,2,73,2,36,70,41,38,46,26,378,74,36,47,20,38,61,37,38,21,34,24,37,131,38,54,31,74,97,44,68,45,141,68,32,42,26,31,64,30,124,49,88,78,47,16,98,134,21,61,46],\"type\":\"scatter\"},{\"marker\":{\"color\":\"black\",\"line\":{\"width\":1},\"opacity\":0.9,\"size\":13},\"mode\":\"markers\",\"name\":\"Platinum\",\"x\":[2,3,3,2,2,59,33,2,4,65,7,26,3,11,39,23,2,4,138,8,4,35,2,17,15,16,30,2,8,5,1,9,8,7,3,0,3,4,4,11,9,1,10,53,16,4,11,8,31,14,14,12,0,1,3,8,32,1,31,0,11,89,4,56,10,16,84,29,14,49,8,36,16,26,7,14,11,10,3,9,30,10,19,60,3,4,12,18,1,11,2,17,1,23,7,4,7,1,37,66,5,36,38,82,45,67,9,17,33,60,31,30,11,1,11,40,64,0,10,5,14,16,26,26,17,7,10,1,1,45,17,7,17,3,8,1,59,1,33,33,2,1,66,73,5,40,12,10,25,15,11,108,5,1,12,24,23,5,24,33,16,9,16,43,9,2,1,17,2,31,26,5,3,32,15,49,24,5,16,3,2,11,2,64,33,12,9,30,5,32,16,5,58,8,1,18,7,123,2,22,53,21,2,10,7,1,28,72,79,57,1,17,21,2,7,5,7,18,31,39,29,4,19,12,42,3,15,10,43,9,18,2,40,26,16,1,23,4,9,3,4,4,2,7,12,16,5,51,3,22,3,3,10,1,2,1,1,3,8,19,59,8,40,10,30,2,1,4,10,105,53,11,3,1,42,28,26,42,22,43,8,7,1,64,9,8,3,23,8,11,1,7,3,17,8,71,88,8,46,44,10,17,16,16,45,31,8,32,10,10,2,2,4,33,10,1,3,10,0,23,7,9,8,0,0,18,5,66,29,103,18,26,7,42,26,19,3,47,17,17,11,17,31,19,2,25,24,2,60,9,28,24,5,3,10,19,10,7,3,95,3,12,5,18,15,19,11,4,1,32,23,4,52,24,4,1,8,17,8,28,10,3,16,31,25,7,30,4,1,32,10,1,11,15,14,10,9,1,10,1,8,16,3,4,11,9,4,8,2,51,16,2,1,47,39,40,3,17,89,53,43,63,21,58,78,12,3,8,12,9,7,7,23,11,21,2,3,29,59,10,9,35,72,115,15,12,8,11,3,9,4,4,15,19,9,25,23,4,12,25,40,8,37,9,7,10,18,18,17,9,30,17,14,7,25,50,14,2,8,4,17,9,1,3,8,18,1,3,25,1,1,10,51,66,1,10,44,66,31,9,16,15,7,4,58,43,4,25,50,2,50,12,31,4,25,40,8,40,8,14,4,9,16,1,33,84,64,19,33,8,12,1,9,1,19,15,1,30,95,32,21,2,8,15,22,11,12,64,40,2,18,22,21,8,25,9,7,77,12,22,2,7,4,120,23,15,11,8,9,10,43,4,15,4,105,25,18,88,73,18,24,9,8,0,33,2,140,35,40,9,32,35,16,14,18,16,12,2,39,10,88,9,32,46,26,43,1,0,23,22,16,49,73,70,17,4,15,40,12,8,5,14,63,1,1,16,9,19,3,0,16,4,8,31,15,24,17,17,39,17,24,22,2,12,8,36,29,12,47,8,37,3,3,46,16,46,5,40,16,9,16,3,56,23,11,42,7,17,45,9,29,17,3,8,42,49,8,1,10,8,50,15,100,22,31,2,4,3,29,44,24,9,8,66,16,45,17,9,2,21,5,31,21,9,25,64,5,14,28,24,11,32,3,1,7,4,9,11,17,37,18,8,4,2,1,12,36,44,2,29,5,7,1,99,2,28,19,33,7,63,3,8,49,21,52,1,2,19,2,10,108,66,0,15,4,4,17,15,31,0,29,17,22,58,16,17,22,9,23,16,2,33,2,47,1,8,8,19,3,9,18,23,14,17,26,46,38,78,29,11,86,4,17,7,3,30,33,10,2,10,3,29,1,11,23,8,14,2,10,1,31,36,42,22,22,4,67,12,30,15,1,7,16,4,5,29,4,28,49,12,80,3,5,8,52,12,21,3,0,8,3,12,88,17,3,10,0,4,28,2,11,2,32,2,96,29,12,28,28,17,17,33,35,7,28,4,2,50,15,10,33,29,5,5,15,16,15,1,22,21,31,28,32,5,7,11,28,35,26,40,4,24,15,12,12,2,1,42,60,26,9,31,3,8,11,14,10,24,1,8,15,17,17,29,3,14,8,17,0,12,23,40,23,7,126,4,1,16,2,29,11,16,8,2,36,2,1,43,22,16,16,3,0,1,57,28,15,17,1,1,1,1,14,8,7,50,8,0,60,2,73,3,23,2,40,7,53,22,5,14,18,5,36,1,11,25,10,17,25,66,42,15,50,1,4,10,16,7,30,38,16,30,3,4,22,37,96,16,15,3,3,2,19,11,3,5,0,1,19,17,8,12,24,26,22,22,37,16,4,12,14,5,42,26,5,3,59,12,30,2,3,3,31,4,11,8,5,21,37,24,15,35,74,32,35,11,4,7,21,5,26,23,8,45,2,11,7,1,10,8,29,15,17,7,12,12,15,14,9,4,15,4,71,1,2,4,3,44,11,9,71,2,9,7,39,24,2,3,42],\"y\":[103,199,59,91,56,175,123,314,420,103,314,538,154,63,91,75,24,50,107,50,45,84,129,62,120,116,215,23,63,79,180,238,95,151,305,76,64,61,339,404,89,219,110,176,458,131,99,43,172,136,403,69,425,112,358,155,423,304,145,201,120,235,140,127,704,170,135,319,86,87,121,131,314,265,94,181,110,226,119,57,321,56,142,108,32,611,207,141,1677,187,211,440,316,187,59,81,107,62,87,124,476,75,108,268,134,119,166,60,128,158,172,152,51,155,304,104,127,157,67,101,167,195,71,443,63,382,99,302,260,109,422,48,42,162,44,115,141,436,172,223,296,179,109,136,175,176,341,126,83,174,87,128,166,247,226,201,59,71,146,188,146,79,96,166,108,470,195,57,39,90,197,134,336,102,60,104,196,191,321,342,142,117,135,119,177,115,31,137,76,46,74,174,206,110,76,139,33,307,115,336,104,165,65,142,59,110,118,149,122,148,117,49,45,160,20,152,626,149,338,111,107,351,234,84,121,155,86,208,171,84,243,143,235,209,488,1106,284,202,111,324,43,181,450,214,105,250,79,123,156,160,34,159,167,52,200,134,47,66,210,1204,149,327,165,240,65,265,259,579,87,102,112,108,59,100,193,67,175,115,159,112,141,111,78,106,111,143,156,280,47,101,237,100,61,62,143,105,180,117,87,101,123,259,162,90,129,118,524,140,186,286,350,87,182,103,107,590,124,206,222,224,144,382,55,51,293,258,970,240,72,281,144,144,120,193,194,624,164,107,799,316,68,101,203,291,972,216,62,519,330,76,72,114,399,366,48,113,216,74,423,127,270,123,330,383,197,102,55,20,92,134,122,152,172,106,199,237,49,126,253,168,573,74,102,42,421,327,71,130,210,115,335,347,415,196,139,357,339,237,278,501,147,202,194,60,59,235,102,135,1090,117,46,80,1141,385,235,255,121,67,108,138,145,130,388,143,127,58,144,71,124,73,498,55,116,96,355,69,165,170,138,312,198,160,216,115,1119,182,472,135,562,155,111,510,394,453,206,78,143,71,114,276,237,121,155,54,440,145,108,101,100,100,197,45,79,106,127,84,73,68,217,67,343,271,55,125,110,93,91,310,142,42,110,166,117,125,99,49,78,110,350,111,53,41,274,47,139,88,204,103,194,192,243,225,519,551,114,94,132,117,36,302,84,85,73,50,153,122,192,292,306,55,329,382,219,286,97,98,188,86,154,297,125,512,68,213,164,160,178,214,185,178,163,672,108,228,256,259,702,115,899,113,53,323,215,150,123,103,410,47,43,423,185,155,167,484,119,90,78,155,114,202,110,78,166,78,171,237,117,214,288,53,937,69,302,72,173,88,93,293,411,141,180,43,83,267,206,75,133,263,301,133,72,123,115,273,138,140,191,142,546,147,461,128,120,129,86,116,74,150,249,267,155,115,60,98,98,183,122,35,176,65,97,113,270,140,552,506,103,218,385,212,145,182,235,160,46,101,1137,312,121,64,102,129,227,167,63,57,48,31,354,284,117,89,117,224,117,89,130,474,98,85,125,84,162,218,295,134,179,111,84,134,135,662,294,123,270,135,124,258,133,107,166,109,118,79,162,151,319,319,153,77,92,235,94,109,66,662,106,53,51,130,118,125,108,330,186,172,232,102,372,109,132,282,174,111,202,135,236,148,360,146,97,95,136,169,113,290,183,177,45,981,251,207,460,126,216,62,172,276,96,179,117,152,94,118,69,261,73,208,160,252,114,89,163,585,62,308,144,402,22,447,624,199,201,225,185,269,660,125,191,242,357,449,69,42,706,222,255,158,333,190,93,320,285,164,149,449,324,86,189,47,165,116,378,128,137,279,112,159,178,101,203,125,79,710,208,151,547,101,128,672,209,77,898,241,305,281,249,60,54,28,89,148,407,120,129,93,169,44,217,252,234,98,102,318,316,516,296,143,140,174,77,81,162,96,115,63,195,125,48,42,418,117,127,134,27,52,478,48,81,101,229,104,144,86,73,84,237,152,211,157,274,472,208,541,105,566,400,114,292,124,142,111,102,135,57,79,66,131,473,107,200,50,753,407,500,215,71,132,411,468,111,253,418,28,213,59,82,64,66,269,206,117,271,134,135,277,100,111,111,215,88,82,76,109,366,105,137,82,73,253,394,88,63,152,165,299,411,440,253,201,166,213,270,560,237,576,135,312,78,50,315,123,297,157,232,259,91,158,86,117,68,53,110,227,78,118,130,286,256,115,142,74,103,382,245,274,115,192,66,165,218,690,97,47,136,193,92,741,412,95,105,310,194,190,111,408,104,61,851,141,371,220,169,121,199,222,148,102,370,279,145,117,109,696,31,43,485,249,329,179,296,146,166,123,191,472,127,360,46,137,470,142,227,127,89,213,108,444,1279,364,196,70,159,43,221,140,80,189,90,119,71,159,200,134,114,272,271,242,164,86,104,61,104,175,118,42,166,756,70],\"type\":\"scatter\"}],                        {\"template\":{\"data\":{\"barpolar\":[{\"marker\":{\"line\":{\"color\":\"#E5ECF6\",\"width\":0.5},\"pattern\":{\"fillmode\":\"overlay\",\"size\":10,\"solidity\":0.2}},\"type\":\"barpolar\"}],\"bar\":[{\"error_x\":{\"color\":\"#2a3f5f\"},\"error_y\":{\"color\":\"#2a3f5f\"},\"marker\":{\"line\":{\"color\":\"#E5ECF6\",\"width\":0.5},\"pattern\":{\"fillmode\":\"overlay\",\"size\":10,\"solidity\":0.2}},\"type\":\"bar\"}],\"carpet\":[{\"aaxis\":{\"endlinecolor\":\"#2a3f5f\",\"gridcolor\":\"white\",\"linecolor\":\"white\",\"minorgridcolor\":\"white\",\"startlinecolor\":\"#2a3f5f\"},\"baxis\":{\"endlinecolor\":\"#2a3f5f\",\"gridcolor\":\"white\",\"linecolor\":\"white\",\"minorgridcolor\":\"white\",\"startlinecolor\":\"#2a3f5f\"},\"type\":\"carpet\"}],\"choropleth\":[{\"colorbar\":{\"outlinewidth\":0,\"ticks\":\"\"},\"type\":\"choropleth\"}],\"contourcarpet\":[{\"colorbar\":{\"outlinewidth\":0,\"ticks\":\"\"},\"type\":\"contourcarpet\"}],\"contour\":[{\"colorbar\":{\"outlinewidth\":0,\"ticks\":\"\"},\"colorscale\":[[0.0,\"#0d0887\"],[0.1111111111111111,\"#46039f\"],[0.2222222222222222,\"#7201a8\"],[0.3333333333333333,\"#9c179e\"],[0.4444444444444444,\"#bd3786\"],[0.5555555555555556,\"#d8576b\"],[0.6666666666666666,\"#ed7953\"],[0.7777777777777778,\"#fb9f3a\"],[0.8888888888888888,\"#fdca26\"],[1.0,\"#f0f921\"]],\"type\":\"contour\"}],\"heatmapgl\":[{\"colorbar\":{\"outlinewidth\":0,\"ticks\":\"\"},\"colorscale\":[[0.0,\"#0d0887\"],[0.1111111111111111,\"#46039f\"],[0.2222222222222222,\"#7201a8\"],[0.3333333333333333,\"#9c179e\"],[0.4444444444444444,\"#bd3786\"],[0.5555555555555556,\"#d8576b\"],[0.6666666666666666,\"#ed7953\"],[0.7777777777777778,\"#fb9f3a\"],[0.8888888888888888,\"#fdca26\"],[1.0,\"#f0f921\"]],\"type\":\"heatmapgl\"}],\"heatmap\":[{\"colorbar\":{\"outlinewidth\":0,\"ticks\":\"\"},\"colorscale\":[[0.0,\"#0d0887\"],[0.1111111111111111,\"#46039f\"],[0.2222222222222222,\"#7201a8\"],[0.3333333333333333,\"#9c179e\"],[0.4444444444444444,\"#bd3786\"],[0.5555555555555556,\"#d8576b\"],[0.6666666666666666,\"#ed7953\"],[0.7777777777777778,\"#fb9f3a\"],[0.8888888888888888,\"#fdca26\"],[1.0,\"#f0f921\"]],\"type\":\"heatmap\"}],\"histogram2dcontour\":[{\"colorbar\":{\"outlinewidth\":0,\"ticks\":\"\"},\"colorscale\":[[0.0,\"#0d0887\"],[0.1111111111111111,\"#46039f\"],[0.2222222222222222,\"#7201a8\"],[0.3333333333333333,\"#9c179e\"],[0.4444444444444444,\"#bd3786\"],[0.5555555555555556,\"#d8576b\"],[0.6666666666666666,\"#ed7953\"],[0.7777777777777778,\"#fb9f3a\"],[0.8888888888888888,\"#fdca26\"],[1.0,\"#f0f921\"]],\"type\":\"histogram2dcontour\"}],\"histogram2d\":[{\"colorbar\":{\"outlinewidth\":0,\"ticks\":\"\"},\"colorscale\":[[0.0,\"#0d0887\"],[0.1111111111111111,\"#46039f\"],[0.2222222222222222,\"#7201a8\"],[0.3333333333333333,\"#9c179e\"],[0.4444444444444444,\"#bd3786\"],[0.5555555555555556,\"#d8576b\"],[0.6666666666666666,\"#ed7953\"],[0.7777777777777778,\"#fb9f3a\"],[0.8888888888888888,\"#fdca26\"],[1.0,\"#f0f921\"]],\"type\":\"histogram2d\"}],\"histogram\":[{\"marker\":{\"pattern\":{\"fillmode\":\"overlay\",\"size\":10,\"solidity\":0.2}},\"type\":\"histogram\"}],\"mesh3d\":[{\"colorbar\":{\"outlinewidth\":0,\"ticks\":\"\"},\"type\":\"mesh3d\"}],\"parcoords\":[{\"line\":{\"colorbar\":{\"outlinewidth\":0,\"ticks\":\"\"}},\"type\":\"parcoords\"}],\"pie\":[{\"automargin\":true,\"type\":\"pie\"}],\"scatter3d\":[{\"line\":{\"colorbar\":{\"outlinewidth\":0,\"ticks\":\"\"}},\"marker\":{\"colorbar\":{\"outlinewidth\":0,\"ticks\":\"\"}},\"type\":\"scatter3d\"}],\"scattercarpet\":[{\"marker\":{\"colorbar\":{\"outlinewidth\":0,\"ticks\":\"\"}},\"type\":\"scattercarpet\"}],\"scattergeo\":[{\"marker\":{\"colorbar\":{\"outlinewidth\":0,\"ticks\":\"\"}},\"type\":\"scattergeo\"}],\"scattergl\":[{\"marker\":{\"colorbar\":{\"outlinewidth\":0,\"ticks\":\"\"}},\"type\":\"scattergl\"}],\"scattermapbox\":[{\"marker\":{\"colorbar\":{\"outlinewidth\":0,\"ticks\":\"\"}},\"type\":\"scattermapbox\"}],\"scatterpolargl\":[{\"marker\":{\"colorbar\":{\"outlinewidth\":0,\"ticks\":\"\"}},\"type\":\"scatterpolargl\"}],\"scatterpolar\":[{\"marker\":{\"colorbar\":{\"outlinewidth\":0,\"ticks\":\"\"}},\"type\":\"scatterpolar\"}],\"scatter\":[{\"marker\":{\"colorbar\":{\"outlinewidth\":0,\"ticks\":\"\"}},\"type\":\"scatter\"}],\"scatterternary\":[{\"marker\":{\"colorbar\":{\"outlinewidth\":0,\"ticks\":\"\"}},\"type\":\"scatterternary\"}],\"surface\":[{\"colorbar\":{\"outlinewidth\":0,\"ticks\":\"\"},\"colorscale\":[[0.0,\"#0d0887\"],[0.1111111111111111,\"#46039f\"],[0.2222222222222222,\"#7201a8\"],[0.3333333333333333,\"#9c179e\"],[0.4444444444444444,\"#bd3786\"],[0.5555555555555556,\"#d8576b\"],[0.6666666666666666,\"#ed7953\"],[0.7777777777777778,\"#fb9f3a\"],[0.8888888888888888,\"#fdca26\"],[1.0,\"#f0f921\"]],\"type\":\"surface\"}],\"table\":[{\"cells\":{\"fill\":{\"color\":\"#EBF0F8\"},\"line\":{\"color\":\"white\"}},\"header\":{\"fill\":{\"color\":\"#C8D4E3\"},\"line\":{\"color\":\"white\"}},\"type\":\"table\"}]},\"layout\":{\"annotationdefaults\":{\"arrowcolor\":\"#2a3f5f\",\"arrowhead\":0,\"arrowwidth\":1},\"autotypenumbers\":\"strict\",\"coloraxis\":{\"colorbar\":{\"outlinewidth\":0,\"ticks\":\"\"}},\"colorscale\":{\"diverging\":[[0,\"#8e0152\"],[0.1,\"#c51b7d\"],[0.2,\"#de77ae\"],[0.3,\"#f1b6da\"],[0.4,\"#fde0ef\"],[0.5,\"#f7f7f7\"],[0.6,\"#e6f5d0\"],[0.7,\"#b8e186\"],[0.8,\"#7fbc41\"],[0.9,\"#4d9221\"],[1,\"#276419\"]],\"sequential\":[[0.0,\"#0d0887\"],[0.1111111111111111,\"#46039f\"],[0.2222222222222222,\"#7201a8\"],[0.3333333333333333,\"#9c179e\"],[0.4444444444444444,\"#bd3786\"],[0.5555555555555556,\"#d8576b\"],[0.6666666666666666,\"#ed7953\"],[0.7777777777777778,\"#fb9f3a\"],[0.8888888888888888,\"#fdca26\"],[1.0,\"#f0f921\"]],\"sequentialminus\":[[0.0,\"#0d0887\"],[0.1111111111111111,\"#46039f\"],[0.2222222222222222,\"#7201a8\"],[0.3333333333333333,\"#9c179e\"],[0.4444444444444444,\"#bd3786\"],[0.5555555555555556,\"#d8576b\"],[0.6666666666666666,\"#ed7953\"],[0.7777777777777778,\"#fb9f3a\"],[0.8888888888888888,\"#fdca26\"],[1.0,\"#f0f921\"]]},\"colorway\":[\"#636efa\",\"#EF553B\",\"#00cc96\",\"#ab63fa\",\"#FFA15A\",\"#19d3f3\",\"#FF6692\",\"#B6E880\",\"#FF97FF\",\"#FECB52\"],\"font\":{\"color\":\"#2a3f5f\"},\"geo\":{\"bgcolor\":\"white\",\"lakecolor\":\"white\",\"landcolor\":\"#E5ECF6\",\"showlakes\":true,\"showland\":true,\"subunitcolor\":\"white\"},\"hoverlabel\":{\"align\":\"left\"},\"hovermode\":\"closest\",\"mapbox\":{\"style\":\"light\"},\"paper_bgcolor\":\"white\",\"plot_bgcolor\":\"#E5ECF6\",\"polar\":{\"angularaxis\":{\"gridcolor\":\"white\",\"linecolor\":\"white\",\"ticks\":\"\"},\"bgcolor\":\"#E5ECF6\",\"radialaxis\":{\"gridcolor\":\"white\",\"linecolor\":\"white\",\"ticks\":\"\"}},\"scene\":{\"xaxis\":{\"backgroundcolor\":\"#E5ECF6\",\"gridcolor\":\"white\",\"gridwidth\":2,\"linecolor\":\"white\",\"showbackground\":true,\"ticks\":\"\",\"zerolinecolor\":\"white\"},\"yaxis\":{\"backgroundcolor\":\"#E5ECF6\",\"gridcolor\":\"white\",\"gridwidth\":2,\"linecolor\":\"white\",\"showbackground\":true,\"ticks\":\"\",\"zerolinecolor\":\"white\"},\"zaxis\":{\"backgroundcolor\":\"#E5ECF6\",\"gridcolor\":\"white\",\"gridwidth\":2,\"linecolor\":\"white\",\"showbackground\":true,\"ticks\":\"\",\"zerolinecolor\":\"white\"}},\"shapedefaults\":{\"line\":{\"color\":\"#2a3f5f\"}},\"ternary\":{\"aaxis\":{\"gridcolor\":\"white\",\"linecolor\":\"white\",\"ticks\":\"\"},\"baxis\":{\"gridcolor\":\"white\",\"linecolor\":\"white\",\"ticks\":\"\"},\"bgcolor\":\"#E5ECF6\",\"caxis\":{\"gridcolor\":\"white\",\"linecolor\":\"white\",\"ticks\":\"\"}},\"title\":{\"x\":0.05},\"xaxis\":{\"automargin\":true,\"gridcolor\":\"white\",\"linecolor\":\"white\",\"ticks\":\"\",\"title\":{\"standoff\":15},\"zerolinecolor\":\"white\",\"zerolinewidth\":2},\"yaxis\":{\"automargin\":true,\"gridcolor\":\"white\",\"linecolor\":\"white\",\"ticks\":\"\",\"title\":{\"standoff\":15},\"zerolinecolor\":\"white\",\"zerolinewidth\":2}}},\"title\":{\"text\":\"Segments\"},\"xaxis\":{\"title\":{\"text\":\"Recency\"}},\"yaxis\":{\"title\":{\"text\":\"Frequency\"}}},                        {\"responsive\": true}                    ).then(function(){\n",
              "                            \n",
              "var gd = document.getElementById('e347ac87-7815-4517-8e47-fdec8b1843d9');\n",
              "var x = new MutationObserver(function (mutations, observer) {{\n",
              "        var display = window.getComputedStyle(gd).display;\n",
              "        if (!display || display === 'none') {{\n",
              "            console.log([gd, 'removed!']);\n",
              "            Plotly.purge(gd);\n",
              "            observer.disconnect();\n",
              "        }}\n",
              "}});\n",
              "\n",
              "// Listen for the removal of the full notebook cells\n",
              "var notebookContainer = gd.closest('#notebook-container');\n",
              "if (notebookContainer) {{\n",
              "    x.observe(notebookContainer, {childList: true});\n",
              "}}\n",
              "\n",
              "// Listen for the clearing of the current output cell\n",
              "var outputEl = gd.closest('.output');\n",
              "if (outputEl) {{\n",
              "    x.observe(outputEl, {childList: true});\n",
              "}}\n",
              "\n",
              "                        })                };                            </script>        </div>\n",
              "</body>\n",
              "</html>"
            ]
          },
          "metadata": {}
        },
        {
          "output_type": "display_data",
          "data": {
            "text/html": [
              "<html>\n",
              "<head><meta charset=\"utf-8\" /></head>\n",
              "<body>\n",
              "    <div>            <script src=\"https://cdnjs.cloudflare.com/ajax/libs/mathjax/2.7.5/MathJax.js?config=TeX-AMS-MML_SVG\"></script><script type=\"text/javascript\">if (window.MathJax) {MathJax.Hub.Config({SVG: {font: \"STIX-Web\"}});}</script>                <script type=\"text/javascript\">window.PlotlyConfig = {MathJaxConfig: 'local'};</script>\n",
              "        <script src=\"https://cdn.plot.ly/plotly-2.8.3.min.js\"></script>                <div id=\"ca4dcccc-298f-462c-8536-0aa299b6e51b\" class=\"plotly-graph-div\" style=\"height:525px; width:100%;\"></div>            <script type=\"text/javascript\">                                    window.PLOTLYENV=window.PLOTLYENV || {};                                    if (document.getElementById(\"ca4dcccc-298f-462c-8536-0aa299b6e51b\")) {                    Plotly.newPlot(                        \"ca4dcccc-298f-462c-8536-0aa299b6e51b\",                        [{\"marker\":{\"color\":\"blue\",\"line\":{\"width\":1},\"opacity\":0.8,\"size\":7},\"mode\":\"markers\",\"name\":\"Bronze\",\"x\":[6,11,9,12,17,3,3,4,2,7,5,3,4,10,8,19,5,8,9,3,7,6,4,14,3,11,13,8,15,10,11,14,15,9,7,6,6,1,8,1,10,1,15,2,3,7,3,8,17,1,37,3,5,5,5,16,9,10,13,11,1,16,9,7,13,10,5,5,1,1,14,10,14,15,1,16,8,13,2,17,9,17,10,15,11,10,8,17,12,15,10,4,8,4,14,27,10,24,19,13,19,5,13,12,6,16,3,30,8,9,14,1,13,10,21,12,6,25,1,9,12,7,9,17,7,13,17,10,7,10,19,1,14,11,28,7,7,3,16,12,7,16,9,5,3,2,15,11,10,11,16,15,11,6,28,21,14,4,6,8,7,24,29,14,1,21,9,15,3,7,3,6,25,25,3,2,10,9,8,10,16,20,8,5,17,10,8,16,17,8,8,12,14,6,18,1,6,11,8,4,4,11,7,5,8,23,3,17,9,5,9,22,4,7,19,9,17,10,23,16,12,19,5,29,1,19,3,3,13,8,2,30,2,13,8,22,8,1,29,10,5,11,9,6,2,6,12,13,11,30,4,13,2,4,13,6,13,10,7,17,9,10,14,12,5,13,11,8,12,20,5,3,30,5,1,5,15,17,1,14,9,13,14,4,41,11,3,6,10,9,5,2,9,5,5,14,8,14,15,6,7,10,12,6,19,16,25,12,1,1,16,10,17,5,9,5,7,16,3,8,1,7,14,6,8,34,10,6,17,2,5,9,25,11,2,13,1,7,27,26,24,28,17,14,1,39,13,5,14,2,17,13,16,6,15,5,9,1,12,10,9,2,5,6,6,7,41,11,5,14,10,3,1,7,7,17,1,8,22,15,12,12,41,11,24,4,7,19,12,11,21,12,12,7,1,6,2,7,11,4,8,8,10,8,1,1,10,1,12,10,13,6,16,30,8,30,11,13,1,1,14,2,3,8,11,6,14,15,8,6,16,7,2,11,8,11,14,3,1,11,20,2,9,8,31,5,4,10,5,5,9,2,8,20,11,14,9,33,3,2,13,19,15,13,13,17,15,14,5,3,17,3,9,14,8,13,10,10,6,10,5,14,5,9,12,14,8,2,9,3,12,21,37,1,13,9,13,7,1,16,17,12,16,15,15,8,11,12,10,14,8,10,6,11,3,38,37,8,9,14,16,16,7,14,7,26,2,1,4,4,11,5,2,14,1,12,9,10,7,9,32,14,15,9,10,16,4,15,10,29,7,4,9,14,15,9,39,16,23,15,9,1,12,6,1,11,9,17,1,9,19,34,2,3,4,2,2,17,5,9,8,17,9,14,12,10,17,18,11,6,9,14,9,13,3,25,5,6,12,8,5,29,9,3,4,5,7,8,7,22,11,16,19,16,15,8,5,35,7,10,1,6,6,1,1,1,3,12,13,14,13,37,15,17,25,11,10,12,6,8,10,21,34,16,32,6,12,1,1,12,20,1,1,26,14,31,12,1,13,5,2,40,32,14,28,31,5,5,19,7,7,5,1,18,13,7,17,1,28,30,17,14,8,10,10,9,17,15,7,16,19,15,13,2,10,5,1,6,13,1,7,8,9,10,7],\"y\":[343.06399999999996,1084.1,795.685,496.17,1152.735,140.97,544.344,1383.8000000000002,1269.951,1102.6,1310.244,1224.6999999999998,801.0500000000001,513.116,436.045,399.859,503.015,535.76,145.188,781.884,447.515,551.485,301.80899999999997,849.0389999999998,187.035,705.035,1910.7540000000001,678.58,1137.861,919.857,1283.826,761.6820000000001,427.20200000000006,846.56,655.455,214.896,275.28,767.2320000000001,374.40299999999996,283.05,1295.222,113.22,958.9290000000002,236.8,286.01,406.26,410.515,417.17499999999995,1045.065,264.18,873.274,224.58999999999997,1234.8380000000002,231.768,603.8399999999999,400.377,953.49,595.5150000000001,1000.4800000000001,741.0729999999999,2183.0,514.226,509.675,346.542,744.4029999999999,744.44,323.38,527.25,235.875,55.5,864.912,499.352,1140.636,825.063,221.26,817.9219999999999,591.4449999999999,1097.568,2183.0,1320.826,560.55,1139.2299999999998,610.5,1113.5149999999999,683.1680000000001,519.258,1161.06,802.345,410.589,929.4770000000001,758.87,563.1400000000001,454.17499999999995,339.65999999999997,524.8820000000001,886.113,436.6,526.88,812.2239999999999,656.1579999999999,951.7510000000001,932.77,701.0389999999999,313.205,689.643,860.6200000000001,220.15,248.751,266.4,637.3249999999999,1141.7459999999999,368.15,932.622,846.708,511.6360000000001,1134.235,739.4449999999999,1110.148,294.52,1096.1249999999998,1045.6200000000001,1134.864,661.1899999999999,473.00800000000004,852.4799999999999,723.5350000000001,1025.1589999999999,948.606,416.61999999999995,701.15,1003.5880000000001,314.5,1437.4500000000003,799.8290000000001,744.292,538.979,453.99,433.788,901.172,576.9409999999999,637.325,1137.3799999999999,587.745,335.21999999999997,377.4,298.59000000000003,703.925,979.39,1324.526,740.518,1151.81,2351.9419999999996,1216.56,387.834,544.64,523.2170000000001,573.463,962.925,342.102,679.32,564.435,983.645,674.325,595.7,282.384,799.9770000000001,533.5400000000001,1430.1610000000003,333.0,428.46,581.6400000000001,439.375,1070.632,453.39799999999997,731.305,685.98,561.4380000000001,595.6999999999999,543.345,790.6899999999999,1038.035,506.049,1119.546,444.0,1235.6889999999999,415.58400000000006,495.948,1578.42,1418.7649999999999,444.0,680.2449999999999,1153.105,1145.224,498.39,1046.841,188.7,335.22,645.28,573.5,371.85,283.235,2283.085,526.88,251.41500000000002,579.975,453.98999999999995,981.24,1740.3319999999997,329.522,233.10000000000002,488.03000000000003,443.74099999999993,420.468,867.058,798.09,507.27,1261.441,929.477,1018.5360000000001,645.1690000000001,892.033,635.6600000000001,382.025,806.8220000000001,130.98,878.2320000000001,147.075,1502.496,835.6450000000001,423.872,355.644,899.9139999999999,192.39999999999998,417.36,639.73,697.8570000000002,403.781,662.3000000000001,695.3039999999999,993.7460000000001,330.04,946.8299999999999,515.262,740.37,22.939999999999998,486.365,642.838,583.49,715.543,575.0909999999999,1005.845,1006.659,180.56,232.54500000000002,1144.78,465.423,1210.825,502.83,464.905,2279.755,1027.8600000000001,1147.1850000000002,1076.034,216.41299999999998,468.78999999999996,762.9770000000001,1035.778,377.844,580.567,629.148,502.94100000000003,448.32899999999995,798.386,1371.96,392.93999999999994,326.34,1135.6779999999999,1182.15,905.76,985.6800000000001,514.485,662.1520000000002,959.965,585.192,603.1,502.27500000000003,149.85000000000002,323.75,716.4680000000001,1171.346,376.66,357.42,1131.2749999999999,1492.025,2164.5,1191.696,571.317,728.9,1187.8849999999998,364.265,1173.455,662.115,579.087,441.40999999999997,1074.887,418.544,669.4780000000001,759.61,192.4,610.5,756.65,772.375,933.954,745.9200000000001,584.748,427.905,1550.004,1206.1999999999998,621.6,2208.3450000000003,1850.0,397.56499999999994,1066.2659999999998,347.8,1291.6699999999998,988.566,704.961,361.49,1418.3580000000002,2197.8,419.95,574.129,662.67,868.02,337.884,195.471,925.0,447.7,988.011,848.521,410.404,473.0819999999999,333.44399999999996,803.64,497.83500000000004,957.856,470.27,739.26,890.5160000000001,179.376,800.643,387.61199999999997,1104.376,416.102,826.4319999999999,1146.2600000000002,511.118,282.384,640.2850000000001,716.875,940.1700000000001,506.16,782.55,529.4699999999999,493.025,556.11,751.4699999999999,807.525,314.5,1088.2440000000001,600.51,128.76,293.04,936.248,388.13,765.826,55.5,440.115,594.627,553.668,670.033,622.747,975.135,662.929,821.585,208.125,710.1780000000001,979.0939999999998,455.46999999999997,1367.1499999999999,470.19599999999997,766.4549999999999,1542.3820000000003,537.7950000000001,132.46,1202.8700000000001,669.6999999999999,386.095,1162.1699999999998,1138.934,375.18000000000006,948.828,510.23,498.76,452.88,293.04,803.492,62.9,1186.2939999999999,684.685,1246.752,401.00600000000003,724.238,597.1060000000001,502.275,859.1769999999999,921.3000000000001,1070.595,648.24,282.384,1288.3400000000001,138.38,270.84,732.23,798.5709999999999,588.3,896.6949999999999,1125.7250000000001,943.9440000000001,1162.614,423.872,565.8779999999999,173.715,622.71,527.25,862.914,837.569,1496.2800000000002,767.75,794.76,406.81500000000005,374.07,197.95,569.4300000000001,783.549,404.632,349.132,656.7500000000001,618.825,494.172,891.922,1052.835,1063.38,698.893,1154.1039999999998,987.7890000000002,770.932,560.2540000000001,503.2,277.13,828.615,515.5949999999999,373.589,1345.69,917.9699999999999,601.99,1074.332,843.8219999999999,442.594,1255.41,1405.0009999999997,642.69,391.608,863.7650000000001,1716.615,833.0550000000001,789.95,536.685,279.942,479.113,561.8449999999999,836.9770000000001,478.965,806.23,855.07,792.022,455.98800000000006,144.74400000000003,500.98,480.075,834.6460000000001,417.175,1082.1390000000001,13.875,1195.1,767.75,885.7800000000001,395.2710000000001,125.8,909.9780000000001,1151.625,408.406,902.208,1145.2980000000002,1773.5949999999996,475.45,729.714,736.855,669.1450000000001,1041.2540000000001,460.909,1390.0529999999999,642.912,768.6379999999998,49.21,1023.901,1072.1860000000001,419.728,1448.624,851.925,620.1569999999999,1541.5679999999998,434.19500000000005,866.429,409.03499999999997,744.403,930.624,662.3000000000001,1091.5,572.871,543.419,866.6880000000001,439.56000000000006,1117.4,94.35,604.2099999999999,429.94,580.974,511.784,1277.6100000000001,1105.893,581.2330000000001,2142.2999999999997,462.05600000000004,587.116,832.1669999999999,221.63,1132.6809999999998,754.615,971.6940000000001,755.688,839.345,419.95000000000005,554.593,1415.2499999999998,634.365,1048.136,888.0,234.728,910.348,694.971,2037.96,306.175,358.16,648.24,1135.974,900.432,716.4680000000001,847.152,409.775,659.414,623.0799999999999,241.98,1882.56,754.319,120.80499999999999,372.96000000000004,1437.2649999999999,689.754,447.33000000000004,487.28999999999996,924.482,1072.852,719.169,1385.9089999999999,1002.885,1007.214,1067.8200000000002,569.578,536.5,1563.99,1097.7900000000002,826.432,608.28,283.04999999999995,631.7750000000001,382.21000000000004,584.23,838.975,686.905,530.802,648.499,429.237,2113.44,301.328,280.275,401.44999999999993,375.735,492.322,434.93499999999995,761.09,1103.007,1074.48,741.739,1047.5439999999999,573.3149999999999,563.88,988.196,508.56500000000005,566.1,1207.68,515.595,407.925,264.18,298.368,55.5,208.68,695.674,488.178,835.83,1104.0800000000002,760.276,1151.6619999999998,773.1890000000001,548.3770000000001,1224.33,576.83,879.157,660.5240000000001,493.395,411.995,754.319,754.282,415.32500000000005,576.46,415.14,269.73,767.75,903.096,366.818,553.4459999999999,1326.6719999999998,47.175,272.986,844.34,503.34799999999996,1113.404,76.96,734.7090000000001,345.395,281.57,627.039,952.158,646.7600000000001,380.323,692.9730000000001,142.265,271.95,259.074,610.685,637.473,275.28,376.29,915.5279999999999,1811.52,374.958,1002.7,282.384,814.37,670.1440000000001,411.255,416.43499999999995,564.805,593.2950000000001,1119.1019999999999,749.805,1125.725,1052.5020000000002,768.86,901.912,593.5540000000001,860.176,1107.558,1129.536,588.115,346.875,1628.0,382.21,553.076,94.35,623.82,408.406,643.4300000000001,668.22,299.03400000000005],\"type\":\"scatter\"},{\"marker\":{\"color\":\"green\",\"line\":{\"width\":1},\"opacity\":0.5,\"size\":9},\"mode\":\"markers\",\"name\":\"Silver\",\"x\":[25,24,18,27,50,5,11,66,10,7,34,2,22,2,28,29,25,9,23,16,10,22,28,4,28,92,13,28,31,26,1,37,33,18,14,18,8,6,22,25,8,30,50,1,6,17,4,41,13,32,11,2,29,29,8,22,4,2,22,58,27,16,26,36,1,87,8,9,15,30,8,42,20,21,11,12,17,19,19,20,8,16,16,24,90,29,23,1,29,39,23,35,13,21,26,39,3,11,27,18,10,12,54,19,17,21,64,23,34,14,18,19,22,26,5,15,22,76,37,38,44,33,26,8,16,26,40,23,27,23,19,8,66,23,6,49,87,9,25,25,6,12,20,51,8,38,30,3,23,35,57,22,31,11,33,23,13,36,59,15,3,29,9,5,20,30,23,18,28,19,40,15,21,17,18,20,11,21,9,17,23,31,26,7,11,39,33,12,11,35,15,5,34,39,22,28,16,15,38,6,85,10,13,46,12,4,21,26,5,67,28,22,5,28,26,31,24,7,6,20,9,12,7,21,41,15,29,33,29,9,5,3,13,20,24,31,36,28,15,31,6,18,9,41,41,75,56,14,25,14,14,29,17,40,16,6,18,13,30,14,30,7,6,19,29,7,12,4,10,19,4,56,10,58,21,16,12,17,6,29,25,7,2,4,20,26,21,20,16,7,31,30,29,80,30,4,14,7,15,10,71,18,5,30,19,21,6,39,5,41,27,15,3,6,14,59,70,17,40,6,21,9,20,11,11,4,36,28,17,11,15,18,20,33,43,12,11,3,20,42,6,37,18,21,41,87,40,75,35,20,70,7,27,67,3,12,22,25,23,30,26,11,23,3,28,21,15,16,22,28,23,85,7,27,5,5,23,16,29,21,19,13,20,24,20,23,23,31,22,34,33,6,18,34,19,23,2,52,12,3,28,31,19,24,37,36,49,29,16,99,36,24,21,72,14,13,4,41,12,31,12,12,42,48,28,8,2,6,10,41,29,45,25,28,60,58,7,58,7,24,29,88,70,46,15,10,1,4,75,15,29,81,31,8,7,31,29,6,19,34,15,25,33,35,25,2,21,6,34,1,11,17,13,21,12,12,22,19,8,9,28,21,28,9,37,11,27,25,18,21,29,14,25,42,1,8,40,20,10,24,27,11,30,14,18,45,29,23,18,93,62,40,60,25,21,18,14,24,98,14,27,3,35,86,32,76,32,16,29,22,39,34,23,74,23,38,18,29,18,34,16,21,30,37,29,22,6,15,11,15,11,6,19,15,18,35,23,37,35,22,20,19,24,13,25,67,33,6,23,17,20,22,41,16,10,15,39,5,23,33,45,29,60,23,35,31,7,21,6,83,17,24,36,40,2,18,28,17,25,19,3,6,40,13,17,30,25,17,11,35,5,28,6,33,53,12,7,31,34,30,26,9,23,20,27,19,24,29,32,10,13,3,10,5,19,2,45,27,46,1,1,34,2,22,13,23,34,40,26,50,3,5,66,18,24,98,23,28,26,38,22,24,11,25,11,12,19,9,2,7,1,37,45,69,18,38,60,6,53,33,21,19,1,25,21,39,22,7,12,11,15,7,3,9,2,28,22,15,22,22,43,13,70,8,30,18,40,24,24,20,14,14,23,5,12,15,23,2,19,40,13,25,28,49,21,25,18,12,38,6,27,30,53,14,6,28,32,59,15,35,33,28,69,24,15,15,62,33,13,14,39,14,43,9,61,29,5,29,21,24,29,40,14,88,6,40,30,9,6,42,43,2,29,45,13,11,63,14,77,26,20,5,8,45,27,11,15,19,24,31,18,10,15,35,25,57,38,54,67,72,5,10,46,10,17,2,24,26,58,9,40,26,94,28,16,2,28,19,38,58,38,21,23,29,2,2,9,19,31,7,35,48,85,31,15,65,21,30,48,29,32,3,29,21,21,9,34,20,19,3,27,7,10,25,29,17,1,29,39,21,19,18,39,32,56,1,15,7,16,25,23,39,1,30,37,1,7,32,8,43,21,19,37,6,4,8,21,11,3,11,14,12],\"y\":[1469.344,1544.306,1155.806,1310.133,500.166,1928.44,1408.368,2219.889,2120.9139999999998,1143.4850000000001,696.118,2775.0,1345.505,2197.8,1499.9059999999997,654.789,1538.46,422.318,1712.9150000000004,985.6429999999999,592.6659999999999,2732.8199999999997,1444.998,360.75,2067.19,1980.6839999999997,1515.1500000000003,1686.7559999999999,1978.9450000000002,1900.69,754.8,2378.249,2073.739,1129.5359999999998,2429.7160000000003,1288.155,1004.1800000000001,814.37,1539.4959999999996,1767.9710000000002,902.578,1854.2180000000003,1049.8010000000002,11455.2,2288.524,846.967,339.65999999999997,1543.6399999999999,2637.656,429.237,448.366,424.02,964.5160000000001,436.15599999999995,925.962,1307.876,1975.7259999999999,1324.6000000000001,1219.3719999999998,2220.259,450.43800000000005,1592.85,1723.016,3812.48,0.0,1081.5839999999998,2063.194,3493.17,1023.2720000000002,2186.441,956.08,1336.1070000000002,1375.993,1111.5539999999999,2099.232,2498.6099999999997,4841.376,1801.9740000000002,1307.691,1441.1499999999999,1263.032,915.084,1383.578,1472.526,2256.8149999999996,1624.411,1626.372,207.792,2306.58,2793.018999999999,1400.9679999999996,1977.909,2013.096,1138.5639999999999,1692.158,2298.5509999999995,277.5,934.2130000000001,2118.0687000000003,790.135,1976.688,728.493,1049.727,1079.9560000000001,678.728,1563.7679999999998,849.483,1680.6879999999999,2128.98,1663.224,1170.1619999999998,1287.785,1094.941,1696.5240000000001,465.46,1138.712,1790.06,1001.9229999999999,2335.9580000000005,888.8140000000001,713.5450000000001,5121.725,1089.28,2635.88,917.4520000000001,1468.789,666.629,1586.893,608.0579999999999,1545.4530000000004,791.245,453.768,1312.76,1282.42,348.53999999999996,1404.7050000000002,1128.574,808.635,1293.8899999999996,1801.234,3367.0000000000005,559.81,1223.9229999999998,1098.4560000000001,667.776,2259.183,1256.5200000000002,802.53,1297.7749999999999,2742.6620000000003,1061.123,1276.4999999999998,1143.4479999999996,5609.199999999999,2065.784,1201.76,3421.0199999999995,4219.295,1426.8680000000002,775.1129999999999,193.14,1423.76,1158.026,4643.5,1131.3860000000002,1855.7720000000002,1441.5199999999998,1999.665,1875.16,1293.3350000000003,2240.831,1542.5300000000002,3038.0700000000006,1151.292,1006.548,1299.181,828.2450000000001,1291.263,3117.805,1248.158,2252.523,3411.7699999999995,1393.346,265.142,2077.8089999999997,2495.4649999999997,1194.952,851.814,627.335,2458.7980000000002,728.123,284.15999999999997,1750.1740000000004,1869.166,2338.03,1628.0,1212.4899999999998,1730.342,2318.605,563.14,1516.7409999999998,2684.868,558.8480000000001,453.13899999999995,1387.8700000000001,168.72,545.195,721.13,1552.446,1790.282,2240.8680000000004,1153.697,1788.58,1652.494,497.502,2134.5299999999997,1675.693,3744.3999999999996,1241.424,1214.192,3960.7760000000003,627.0760000000001,332.778,2339.8800000000006,2527.729,1816.1819999999998,1822.805,1620.452,2071.889,653.5310000000001,614.9399999999999,159.84,2368.5179999999996,1147.962,1881.7459999999999,1767.8229999999999,2238.7219999999993,1711.8419999999999,1536.24,2176.414,403.226,1515.409,605.394,835.349,596.44,953.416,749.916,747.8070000000001,2126.39,3933.1,1813.8139999999999,1433.8239999999998,1344.3580000000002,1788.025,1607.058,1959.594,1170.1249999999998,1032.4850000000001,2355.0869999999995,1191.1039999999998,1714.5059999999999,516.372,458.05999999999995,1993.5969999999998,1758.8690000000001,1320.3450000000003,1685.683,1001.22,1315.5720000000001,1436.5249999999996,2415.36,1070.188,689.051,610.7590000000001,1199.318,2917.006,841.3430000000001,512.82,422.207,581.085,1455.3210000000001,791.6519999999999,2442.0,2225.772,1459.4279999999999,1527.2859999999998,1186.146,1276.1299999999997,1641.3200000000002,408.70200000000006,2567.0969999999998,2209.233,422.466,1076.885,1057.238,399.415,722.4250000000001,1846.115,2325.0060000000003,592.703,1159.913,1214.3400000000001,1441.6680000000001,2083.6549999999997,1555.85,1111.924,1029.71,940.207,712.62,1428.7549999999999,1656.416,1072.963,286.38,731.268,847.263,714.6179999999999,1189.291,7917.112000000001,729.3810000000001,379.065,1205.275,1760.46,2388.905,630.1840000000001,987.0120000000001,193.14,2628.0359999999996,1922.8159999999998,944.98,2181.8900000000003,2831.684,1349.76,1366.0400000000002,2051.206,1734.449,1137.676,828.356,373.33,1153.253,1848.816,1716.06,546.0830000000001,424.649,423.243,789.099,1097.975,1237.798,1590.519,962.6290000000001,464.64599999999996,984.1999999999998,1917.636,935.101,667.295,1986.9,2721.942,1271.394,5511.15,1410.884,1778.6269999999997,1693.897,811.743,1518.7759999999998,3241.2,1794.3149999999998,1327.6340000000005,681.503,1504.161,1221.4070000000002,2306.9500000000003,1926.96,1096.754,1485.18,1804.675,394.27200000000005,4771.15,829.318,2551.076,2304.545,1149.294,1847.4840000000002,4694.19,1225.366,1214.895,2796.275,1514.78,1589.52,2264.622,1171.716,2336.809,1902.3549999999998,1317.2,1111.3319999999999,2305.6919999999996,942.8340000000001,1456.838,1512.56,500.64700000000005,946.83,890.0350000000001,1836.8280000000004,2123.8740000000003,1148.739,1213.489,2110.85,988.381,600.4730000000001,1153.327,3805.6719999999996,1301.179,643.6890000000001,1502.533,1348.6499999999999,1753.0970000000002,1025.0849999999998,1583.341,1653.678,2376.917,1172.4560000000001,1458.318,857.882,2649.94,2319.0489999999995,2119.397,1882.5600000000002,502.682,160.95000000000002,346.98600000000005,633.403,1973.2100000000003,552.373,740.5919999999999,579.3459999999999,1830.1680000000001,1654.714,877.159,598.068,802.0120000000001,466.718,1729.7869999999998,1680.207,865.097,544.233,1821.7320000000002,230.991,1524.437,1628.0,549.228,1984.6799999999998,789.2099999999999,314.9810000000001,1083.064,1035.149,640.6919999999999,688.2370000000001,1684.6099999999997,1770.561,722.0550000000001,1113.811,2176.081,901.1349999999999,1573.684,2456.8,1656.2679999999998,2432.195,3019.2,1249.6380000000004,3246.5280000000002,2074.479,111.0,1133.865,1429.7909999999997,1114.884,1197.653,1304.99,706.8480000000001,1516.9259999999997,1319.7900000000002,1661.7440000000001,573.056,728.4560000000001,552.4469999999999,1696.709,759.4250000000001,2159.875,1165.7219999999998,2300.771,1001.96,893.994,3874.307,1758.536,911.3100000000001,1299.8100000000002,2257.0370000000003,1670.254,1538.534,4824.467000000001,1971.8780000000002,508.269,1450.326,1315.572,483.73800000000006,409.96000000000015,1098.9,254.708,852.9609999999999,1855.143,1910.532,1403.595,1653.4189999999999,1940.7239999999995,1236.6509999999998,619.75,1243.311,1578.531,1496.9460000000004,1248.5279999999998,1372.737,1594.478,622.0439999999999,584.711,155.363,1580.1589999999999,1507.7499999999998,783.9559999999999,2324.6359999999995,873.533,3458.094,1225.5879999999997,1619.49,3163.5740000000005,1339.6220000000003,1240.684,1376.7330000000002,2161.9840000000004,1613.866,1165.722,1118.732,2263.956,2267.2859999999996,1138.786,1914.9350000000002,2295.48,1980.7579999999998,2716.281,1387.5,3169.42,1228.215,1130.498,1253.227,797.2760000000001,795.796,1163.465,1482.5196999999998,1351.499,2193.73,2023.9739999999997,3385.2410000000004,2005.5109999999997,1985.7159999999997,1599.1400000000003,1532.54,1440.9279999999999,2783.9910000000004,1523.29,1324.415,2071.519,2999.22,2095.606,1118.325,1117.03,1336.5140000000001,2339.3990000000003,1014.355,558.885,1192.9170000000001,1464.4599999999998,2501.9399999999996,1342.915,2162.65,818.403,1124.541,1108.52,1639.2849999999999,561.7710000000001,970.1400000000001,467.12499999999994,1119.99,1113.145,2378.397,681.762,1410.44,958.337,2618.4530000000004,25.529999999999998,1169.607,2013.91,1224.7,1495.91,1352.165,334.11,376.29,1791.984,795.7960000000002,904.317,1684.4250000000002,2912.455,1057.7930000000001,1042.845,3202.7200000000003,459.54,1670.3280000000002,1160.3939999999998,1699.188,670.033,925.5549999999998,333.148,905.7600000000001,1785.1390000000001,2288.7829999999994,1872.9030000000002,662.152,1232.396,1194.3600000000001,1803.7869999999998,1075.442,1918.154,2224.699,440.226,679.6899999999999,1563.6200000000001,4721.2,2434.2300000000005,7392.6,1116.3640000000003,3334.4399999999996,2307.875,574.3879999999999,1009.4340000000001,1545.1200000000001,1720.13,828.5039999999999,7408.88,1366.558,1171.494,2263.8450000000003,4238.72,1407.443,634.883,837.4950000000001,398.12,298.96,1535.056,1130.7939999999999,1229.51,1704.183,1067.154,1543.122,1841.157,1326.006,1264.2899999999997,1529.802,931.919,2178.745,792.9839999999999,715.728,1229.9170000000001,536.167,130.98,2516.0740000000005,1598.4,721.0559999999998,539.9409999999999,810.818,1402.818,771.3019999999999,628.2230000000001,2009.285,599.1779999999999,3021.9010000000003,1503.9759999999999,1609.574,76.96,1919.0790000000002,1180.3739999999998,1274.0209999999997,1421.022,466.644,2597.3999999999996,722.832,1002.33,262.70000000000005,354.645,1323.749,2649.2000000000003,1604.0610000000001,415.88,1664.0009999999997,1255.928,2375.474,914.418,1844.376,1991.9689999999998,1064.194,919.8570000000003,1137.602,959.5949999999999,1572.5,1407.85,1721.684,6251.15,790.9860000000001,1218.5580000000002,1084.47,763.458,1175.712,887.7040000000001,532.8000000000001,1645.538,1267.7310000000002,1421.0959999999998,422.65100000000007,1310.3549999999998,1579.123,1455.9129999999998,706.2560000000001,659.5619999999999,4637.432,1175.194,2825.468,414.326,1844.1539999999998,925.1480000000003,2383.91,1346.43,1828.725,594.1089999999999,1353.6449999999998,473.08199999999994,1155.2510000000002,1650.866,1834.3490000000002,1480.3699999999994,751.84,1244.68,4660.371999999999,1694.2669999999998,1041.994,2855.8449999999993,1879.0080000000003,1942.2040000000004,983.312,1492.2099999999998,800.3100000000001,1914.8610000000003,2302.991,506.9,1893.734,1531.9479999999999,1468.419,1393.568,2304.656,1118.14,2240.6459999999997,1898.84,772.0050000000001,2023.1969999999997,364.154,550.7819999999999,988.492,1135.3080000000002,5504.12,1273.318,798.1639999999999,598.1790000000001,1460.464,1144.6320000000005,1219.52,808.5239999999999,1863.32,1056.572,2300.1420000000003,614.4960000000001,725.2,2038.848,682.28,885.817,1254.1150000000002,1546.415,3275.2030000000004,1124.689,622.488,1313.9069999999997,2495.724,1064.083,1375.956,4230.098999999999,909.4970000000002,1048.839,1031.3380000000002,4136.2300000000005,392.57,1296.4430000000002,1895.547,135.272,130.98,407.777,2241.46,935.3599999999999,1219.705,1584.266,1698.004,2227.7329999999997,903.1700000000001,362.6,948.384,562.622,408.40600000000006,709.1790000000002,900.1360000000002,1150.7369999999999,1469.973,786.3979999999999,539.423,1126.8719999999998,286.74999999999994,653.716,2062.01,413.2160000000001,1881.3020000000001,380.471,455.35900000000004,1026.195,2155.5829999999996,1247.048,1306.8029999999999,1066.118,3002.3650000000002,564.916,2334.1079999999993,615.7539999999999,1935.1000000000004,451.918,1442.1860000000001,426.647,853.405,362.48900000000003,1110.074,1345.5049999999999,629.592,2665.924,3011.8000000000006,1176.6000000000001,1676.1,1243.681,1270.765,334.776,2552.8150000000005,620.3789999999999,2146.185,622.747,419.876,1593.59,2490.4700000000003,765.271,3446.5499999999997,3772.224,663.558,2264.696,1374.9940000000001,1961.5550000000005,2360.822,384.8,1762.4949999999994,2338.6589999999997,184.26000000000002,3603.2080000000005,606.06,514.6700000000001,919.1539999999999,2449.6960000000004,1639.1,2193.989,1563.5460000000003,2205.5699999999997,352.75800000000004,1292.299,1047.6549999999997,754.8000000000001,650.904,1242.682,658.785],\"type\":\"scatter\"},{\"marker\":{\"color\":\"red\",\"line\":{\"width\":1},\"opacity\":0.9,\"size\":11},\"mode\":\"markers\",\"name\":\"Gold\",\"x\":[46,5,25,38,27,113,34,52,91,51,78,110,46,107,47,13,42,71,82,82,22,72,28,30,106,47,99,75,30,97,17,109,19,20,20,31,27,59,47,40,40,26,45,10,71,27,48,28,35,76,48,2,22,73,18,21,159,24,20,58,47,76,79,55,44,98,63,46,23,4,74,15,85,79,79,42,65,46,43,72,79,63,46,149,90,21,66,43,58,36,31,67,25,23,13,38,91,96,46,85,37,31,54,2,81,54,72,26,78,20,106,25,21,17,53,21,51,54,42,40,51,32,42,37,53,97,35,43,38,28,24,19,28,78,29,74,49,46,59,46,27,41,86,58,79,69,86,35,65,18,59,44,38,27,6,66,25,87,98,124,51,34,33,82,49,83,85,46,23,53,21,58,99,43,98,74,44,81,92,11,62,63,101,40,28,63,56,16,104,53,65,53,28,48,105,43,28,85,42,20,63,43,33,34,41,72,28,24,76,25,70,15,208,57,45,39,60,96,40,93,55,20,55,101,93,81,23,61,36,27,27,19,43,26,33,30,41,27,58,45,35,137,25,92,28,54,16,13,41,39,47,30,42,20,66,39,31,89,66,92,6,32,54,56,80,52,42,65,153,69,35,74,34,10,72,15,44,46,26,40,11,26,49,52,48,41,108,52,29,52,58,29,42,42,39,37,44,24,67,60,118,40,50,35,79,42,108,75,53,52,55,64,32,27,33,26,21,71,60,31,47,33,55,69,46,131,59,45,73,20,73,54,194,43,97,27,1,12,93,70,20,109,62,37,180,130,90,43,29,42,10,47,46,96,57,73,18,17,18,229,64,32,111,69,33,235,24,100,164,152,53,50,16,53,24,41,28,26,102,29,99,90,170,132,61,50,68,22,28,25,71,55,37,52,45,17,54,89,26,69,89,41,38,71,52,60,35,30,44,12,47,53,63,48,29,29,42,28,66,60,48,98,47,47,53,6,23,20,30,87,77,45,57,78,44,63,19,55,85,59,27,83,38,34,32,72,4,61,26,77,158,144,20,128,31,72,61,35,48,52,127,130,97,57,42,82,104,70,26,42,27,49,47,33,57,47,25,8,35,69,35,84,21,28,82,102,52,29,80,26,91,20,22,29,103,63,19,51,1,32,69,37,9,52,35,58,143,50,89,44,47,77,82,11,63,41,20,58,39,7,23,58,47,33,95,42,57,13,86,17,26,20,63,29,44,95,27,194,53,99,39,53,82,62,60,30,58,157,57,52,24,77,76,11,46,50,35,15,97,92,18,57,83,41,61,29,56,20,27,31,57,104,168,45,51,44,9,24,77,22,52,67,77,60,45,3,100,16,64,49,60,25,238,52,32,21,47,48,116,33,33,53,19,18,86,55,35,118,128,91,32,70,26,62,192,45,61,10,20,35,12,8,98,119,64,31,48,208,35,89,41,49,62,33,68,51,39,68,54,50,62,47,22,97,80,20,40,76,105,49,51,30,143,74,76,29,19,41,91,42,28,84,20,49,43,37,52,130,9,33,90,94,28,64,28,100,55,26,65,6,71,39,83,84,70,68,180,33,21,21,31,39,51,67,39,76,48,16,30,212,38,40,78,35,37,31,35,18,29,18,20,34,69,23,58,28,45,31,67,57,98,63,19,66,46,41,44,97,137,96,47,37,46,51,91,90,69,18,61,45,54,17,27,4,42,37,69,19,37,118,18,39,153,47,38,57,28,34,81,18,76,228,97,111,32,102,59,88,34,83,210,82,73,63,45,54,71,51,18,84,63,99,82,182,170,35,53,18,42,29,39,56,50,11,84,86,4,35,156,77,4,31,55,32,84,52,57,31,19,18,87,57,42,28,27,85,29,66,33,29,48,64,69,50,34,62,16,53,20,6,98,44,30,62,60,123,27,79,93,43,151,82,28,53,42,95,25,170,89,54,145,48,76,60,155,76,60,103,67,28,26,28,23,63,20,19,52,26,39,26,135,99,162,44,60,93,57,143,327,83,54,44,62,57,42,86,16,101,31,42,41,87,3,12,37,23,49,44,52,74,16,153,22,28,30,75,70,6,65,43,92,83,62,99,78,62,64,25,28,64,52,187,74,65,90,39,35,260,35,20,13,67,54,63,80,128,61,32,29,96,57,103,63,47,47,69,36,29,19,40,31,55,69,57,87,112,78,124,127,80,69,94,45,69,51,66,55,24,9,73,33,543,183,87,27,8,16,45,29,87,57,83,51,47,78,27,92,38,113,41,6,30,30,26,43,48,54,36,19,19,54,27,41,78,181,27,5,28,38,127,52,20,87,45,33,19,47,75,25,145,49,106,34,27,46,49,25,50,35,214,23,50,83,55,59,100,26,33,39,70,35,40,51,91,52,44,82,19,43,18,15,30,46,35,55,23,29,50,10,40,67,35,43,25,19,75,21,53,156,82,134,58,82,140,43,33,48,23,61,61,56,1,51,297,24,15,79,44,46,26,64,67,193,114,34,39,59,80,94,23,145,5,39,65,90,21,77,19,71,20,104,68,23,38,81,93,58,60,22,30,46,112,53,96,19,121,47,19,37,73,2,73,2,36,70,41,38,46,26,378,74,36,47,20,38,61,37,38,21,34,24,37,131,38,54,31,74,97,44,68,45,141,68,32,42,26,31,64,30,124,49,88,78,47,16,98,134,21,61,46],\"y\":[3510.8560000000007,6510.15,1591.5550000000003,25214.167999999998,1417.2110000000002,10089.048999999999,4140.262999999999,1206.052,3224.698,3888.293,7241.27,4900.65,4093.6800000000007,5946.122,3163.463,5413.2480000000005,2602.8389999999995,4348.314,5100.080000000001,1407.739,1379.36,1885.446,607.6510000000001,3454.69,2247.861,42852.659999999996,3380.098,2530.4300000000003,2236.687,5934.763000000001,1220.445,2856.067,6145.33,27287.13,1377.214,1863.9119999999998,1534.612,4539.493,2922.593,2552.63,3608.8320000000003,25574.399999999994,2446.8839999999996,4615.749999999999,3737.666,3410.956,3259.959,3361.302,2328.4470000000006,4493.317,1741.96,1272.8000000000002,3402.5570000000007,13370.431,1123.875,1279.534,28980.138999999996,7131.084000000001,4064.376,5666.994,2910.198,3644.1670000000004,4431.897,3412.843,3971.21,6636.245999999999,3560.843,1567.764,1136.2330000000002,2637.3600000000006,4654.119000000001,1799.014,3595.5119999999997,4443.9220000000005,6246.673000000001,3779.4760000000006,2927.921,1733.117,1308.5049999999999,1823.508,5830.793000000001,3374.178,3219.3329999999996,4528.43,5626.146,3031.3729999999996,3135.4169999999995,2238.944,3814.9589999999994,2755.9450000000006,2592.701,2455.5049999999997,1854.1440000000002,2632.2169999999996,1478.187,2584.746,7798.342,804.306,2008.1009999999997,3014.982000000001,4188.918000000001,2142.0780000000004,3232.838,1332.0,2286.9330000000004,5126.387000000001,4188.5109999999995,2214.709,5754.683999999999,2370.812,5730.1900000000005,738.0759999999999,2915.0450000000005,2919.3,4221.441000000001,1298.3300000000002,2941.9440000000004,3182.444,2870.645,3622.744,2751.061,2496.39,2842.488,2881.005,3773.112,2118.472,2505.2699999999995,5035.6630000000005,5713.281,3711.321999999999,5144.849999999999,2636.25,2371.071,6009.577,2155.62,808.3389999999999,2513.965,4695.67,4177.818,3915.8579999999997,5346.5,2496.316,5297.585999999999,4582.339,5381.946000000001,4152.9169999999995,4498.534000000001,2417.321,4317.049,1080.4,3297.1440000000002,5140.817,2439.928,2516.6659999999997,2326.4860000000003,778.147,4739.1449999999995,1078.217,2319.863,2524.9169999999995,3397.34,2161.022,645.169,6657.521,2876.861,6471.374,1382.8749999999998,2708.6590000000006,1728.0479999999998,2889.8109999999997,1404.705,4133.381,2565.284,1037.998,2508.6369999999997,4335.66,2013.466,2766.786,6062.339000000001,11360.554,3962.8109999999997,3511.7439999999997,2998.8499999999995,3823.358,1921.9279999999999,4051.796,3451.989,1413.9180000000001,5820.84,3321.712,1468.6040000000003,5506.784,2633.8819999999996,2983.7169999999996,3993.5580000000004,2959.63,1939.3180000000002,8789.017,3994.742,1233.876,3759.7179999999994,2784.6200000000003,1819.8820000000003,2473.191,4963.919999999999,4278.532,3508.525,6094.861999999999,4389.236,2439.817,3961.4050000000007,6345.352,5630.512000000001,1332.037,1290.5600000000002,2548.7819999999992,17017.854000000003,2338.4,3543.3420000000006,1524.585,3087.9089999999997,1337.9940000000001,3200.722,5690.414999999999,5903.276,9810.402,4033.518,3756.5729999999994,4741.661000000001,2341.989,2089.094,1437.524,2741.515,1230.7679999999998,2317.8650000000002,4487.508000000001,2509.525,1718.909,4578.860999999999,2103.6349999999998,2756.7219999999998,12028.9627,1627.704,2213.3399999999997,1530.2830000000001,3218.5190000000002,3405.887,1185.7019999999998,4684.496,7559.396,1960.001,3560.103000000001,2573.7570000000005,3394.158,5259.957,2378.359999999999,2161.059,2411.7339999999995,5283.673999999999,5773.406000000001,6141.075000000001,4841.857,2761.532,833.8319999999999,5008.838,1386.3899999999996,1847.854,3882.669,3457.7239999999997,719.3539999999999,22114.123,4685.0509999999995,2212.267,2563.545,5116.138,2612.681,2625.9269999999997,2358.7499999999995,1538.5339999999999,3385.9809999999998,13846.140000000001,2436.968,2298.773,4978.794000000001,1601.656,1878.3419999999999,4108.924,9049.867000000002,6037.549000000001,2126.908,1346.0230000000001,1668.108,2069.817,3157.5429999999997,2595.180000000001,2765.528,595.8109999999999,1726.79,3716.205999999999,3667.181,3885.444,5724.64,3425.127,5412.064,11635.982,3294.258,6265.765,5454.022000000001,3585.5220000000004,4304.765,5610.088000000001,4143.038,2202.4249999999997,7067.037,7745.284000000001,3205.347,2473.6719999999996,3292.740999999999,3779.846,493.94999999999993,3992.1519999999996,2594.5509999999995,3375.066,13754.195,1287.97,2316.459,4616.453,3860.8020000000006,1805.5629999999999,5460.497,7983.601,7619.965,4088.7590000000005,2849.1109999999994,5538.826000000001,3008.5069999999996,1191.6960000000001,5079.360000000001,5254.74,4303.951,1388.795,2451.583,978.428,6800.303999999998,7781.321999999999,3916.894,2215.412,1706.403,2026.3419999999999,3425.645,4845.52,613.275,3937.8359999999993,5117.7660000000005,1022.754,3904.795,1222.6649999999997,3605.7980000000002,1347.614,2294.148,3451.545,1988.676,5408.105,3998.8119999999994,5662.332,6117.654,623.931,3856.362,2110.702,2286.563,1405.371,821.289,2047.728,3328.6310000000003,2486.252,3725.826,2256.4449999999997,3073.812000000001,2422.02,914.455,2360.1929999999998,6792.09,4698.963,1522.6609999999998,2832.535,1375.29,2188.735,1177.229,4167.569,3393.1589999999997,3209.306,1219.8159999999998,2456.097,2656.8959999999997,1406.0739999999996,4308.835,4863.465000000001,5358.377,4069.926,4514.9619999999995,5238.275000000001,2360.7850000000003,2734.152,5491.021999999998,3242.754,3744.03,2704.1820000000002,2513.9280000000003,3128.5350000000003,1307.0990000000002,2052.205,2880.4500000000003,4108.258,2433.86,1876.973,4172.527,2580.935,1891.9950000000003,4852.106,4340.544000000001,3112.44,1932.806,5421.684,2612.9029999999993,2817.8829999999994,6889.4000000000015,2426.2749999999996,1230.8419999999999,1607.0950000000003,4541.491,4695.225999999999,5957.555000000001,3617.7490000000003,4869.459,2771.67,4077.289,1373.44,1072.334,1243.8289999999997,2573.054,818.6990000000001,2216.3,707.8840000000001,5890.622,4863.465,2926.182,1207.68,862.9510000000001,2020.94,1814.924,4611.384,1857.7330000000002,1143.078,1565.248,1835.9769999999994,1394.937,1735.3000000000004,3944.7549999999997,2320.3810000000003,18348.67,1722.535,2610.3129999999996,1420.9850000000001,3655.082,3306.283,6455.611999999999,2047.432,4105.261,3633.659,2770.8190000000004,2860.2110000000007,3259.145,3313.7570000000005,1867.76,4292.259,5071.22,917.896,1174.861,2602.4320000000002,3801.5280000000002,3685.57,5799.676,1258.407,1693.5639999999999,6044.986000000001,5442.699999999999,3618.3410000000003,3634.9540000000006,8710.725,1845.338,4910.492,1114.773,1218.225,1126.539,3119.2849999999994,1505.0120000000004,1522.217,3863.984,14285.7,3994.5570000000007,4575.198000000001,2416.9880000000003,1555.1100000000001,3309.317,2719.278,4511.78,8315.786999999998,3966.3630000000007,9308.608000000002,2740.886,3296.145,6699.848999999999,5572.644,6354.232,2671.178,2276.0179999999996,1800.7530000000002,3477.186,2375.178,16675.937,2569.2799999999997,4345.094999999999,3421.945,1156.694,10168.747,2514.8160000000003,3883.89,2645.352,2124.0589999999997,7475.924,2086.578,1456.0980000000002,2874.974,3378.8029999999994,2229.287,6947.0830000000005,7427.38,13702.172999999999,1889.627,5027.855999999999,2867.13,3516.332,1470.195,1419.616,3605.7239999999997,1590.408,1993.301,3880.745,1237.7610000000002,1942.0559999999998,1992.635,1737.0760000000002,1374.7720000000002,6553.4400000000005,5333.254,4196.835999999999,2440.002,4670.139999999999,13360.552,3700.999,1270.95,1475.708,2988.009,1992.3020000000001,2129.831,1613.422,1617.751,1752.505,2962.183,5090.127,2406.591,2247.565,2598.325,3480.4789999999994,1289.8200000000002,2526.767,3380.6159999999995,1437.746,5204.383000000001,1200.9089999999999,2818.438,4433.451,10804.592,4046.616,2874.3487,1244.6799999999998,5746.766,4784.211,5676.762000000001,2500.46,4389.495,2681.612,3008.1000000000004,2264.437000000001,2391.31,3413.361000000001,2769.4500000000003,3789.17,8295.437,2532.058,2431.7509999999997,5276.792,887.1120000000001,1145.705,2577.716,3924.0719999999997,1224.2560000000003,4139.597,2215.301,1876.1960000000001,1536.4250000000002,4147.255999999999,4955.965,4049.9829999999997,1971.952,2643.354,4021.604,2352.016,1278.2020000000002,817.145,3572.757000000001,8167.38,3271.3179999999998,2586.5960000000005,3936.615,2902.9460000000004,3344.4300000000003,13819.389000000001,1908.349,5150.326,6664.217999999999,7772.22,2112.5519999999997,3276.2390000000005,6120.946999999999,2353.718,2131.2,2966.5119999999997,3096.1229999999996,3530.133,3879.4130000000005,4529.022,1440.2990000000002,883.745,2635.2879999999996,7164.384,3311.9809999999998,1310.1329999999996,1270.136,1466.976,1299.107,609.316,2367.593,4097.602,22625.537000000004,6320.487999999999,1349.464,2620.4139999999998,2984.309,1586.893,1741.812,1549.671,2464.5699999999997,4065.486000000001,8875.782000000001,4226.953999999999,2930.8069999999993,3924.516,45856.69,1771.4859999999999,3673.027,5236.572999999999,1512.9299999999998,929.588,1626.7419999999997,2031.078,2808.004000000001,1745.586,4860.135,11715.68,4429.899,2863.7629999999995,4960.590000000001,5594.215,2900.43,2459.9450000000006,5401.482,3152.955,1207.088,5002.4,4875.1939999999995,4149.143,3026.0819999999994,7420.830999999999,2708.03,4775.59,3117.25,1566.4320000000002,4843.818,3208.307,2532.354,2428.125,12974.198000000002,2286.9329999999995,2624.705999999999,2351.0170000000003,2683.1659999999997,1037.924,6767.448000000001,2429.7529999999997,3794.1279999999997,3043.1759999999995,4218.777,3735.3350000000005,3839.083,24485.304999999997,4287.523,1958.8169999999998,3632.882,1501.127,2817.1059999999998,1987.1220000000003,1459.2059999999997,2457.7620000000006,8371.694000000001,2554.2580000000003,3932.1750000000006,3199.982,3132.8640000000005,4792.610000000001,3739.2200000000007,3666.2560000000003,3209.0469999999996,1513.67,5634.175,5230.542,6660.259,3831.165,3188.993,2470.3050000000003,4222.588,7629.622,2213.34,9472.0,2614.309,2280.162,4964.1050000000005,1214.1550000000002,1208.9750000000001,1586.1159999999998,2198.6879999999996,932.067,2031.559,1370.7759999999998,2129.0170000000003,4130.939,1829.428,2437.8559999999998,2718.649,1211.01,1840.4910000000002,4886.072,1361.3410000000003,1750.2109999999996,6588.183,2472.9320000000002,2056.793,1173.6399999999999,5113.659,5754.758000000001,5501.53,6311.459999999999,1511.7089999999998,603.359,794.2049999999999,778.2950000000001,3890.1800000000003,3597.2509999999997,1280.644,2422.2789999999995,852.8870000000002,6812.366000000001,5262.88,2406.5909999999994,2820.8430000000003,1113.0710000000001,2846.3730000000005,816.294,1345.5049999999999,1845.56,2706.5499999999997,5001.031,3058.161,1483.182,5298.141,1792.206,2877.12,3235.983,3872.309,4604.983,24970.559999999998,2196.875,2031.189,3411.844,21163.334000000003,3097.2699999999995,3113.217,1891.144,3987.638,2274.242,5260.253000000001,3735.52,2455.357,3463.496,1221.111,1332.5919999999999,1953.8960000000002,4394.342,1851.5539999999999,3009.8759999999997,2999.109,1545.601,4271.539000000001,4652.787,2546.821,3084.9860000000003,4690.305,2109.4809999999998,1134.864,6261.399000000001,1182.557,6550.258,3803.6000000000004,1199.688,1783.4370000000001,1965.9950000000001,2429.5310000000004,11210.518999999998,4297.660999999999,2179.8550000000005,2889.7740000000003,2749.507,2233.875,2406.887,3093.422,2308.5409999999993,6529.464,5538.271,5555.106000000001,1768.9329999999998,2849.37,2447.6240000000003,1436.636,1573.203,2210.676,5993.000999999999,1986.8629999999996,2965.5130000000004,4149.883,2024.159,1704.368,2868.1659999999993,1205.8669999999997,4677.503,1267.0650000000003,1215.08,2766.897,1860.3600000000001,2608.9440000000004,1590.4080000000001,5841.079,1944.498,1882.597,6315.456,1380.9880000000003,2145.149,2300.216,2132.1620000000003,9606.864999999998,3132.9750000000004,1408.0350000000003,2083.951,3518.441,971.916,4360.672,4727.674999999999,1142.3380000000002,1876.0850000000003,1625.8909999999998,2406.517,1321.6770000000001,3992.152000000001,6930.84,4193.025,5390.752,1793.834,5526.801,5227.878000000001,3292.741000000001,2169.421,3404.3700000000003,3294.073,1407.295,3811.518,2758.424,4689.084,4001.809,3509.3759999999997,4073.3300000000004,3423.795,1530.8750000000002,5018.420999999999,4365.593,19359.251000000004,5406.218,3179.595,1154.9180000000001,3111.9959999999996,1399.3399999999997,1073.592,5201.3859999999995,5796.605,4899.392,3595.438,2463.386,3098.7500000000005,2245.567,3717.575,2774.186,931.29,1180.2999999999997,4687.789,3092.3859999999995,5341.652999999999,2633.623,2945.3109999999997,1422.28,6287.41,3748.137,2561.214,5788.871999999999,3955.744,1239.9810000000002,3475.4840000000004,1179.412,13462.117,1559.624,2035.222,1164.353,4199.648,3533.1299999999997,1044.1029999999998,1179.005,1422.724,1309.2820000000002,1008.028,1104.1170000000002,2232.469,2082.73,1149.368,3941.7949999999996,6302.617,569.5039999999999,2060.7149999999997,487.586,731.231,5123.945000000001,8616.707999999999,9621.257999999998,4442.294000000001,1935.507,7503.119,2891.0319999999997,1989.6380000000004,2172.4549999999995,6438.0,5154.322,1436.1180000000002,1806.34,1568.3929999999998,2393.604,1497.242,737.3729999999999,966.1070000000001,2901.2070000000003,27123.96,2576.7169999999996,2417.506000000001,8141.554,2882.0780000000004,2878.6,1714.802,2215.671,2584.117,2808.929,1353.312,1121.6920000000002,2003.6609999999998,1800.8639999999998,6429.49,1171.05,2500.053000000001,2824.136,4162.759000000001,2628.073,1840.972,4210.6,2549.67,2068.1519999999996,11089.010999999999,4239.608,1141.376,2364.374,2675.877,2415.138,4424.83,3475.669,3321.194,2141.9300000000003,2390.052,3442.5170000000003,1788.062,2003.4019999999998,3163.315,620.194,1679.837,1408.22,1660.93,4596.51,4192.359,4588.74,3674.766,1438.523,7564.169,715.654,1443.259,5105.63,1950.085,1954.8210000000001,4901.908000000001,2024.122,2635.473,3731.0429999999997,6650.75,3213.4129999999996,4467.972,6196.352999999999,2203.054,2237.1679999999997,2694.192,1286.675,7370.807,2741.478,2831.758,2955.338,1424.87,1934.7669999999996,4424.978,12122.68,3822.1,4588.407,2561.103,2592.331,1396.528,2637.286,3029.6339999999996,1003.44,676.2489999999999,4534.017,2436.709,6901.2029999999995,1195.2480000000003,2582.2299999999996,4754.647999999999,2020.3479999999997,1434.4160000000002,13708.019,1475.1899999999998,574.869,1297.3680000000002,1253.5600000000002,7522.47,3334.44,19947.477,423.058,5246.711,4429.2699999999995,6878.891999999999,2528.802,1403.9650000000001,703.703,2686.3849999999998,4143.297,2096.4199999999996,2960.888,1355.051,1522.9199999999998,1244.7910000000002,1262.736,4824.948,3058.124,3119.1,6439.776000000002,1510.932,4926.809,2605.725,1442.4080000000001,15193.827999999998,1784.1399999999999,3731.597999999999,1745.29,4064.1910000000003,2349.3150000000005,744.1440000000002,2510.413,1413.6219999999998,1543.751,923.9640000000002,1645.3159999999998,7829.903,444.1109999999999,1564.6560000000002,2702.48,1500.7939999999999,1321.64,2070.187,700.7800000000002,1133.902,1466.421,14346.824,4556.55,2602.469,15006.164,7794.124,11164.01,827.5049999999999,2792.167999999999,874.3100000000001,1304.953,5246.710999999999,1186.664,2180.9280000000003,1290.3010000000002,2523.067,2902.021000000001,3700.592,2096.346,2417.3950000000004,1477.003,1677.58,1478.705,5123.981999999999,4328.778,3627.1469999999995,4555.846999999999,7795.307999999999,4963.254,5885.997,1416.3600000000001,4033.888,3544.489000000001,2549.781,5168.862999999999,1914.232,2220.259,1782.4750000000001,2300.4750000000004,3853.957,2885.63,7708.099000000001,3264.2879999999996,5777.957,8260.212999999998,2974.8740000000003,15964.464,1948.679,9779.84,1199.688,4488.692,2965.587],\"type\":\"scatter\"},{\"marker\":{\"color\":\"black\",\"line\":{\"width\":1},\"opacity\":0.9,\"size\":13},\"mode\":\"markers\",\"name\":\"Platinum\",\"x\":[103,199,59,91,56,175,123,314,420,103,314,538,154,63,91,75,24,50,107,50,45,84,129,62,120,116,215,23,63,79,180,238,95,151,305,76,64,61,339,404,89,219,110,176,458,131,99,43,172,136,403,69,425,112,358,155,423,304,145,201,120,235,140,127,704,170,135,319,86,87,121,131,314,265,94,181,110,226,119,57,321,56,142,108,32,611,207,141,1677,187,211,440,316,187,59,81,107,62,87,124,476,75,108,268,134,119,166,60,128,158,172,152,51,155,304,104,127,157,67,101,167,195,71,443,63,382,99,302,260,109,422,48,42,162,44,115,141,436,172,223,296,179,109,136,175,176,341,126,83,174,87,128,166,247,226,201,59,71,146,188,146,79,96,166,108,470,195,57,39,90,197,134,336,102,60,104,196,191,321,342,142,117,135,119,177,115,31,137,76,46,74,174,206,110,76,139,33,307,115,336,104,165,65,142,59,110,118,149,122,148,117,49,45,160,20,152,626,149,338,111,107,351,234,84,121,155,86,208,171,84,243,143,235,209,488,1106,284,202,111,324,43,181,450,214,105,250,79,123,156,160,34,159,167,52,200,134,47,66,210,1204,149,327,165,240,65,265,259,579,87,102,112,108,59,100,193,67,175,115,159,112,141,111,78,106,111,143,156,280,47,101,237,100,61,62,143,105,180,117,87,101,123,259,162,90,129,118,524,140,186,286,350,87,182,103,107,590,124,206,222,224,144,382,55,51,293,258,970,240,72,281,144,144,120,193,194,624,164,107,799,316,68,101,203,291,972,216,62,519,330,76,72,114,399,366,48,113,216,74,423,127,270,123,330,383,197,102,55,20,92,134,122,152,172,106,199,237,49,126,253,168,573,74,102,42,421,327,71,130,210,115,335,347,415,196,139,357,339,237,278,501,147,202,194,60,59,235,102,135,1090,117,46,80,1141,385,235,255,121,67,108,138,145,130,388,143,127,58,144,71,124,73,498,55,116,96,355,69,165,170,138,312,198,160,216,115,1119,182,472,135,562,155,111,510,394,453,206,78,143,71,114,276,237,121,155,54,440,145,108,101,100,100,197,45,79,106,127,84,73,68,217,67,343,271,55,125,110,93,91,310,142,42,110,166,117,125,99,49,78,110,350,111,53,41,274,47,139,88,204,103,194,192,243,225,519,551,114,94,132,117,36,302,84,85,73,50,153,122,192,292,306,55,329,382,219,286,97,98,188,86,154,297,125,512,68,213,164,160,178,214,185,178,163,672,108,228,256,259,702,115,899,113,53,323,215,150,123,103,410,47,43,423,185,155,167,484,119,90,78,155,114,202,110,78,166,78,171,237,117,214,288,53,937,69,302,72,173,88,93,293,411,141,180,43,83,267,206,75,133,263,301,133,72,123,115,273,138,140,191,142,546,147,461,128,120,129,86,116,74,150,249,267,155,115,60,98,98,183,122,35,176,65,97,113,270,140,552,506,103,218,385,212,145,182,235,160,46,101,1137,312,121,64,102,129,227,167,63,57,48,31,354,284,117,89,117,224,117,89,130,474,98,85,125,84,162,218,295,134,179,111,84,134,135,662,294,123,270,135,124,258,133,107,166,109,118,79,162,151,319,319,153,77,92,235,94,109,66,662,106,53,51,130,118,125,108,330,186,172,232,102,372,109,132,282,174,111,202,135,236,148,360,146,97,95,136,169,113,290,183,177,45,981,251,207,460,126,216,62,172,276,96,179,117,152,94,118,69,261,73,208,160,252,114,89,163,585,62,308,144,402,22,447,624,199,201,225,185,269,660,125,191,242,357,449,69,42,706,222,255,158,333,190,93,320,285,164,149,449,324,86,189,47,165,116,378,128,137,279,112,159,178,101,203,125,79,710,208,151,547,101,128,672,209,77,898,241,305,281,249,60,54,28,89,148,407,120,129,93,169,44,217,252,234,98,102,318,316,516,296,143,140,174,77,81,162,96,115,63,195,125,48,42,418,117,127,134,27,52,478,48,81,101,229,104,144,86,73,84,237,152,211,157,274,472,208,541,105,566,400,114,292,124,142,111,102,135,57,79,66,131,473,107,200,50,753,407,500,215,71,132,411,468,111,253,418,28,213,59,82,64,66,269,206,117,271,134,135,277,100,111,111,215,88,82,76,109,366,105,137,82,73,253,394,88,63,152,165,299,411,440,253,201,166,213,270,560,237,576,135,312,78,50,315,123,297,157,232,259,91,158,86,117,68,53,110,227,78,118,130,286,256,115,142,74,103,382,245,274,115,192,66,165,218,690,97,47,136,193,92,741,412,95,105,310,194,190,111,408,104,61,851,141,371,220,169,121,199,222,148,102,370,279,145,117,109,696,31,43,485,249,329,179,296,146,166,123,191,472,127,360,46,137,470,142,227,127,89,213,108,444,1279,364,196,70,159,43,221,140,80,189,90,119,71,159,200,134,114,272,271,242,164,86,104,61,104,175,118,42,166,756,70],\"y\":[15525.237,15136.256000000001,3486.658,5456.464,3769.2270000000008,9667.581999999999,2527.5809999999997,20688.253999999997,14882.695,6298.361999999999,8065.741,14936.234,5682.349,10803.296999999999,8061.079000000001,11377.648,6150.51,9189.431,11122.755000000001,4940.203,2567.9850000000006,7631.99,7994.59,3936.4299999999994,5565.799,7640.315,15418.714,6819.099999999998,3937.059,5134.823,17601.492,14864.898000000003,6869.531,1673.2879999999996,41402.667,4585.706000000001,25619.207000000002,3605.3540000000003,36329.634000000005,20926.867000000002,6148.808000000001,17800.478,12825.236,12381.236,26927.49,9680.606,2958.0760000000005,2504.863,11978.898,6792.867,21596.382000000005,4142.112999999999,16413.644,2698.299,46723.378000000004,32970.034,22238.553999999996,23769.133,5508.079,45310.051999999996,8490.685999999998,14305.420999999998,7768.668,9648.157,13506.517,18740.278,8838.375,13716.344000000001,6201.4220000000005,6442.514,5320.045,4881.003,10423.010999999999,21184.238999999998,14643.785999999998,6294.773000000001,6651.786000000001,12584.588,36323.344,3217.002,21798.957,4430.454000000001,2915.8959999999997,7977.015000000001,23916.208,10385.788999999999,5023.120000000001,7353.01,27580.058999999997,14186.762,16729.513,11894.353000000001,19781.051,10023.744,7732.445000000001,7403.182,5390.123000000001,2870.978,22117.601,8412.616,40128.534999999996,26351.215,13422.749,13086.234,39724.976,9411.764,11435.738000000001,3672.25,8233.868999999999,12255.325,13465.447,15362.141,2952.452,9324.074,22671.491,6848.995999999999,9717.309999999998,13472.884000000002,3725.16,14096.593,12609.822,13095.668999999998,7561.764,11011.755000000001,6536.864,35692.309,4009.727,21108.389000000003,9366.846,6676.872,33182.747,7566.019,4288.707,9172.892,3624.964,6628.772000000001,7875.154,4046.505,14670.056,8463.787,21719.296000000002,12758.673,13838.259,15352.336000000001,2238.7219999999998,3236.4269999999997,7741.584000000001,24854.158,6244.120000000001,9172.115000000002,7333.104,7537.196,2579.0480000000002,19068.579,4187.956,5958.702,28831.731999999996,7517.585999999999,7848.6990000000005,5828.092000000001,9709.762000000002,6209.044000000001,6794.458,10017.121000000001,9764.928999999996,23545.283,13772.954,3062.971,11541.928,9265.280999999999,8380.944000000001,8539.822,23413.785,5346.536999999998,3854.216,7328.072,10675.387999999999,2708.0299999999997,11584.774000000001,7996.995,19201.223999999995,11805.035000000002,10347.087,9747.464999999997,4188.880999999999,3374.4000000000005,9112.323,9752.422999999999,6466.341999999999,6286.077999999999,8151.062999999998,2559.401,12526.794,30005.224,4609.83,8174.632,11812.398000000001,11488.315,10252.478,23692.025,6611.123,11913.149000000001,4407.1810000000005,9895.576000000001,2914.1199999999994,6970.097,9594.359,10608.64,8767.335,9549.367,6803.745,3104.818,18917.951999999997,8981.084,13008.016000000001,3797.754,33499.578,10205.562,9347.236,6925.696999999999,9632.691,26122.481,15347.452000000001,3167.0890000000004,12825.532,8558.618,5156.652999999999,14436.697,16955.768,10636.464,8732.333,11009.683,13375.204000000002,2415.434,21022.364,30394.205,23006.451999999997,22719.554,38719.94500000001,5323.634,3486.362,3768.191,16459.597999999998,15084.567000000001,1638.5449999999998,11485.429,5033.036,10001.951000000001,21027.655,10786.055,6809.554,10286.555,10139.591000000002,4158.282,13268.311000000002,17354.147,3634.8059999999996,3459.6850000000004,15506.7,17364.137000000002,11922.509999999998,5997.440999999999,2663.1859999999997,17569.523999999998,7601.132,17220.096,17333.612,41993.224,7671.691,7051.608,8292.07,6621.964,6805.41,7418.426,12701.36,8259.103000000001,12398.552,7577.8589999999995,2869.2019999999998,8809.145,9578.449,7044.985000000002,10654.890000000001,11468.964,46878.926000000014,9687.451000000001,13798.558,17126.375,3371.6620000000007,8564.204999999998,14368.025000000001,18026.141,3872.272,4829.721,14672.794000000002,6878.152,11084.164,8704.361,5962.883,9180.181,5663.775000000001,18554.908,9443.177,5975.167,8074.436,7874.451,34267.623999999996,6551.071999999999,11887.508000000002,17215.434,12978.527,9667.952,14990.475999999999,5454.984000000001,9644.161000000002,21831.036,7167.825,3914.822,15775.467999999997,16582.179,4605.871,8345.386999999999,8723.416,6337.692999999999,3846.446,3356.2700000000004,11330.880000000001,7414.874,8407.880000000001,7166.308000000001,7652.155000000001,4426.421,8817.988,7242.084,3016.6839999999997,9141.479,13110.061999999998,2491.062,21850.868,7445.029,4864.7970000000005,7777.733,6910.415999999999,16029.14,31482.634000000002,10825.867,7213.964,16454.085,10597.503,3686.1620000000003,13432.221000000001,7490.465,9538.932999999999,14827.898000000001,2832.794,3179.2989999999995,8809.848,8279.749,18776.648999999998,11466.743999999999,10481.508000000002,3180.9269999999997,3894.435,5924.218000000001,5354.418,6440.22,3267.6550000000007,6605.054999999999,6616.932000000001,3290.2250000000004,10327.698999999999,3548.337,11042.613000000001,7862.795999999999,5243.973,7205.9349999999995,7149.251,3138.414,9360.741,2853.3289999999997,34192.44,6424.679999999999,2237.5750000000003,9428.488,4574.236000000001,20834.218999999997,7823.021,7692.115,4627.812,8270.609999999999,9432.668999999998,12180.918,5723.567,18207.847999999998,2242.6810000000005,10614.560000000001,9865.532,5927.881,4285.71,7418.722,9999.213,35467.867000000006,22443.053,14438.436000000002,5181.258000000002,18538.036,6016.089000000002,9151.469000000001,39496.575000000004,9391.71,2756.7220000000007,4883.667,29683.213,16057.037999999999,10142.329000000002,7725.156,8239.567000000001,6365.110000000001,6103.15,12194.312000000002,10451.353,11802.297000000002,29342.998,10495.753,10211.371,5008.838,10928.283,2685.0899999999997,5496.4980000000005,4580.045,41213.227,5055.606,4823.024,5258.773,10399.331,3794.1280000000006,12954.07,21830.925000000003,29968.113,26065.316,5504.860000000001,4131.309,7146.254000000001,6074.512000000001,23371.309,4668.586,7084.834000000001,3348.648,25170.212,6146.921,2472.1179999999995,9570.679,15941.857,28490.850999999995,19290.949,6593.733,5148.957,2581.823,1117.7699999999998,7862.463,4949.564,1121.433,11685.081,3860.617,36049.507,8957.108,17008.974000000002,8506.041000000001,5263.324,13354.521,10214.072,5005.174999999999,5741.585999999999,8137.447000000001,42655.376000000004,12755.38,5135.563,4760.789999999998,24347.628000000004,4420.500999999999,19663.539,17559.053,3557.5130000000004,7163.459,6008.985,8165.715,17675.565999999995,28181.161000000004,6762.860000000001,3219.444,6147.328,21300.493,6582.152000000001,12530.827,5225.584,2888.183,6314.309,6498.828000000001,24747.302,38794.46300000001,3397.34,8804.113000000001,9276.159,2651.308999999999,8628.955,8534.124,29389.914,17272.71,13589.582,17759.63,18760.295,7252.407000000001,10236.050000000001,30884.640000000003,8562.984,8828.385,8938.867,4563.432000000001,6253.962,22036.127,5681.461,8079.098,4978.461,3018.3490000000006,3908.8279999999995,12768.108,14741.984,5355.343,5487.618,3853.4760000000006,4153.361,11976.567,5247.562,5136.969,27212.093999999997,40903.352,13298.947000000002,9527.5,11470.333000000002,7406.66,4807.151,49270.68,4186.772,38424.24100000001,3623.2620000000006,3364.151,15316.002,7187.0650000000005,11100.74,3055.904,8990.186,14782.351,5558.695,7427.528,5849.441,13122.827000000001,18332.908,6265.062,17779.129,5181.628000000001,2805.6730000000007,15412.423999999999,9445.582,13615.889,2682.907,6555.586,25073.272,4802.119,5888.365000000001,38479.038,13725.372,10619.887999999999,12155.646999999999,46307.941999999995,6982.6399999999985,5923.182000000001,9831.381000000003,10659.774000000001,9052.419999999998,12712.312,2890.7360000000003,4934.616,11074.469999999998,23973.78,10124.901999999998,5705.918,8486.393999999998,3498.6460000000006,12447.688,3967.732,18668.757,8223.472,19162.152000000002,4458.9439999999995,17805.953999999998,2902.5019999999995,3603.9480000000003,9122.276000000002,9758.306,8747.724999999999,12135.889,9674.538,8617.189,18249.14,3507.785,5966.953000000001,10032.772,15563.643,20455.375999999997,8208.894,7197.721,7050.165000000001,6793.532999999999,8264.875,13733.548999999999,11006.205000000002,5323.745000000001,3615.6769999999997,11711.831999999999,3081.656,14106.768,1335.441,16301.756,1825.136,5138.856,1346.3560000000002,18969.012000000002,5800.4529999999995,3579.5649999999996,4559.066000000001,5653.932999999999,9234.719000000001,3534.388,6532.387,6139.706,16340.162000000004,3128.868,15539.445,12735.955000000002,3902.501,12611.376,5457.5740000000005,10499.378999999999,5369.735999999999,10351.009,11432.889,10120.868999999999,2276.9429999999998,6297.178,12442.027000000002,2450.8059999999996,2609.9430000000007,5582.412,14009.087999999998,3148.7370000000005,2663.297,32620.68,4113.623,8373.543999999998,4268.394,5630.919000000001,8268.501,10385.529999999999,3631.5870000000004,3989.451,6815.918000000001,5289.668,11855.392000000003,4948.6759999999995,6171.489,23264.749000000003,6956.814,8972.278,14058.113000000001,7596.174,6749.651,11551.547999999999,20629.572000000004,14014.119999999999,6744.9890000000005,6974.6849999999995,5247.784000000001,37940.466,14825.678,25572.328,19167.924,3998.294,6894.839000000001,11413.316,4056.3840000000005,13759.559999999998,9649.118999999999,13331.877,13630.282000000001,9693.667,19252.987000000005,2763.2709999999997,20153.9,5288.188,5585.446000000001,5811.996999999999,3048.689,8321.262999999999,4915.635000000001,19834.331,10873.967,11510.552,14223.614,5894.84,7295.919000000001,3284.305,5436.965,24700.126999999997,7501.75,6478.404,12996.361,3317.642,2616.0480000000007,5699.554,2976.613,5748.541999999999,3651.9370000000004,7982.380000000001,11270.976999999999,15163.784,7869.6410000000005,7506.856,2498.499,7060.525,5632.324999999999,2953.895,13470.479000000001,2282.123,7985.969,12886.137999999999,3014.464,4864.316,5932.802000000001,6924.549999999999,9229.502,2532.317,5918.224000000001,10973.053,3515.962,6020.381,34848.339,48201.565,4053.572,5138.597,15372.168000000001,8506.188999999998,12261.023000000001,30852.413,13832.08,15220.616,3010.024,12386.527,20325.802,9796.083,16328.469999999998,8095.785000000001,10667.470000000001,6218.663999999999,25063.689,4486.842,14039.724000000002,31915.46,3454.3940000000002,5087.019,15154.830000000002,30099.278000000002,5890.844,11506.963,11332.471,4665.182000000001,18783.235,19973.71,9187.248,6108.811000000001,13488.091,25615.581,14276.006000000001,6624.553999999999,17503.997,5113.474,3902.2790000000005,26787.703999999998,8512.072000000002,8280.933,4827.612000000001,26618.91,24781.342000000004,5608.83,2922.223,10357.224999999999,20648.22,8313.197,6273.942000000001,39329.964,8435.63,5718.794,6370.585999999999,4524.027,4445.513,3384.353,6264.026,24083.67,5937.574999999999,12393.409,4094.161,11732.626,6918.334000000001,37727.309,3054.054,10405.658,26357.394,7753.461000000001,3158.7639999999997,5620.596,1744.5869999999998,2995.89,4741.771999999999,3282.3070000000007,13890.798999999999,11478.991000000002,3632.1050000000005,5587.222,9528.905999999999,3954.634,26816.157,10536.119999999999,4792.943,17035.614,10124.606,11284.556,7106.182999999999,16078.350000000002,4759.198999999999,7714.796,7973.389,6852.400000000001,7145.625000000001,16580.995,20217.244000000002,6012.6849999999995,5972.947,14761.409,2892.5859999999993,6817.472000000001,32168.762000000002,4708.657,3864.206,6420.166,20941.926,11946.708000000002,11451.648,16842.917999999998,10025.890000000001,8987.410999999998,5350.532999999999,3086.2439999999997,7414.245,10914.075,7585.296,7366.737,7562.614999999998,14162.712,6577.786,3781.8810000000003,6000.401,40017.091,3274.6479999999997,2991.894,9113.729,18101.288000000004,4217.001000000001,39473.33899999999,3642.9089999999997,6343.983,5693.855999999999,13016.711,6347.201999999999,9129.195,13936.42,12385.046999999999,9154.651,7751.981,13186.244999999999,8573.714,10290.551,7254.663999999999,11833.525000000001,7052.533,11744.984,3389.6809999999996,13855.204999999998,32104.345,7949.9310000000005,6114.546,3937.2070000000003,5253.000999999999,3494.3169999999996,1943.3880000000001,6937.907,2475.707,4201.831000000001,31935.847000000005,9353.304,23281.362,2593.182,3407.959,3663.8510000000006,24582.540999999997,45707.172999999995,9903.271999999999,4290.224,4758.459000000001,2167.4230000000002,16580.365999999998,17765.772,7076.878999999997,4967.916,15173.403999999999,9939.754,7880.851999999999,9745.244999999999,3816.217,4494.464,4654.822,25505.654000000002,15638.309,7323.669000000001,18637.862,8783.133999999998,8319.672,9327.182,6369.18,2432.01,2802.6020000000003,7016.717000000001,6922.589,4645.683,7741.584000000001,13167.819,22626.018,10822.463000000002,2841.8959999999997,6822.874,3961.627,13425.45,8824.5,7224.065,4152.805999999999,3334.477,16026.476,5544.487,13403.916,40866.648,8895.429,5473.1140000000005,8236.089,14531.158000000001,10463.341,18880.989,4115.214,14741.614000000001,7579.265000000001,16868.855000000003,3594.8459999999995,3120.8759999999997,7573.9,6712.244000000001,8739.289,10713.868,14596.5,18010.564,9764.078000000001,11098.002,6670.766999999999,7605.387,12604.863999999998,5819.026999999999,11759.229000000001,6027.744000000001,5134.415999999999,9155.021,11808.661,21236.002,17604.415,8457.127,9378.168000000001,6750.169,6747.024000000001,38866.613,20927.163,19965.347999999998,8968.947999999999,12724.596000000001,3922.9249999999997,10641.237000000001,19604.376,48507.074,6952.485000000001,10327.994999999997,8592.880000000001,6651.009,6557.362,20739.573,12789.79,3089.463,8410.766,14792.526,2463.6820000000002,7272.535,2887.590999999999,11306.940999999999,4436.3369999999995,20024.067000000003,28999.601000000002,2708.992,6552.255999999999,7383.202,5895.506,10283.41,19075.942,7772.960000000001,11692.0,2210.7499999999995,38947.384000000005,7009.095,2485.5490000000004,2654.565,3328.5570000000002,15555.170000000002,10961.25,15914.514,8631.063999999998,4796.8279999999995,9703.508999999998,2740.923,16608.597,2803.527,7291.479,5489.1720000000005,2472.0070000000005,15478.542999999998,7727.82,25101.503,7841.817,8853.471,7535.679,9663.474999999999,9742.136999999999,13512.289,33552.562000000005,3371.2550000000006,9981.86,29795.989,20919.134000000002,6756.977000000001,4229.063,3919.7430000000004,31221.858,10688.375,10587.735,2719.2780000000002,5989.153,27978.216,6634.728999999999,6821.874999999999,7403.848,20074.572000000004,7376.69,9699.106,7658.149,23992.798,20383.744000000002,19343.785,26924.53,10397.74,6646.976000000001,3652.2700000000004,7670.433000000001,9498.122000000001,8649.230999999996,8652.82,11390.746,7751.056,6797.936000000001],\"type\":\"scatter\"}],                        {\"template\":{\"data\":{\"barpolar\":[{\"marker\":{\"line\":{\"color\":\"#E5ECF6\",\"width\":0.5},\"pattern\":{\"fillmode\":\"overlay\",\"size\":10,\"solidity\":0.2}},\"type\":\"barpolar\"}],\"bar\":[{\"error_x\":{\"color\":\"#2a3f5f\"},\"error_y\":{\"color\":\"#2a3f5f\"},\"marker\":{\"line\":{\"color\":\"#E5ECF6\",\"width\":0.5},\"pattern\":{\"fillmode\":\"overlay\",\"size\":10,\"solidity\":0.2}},\"type\":\"bar\"}],\"carpet\":[{\"aaxis\":{\"endlinecolor\":\"#2a3f5f\",\"gridcolor\":\"white\",\"linecolor\":\"white\",\"minorgridcolor\":\"white\",\"startlinecolor\":\"#2a3f5f\"},\"baxis\":{\"endlinecolor\":\"#2a3f5f\",\"gridcolor\":\"white\",\"linecolor\":\"white\",\"minorgridcolor\":\"white\",\"startlinecolor\":\"#2a3f5f\"},\"type\":\"carpet\"}],\"choropleth\":[{\"colorbar\":{\"outlinewidth\":0,\"ticks\":\"\"},\"type\":\"choropleth\"}],\"contourcarpet\":[{\"colorbar\":{\"outlinewidth\":0,\"ticks\":\"\"},\"type\":\"contourcarpet\"}],\"contour\":[{\"colorbar\":{\"outlinewidth\":0,\"ticks\":\"\"},\"colorscale\":[[0.0,\"#0d0887\"],[0.1111111111111111,\"#46039f\"],[0.2222222222222222,\"#7201a8\"],[0.3333333333333333,\"#9c179e\"],[0.4444444444444444,\"#bd3786\"],[0.5555555555555556,\"#d8576b\"],[0.6666666666666666,\"#ed7953\"],[0.7777777777777778,\"#fb9f3a\"],[0.8888888888888888,\"#fdca26\"],[1.0,\"#f0f921\"]],\"type\":\"contour\"}],\"heatmapgl\":[{\"colorbar\":{\"outlinewidth\":0,\"ticks\":\"\"},\"colorscale\":[[0.0,\"#0d0887\"],[0.1111111111111111,\"#46039f\"],[0.2222222222222222,\"#7201a8\"],[0.3333333333333333,\"#9c179e\"],[0.4444444444444444,\"#bd3786\"],[0.5555555555555556,\"#d8576b\"],[0.6666666666666666,\"#ed7953\"],[0.7777777777777778,\"#fb9f3a\"],[0.8888888888888888,\"#fdca26\"],[1.0,\"#f0f921\"]],\"type\":\"heatmapgl\"}],\"heatmap\":[{\"colorbar\":{\"outlinewidth\":0,\"ticks\":\"\"},\"colorscale\":[[0.0,\"#0d0887\"],[0.1111111111111111,\"#46039f\"],[0.2222222222222222,\"#7201a8\"],[0.3333333333333333,\"#9c179e\"],[0.4444444444444444,\"#bd3786\"],[0.5555555555555556,\"#d8576b\"],[0.6666666666666666,\"#ed7953\"],[0.7777777777777778,\"#fb9f3a\"],[0.8888888888888888,\"#fdca26\"],[1.0,\"#f0f921\"]],\"type\":\"heatmap\"}],\"histogram2dcontour\":[{\"colorbar\":{\"outlinewidth\":0,\"ticks\":\"\"},\"colorscale\":[[0.0,\"#0d0887\"],[0.1111111111111111,\"#46039f\"],[0.2222222222222222,\"#7201a8\"],[0.3333333333333333,\"#9c179e\"],[0.4444444444444444,\"#bd3786\"],[0.5555555555555556,\"#d8576b\"],[0.6666666666666666,\"#ed7953\"],[0.7777777777777778,\"#fb9f3a\"],[0.8888888888888888,\"#fdca26\"],[1.0,\"#f0f921\"]],\"type\":\"histogram2dcontour\"}],\"histogram2d\":[{\"colorbar\":{\"outlinewidth\":0,\"ticks\":\"\"},\"colorscale\":[[0.0,\"#0d0887\"],[0.1111111111111111,\"#46039f\"],[0.2222222222222222,\"#7201a8\"],[0.3333333333333333,\"#9c179e\"],[0.4444444444444444,\"#bd3786\"],[0.5555555555555556,\"#d8576b\"],[0.6666666666666666,\"#ed7953\"],[0.7777777777777778,\"#fb9f3a\"],[0.8888888888888888,\"#fdca26\"],[1.0,\"#f0f921\"]],\"type\":\"histogram2d\"}],\"histogram\":[{\"marker\":{\"pattern\":{\"fillmode\":\"overlay\",\"size\":10,\"solidity\":0.2}},\"type\":\"histogram\"}],\"mesh3d\":[{\"colorbar\":{\"outlinewidth\":0,\"ticks\":\"\"},\"type\":\"mesh3d\"}],\"parcoords\":[{\"line\":{\"colorbar\":{\"outlinewidth\":0,\"ticks\":\"\"}},\"type\":\"parcoords\"}],\"pie\":[{\"automargin\":true,\"type\":\"pie\"}],\"scatter3d\":[{\"line\":{\"colorbar\":{\"outlinewidth\":0,\"ticks\":\"\"}},\"marker\":{\"colorbar\":{\"outlinewidth\":0,\"ticks\":\"\"}},\"type\":\"scatter3d\"}],\"scattercarpet\":[{\"marker\":{\"colorbar\":{\"outlinewidth\":0,\"ticks\":\"\"}},\"type\":\"scattercarpet\"}],\"scattergeo\":[{\"marker\":{\"colorbar\":{\"outlinewidth\":0,\"ticks\":\"\"}},\"type\":\"scattergeo\"}],\"scattergl\":[{\"marker\":{\"colorbar\":{\"outlinewidth\":0,\"ticks\":\"\"}},\"type\":\"scattergl\"}],\"scattermapbox\":[{\"marker\":{\"colorbar\":{\"outlinewidth\":0,\"ticks\":\"\"}},\"type\":\"scattermapbox\"}],\"scatterpolargl\":[{\"marker\":{\"colorbar\":{\"outlinewidth\":0,\"ticks\":\"\"}},\"type\":\"scatterpolargl\"}],\"scatterpolar\":[{\"marker\":{\"colorbar\":{\"outlinewidth\":0,\"ticks\":\"\"}},\"type\":\"scatterpolar\"}],\"scatter\":[{\"marker\":{\"colorbar\":{\"outlinewidth\":0,\"ticks\":\"\"}},\"type\":\"scatter\"}],\"scatterternary\":[{\"marker\":{\"colorbar\":{\"outlinewidth\":0,\"ticks\":\"\"}},\"type\":\"scatterternary\"}],\"surface\":[{\"colorbar\":{\"outlinewidth\":0,\"ticks\":\"\"},\"colorscale\":[[0.0,\"#0d0887\"],[0.1111111111111111,\"#46039f\"],[0.2222222222222222,\"#7201a8\"],[0.3333333333333333,\"#9c179e\"],[0.4444444444444444,\"#bd3786\"],[0.5555555555555556,\"#d8576b\"],[0.6666666666666666,\"#ed7953\"],[0.7777777777777778,\"#fb9f3a\"],[0.8888888888888888,\"#fdca26\"],[1.0,\"#f0f921\"]],\"type\":\"surface\"}],\"table\":[{\"cells\":{\"fill\":{\"color\":\"#EBF0F8\"},\"line\":{\"color\":\"white\"}},\"header\":{\"fill\":{\"color\":\"#C8D4E3\"},\"line\":{\"color\":\"white\"}},\"type\":\"table\"}]},\"layout\":{\"annotationdefaults\":{\"arrowcolor\":\"#2a3f5f\",\"arrowhead\":0,\"arrowwidth\":1},\"autotypenumbers\":\"strict\",\"coloraxis\":{\"colorbar\":{\"outlinewidth\":0,\"ticks\":\"\"}},\"colorscale\":{\"diverging\":[[0,\"#8e0152\"],[0.1,\"#c51b7d\"],[0.2,\"#de77ae\"],[0.3,\"#f1b6da\"],[0.4,\"#fde0ef\"],[0.5,\"#f7f7f7\"],[0.6,\"#e6f5d0\"],[0.7,\"#b8e186\"],[0.8,\"#7fbc41\"],[0.9,\"#4d9221\"],[1,\"#276419\"]],\"sequential\":[[0.0,\"#0d0887\"],[0.1111111111111111,\"#46039f\"],[0.2222222222222222,\"#7201a8\"],[0.3333333333333333,\"#9c179e\"],[0.4444444444444444,\"#bd3786\"],[0.5555555555555556,\"#d8576b\"],[0.6666666666666666,\"#ed7953\"],[0.7777777777777778,\"#fb9f3a\"],[0.8888888888888888,\"#fdca26\"],[1.0,\"#f0f921\"]],\"sequentialminus\":[[0.0,\"#0d0887\"],[0.1111111111111111,\"#46039f\"],[0.2222222222222222,\"#7201a8\"],[0.3333333333333333,\"#9c179e\"],[0.4444444444444444,\"#bd3786\"],[0.5555555555555556,\"#d8576b\"],[0.6666666666666666,\"#ed7953\"],[0.7777777777777778,\"#fb9f3a\"],[0.8888888888888888,\"#fdca26\"],[1.0,\"#f0f921\"]]},\"colorway\":[\"#636efa\",\"#EF553B\",\"#00cc96\",\"#ab63fa\",\"#FFA15A\",\"#19d3f3\",\"#FF6692\",\"#B6E880\",\"#FF97FF\",\"#FECB52\"],\"font\":{\"color\":\"#2a3f5f\"},\"geo\":{\"bgcolor\":\"white\",\"lakecolor\":\"white\",\"landcolor\":\"#E5ECF6\",\"showlakes\":true,\"showland\":true,\"subunitcolor\":\"white\"},\"hoverlabel\":{\"align\":\"left\"},\"hovermode\":\"closest\",\"mapbox\":{\"style\":\"light\"},\"paper_bgcolor\":\"white\",\"plot_bgcolor\":\"#E5ECF6\",\"polar\":{\"angularaxis\":{\"gridcolor\":\"white\",\"linecolor\":\"white\",\"ticks\":\"\"},\"bgcolor\":\"#E5ECF6\",\"radialaxis\":{\"gridcolor\":\"white\",\"linecolor\":\"white\",\"ticks\":\"\"}},\"scene\":{\"xaxis\":{\"backgroundcolor\":\"#E5ECF6\",\"gridcolor\":\"white\",\"gridwidth\":2,\"linecolor\":\"white\",\"showbackground\":true,\"ticks\":\"\",\"zerolinecolor\":\"white\"},\"yaxis\":{\"backgroundcolor\":\"#E5ECF6\",\"gridcolor\":\"white\",\"gridwidth\":2,\"linecolor\":\"white\",\"showbackground\":true,\"ticks\":\"\",\"zerolinecolor\":\"white\"},\"zaxis\":{\"backgroundcolor\":\"#E5ECF6\",\"gridcolor\":\"white\",\"gridwidth\":2,\"linecolor\":\"white\",\"showbackground\":true,\"ticks\":\"\",\"zerolinecolor\":\"white\"}},\"shapedefaults\":{\"line\":{\"color\":\"#2a3f5f\"}},\"ternary\":{\"aaxis\":{\"gridcolor\":\"white\",\"linecolor\":\"white\",\"ticks\":\"\"},\"baxis\":{\"gridcolor\":\"white\",\"linecolor\":\"white\",\"ticks\":\"\"},\"bgcolor\":\"#E5ECF6\",\"caxis\":{\"gridcolor\":\"white\",\"linecolor\":\"white\",\"ticks\":\"\"}},\"title\":{\"x\":0.05},\"xaxis\":{\"automargin\":true,\"gridcolor\":\"white\",\"linecolor\":\"white\",\"ticks\":\"\",\"title\":{\"standoff\":15},\"zerolinecolor\":\"white\",\"zerolinewidth\":2},\"yaxis\":{\"automargin\":true,\"gridcolor\":\"white\",\"linecolor\":\"white\",\"ticks\":\"\",\"title\":{\"standoff\":15},\"zerolinecolor\":\"white\",\"zerolinewidth\":2}}},\"title\":{\"text\":\"Segments\"},\"xaxis\":{\"title\":{\"text\":\"Frequency\"}},\"yaxis\":{\"title\":{\"text\":\"Monetary\"}}},                        {\"responsive\": true}                    ).then(function(){\n",
              "                            \n",
              "var gd = document.getElementById('ca4dcccc-298f-462c-8536-0aa299b6e51b');\n",
              "var x = new MutationObserver(function (mutations, observer) {{\n",
              "        var display = window.getComputedStyle(gd).display;\n",
              "        if (!display || display === 'none') {{\n",
              "            console.log([gd, 'removed!']);\n",
              "            Plotly.purge(gd);\n",
              "            observer.disconnect();\n",
              "        }}\n",
              "}});\n",
              "\n",
              "// Listen for the removal of the full notebook cells\n",
              "var notebookContainer = gd.closest('#notebook-container');\n",
              "if (notebookContainer) {{\n",
              "    x.observe(notebookContainer, {childList: true});\n",
              "}}\n",
              "\n",
              "// Listen for the clearing of the current output cell\n",
              "var outputEl = gd.closest('.output');\n",
              "if (outputEl) {{\n",
              "    x.observe(outputEl, {childList: true});\n",
              "}}\n",
              "\n",
              "                        })                };                            </script>        </div>\n",
              "</body>\n",
              "</html>"
            ]
          },
          "metadata": {}
        },
        {
          "output_type": "display_data",
          "data": {
            "text/html": [
              "<html>\n",
              "<head><meta charset=\"utf-8\" /></head>\n",
              "<body>\n",
              "    <div>            <script src=\"https://cdnjs.cloudflare.com/ajax/libs/mathjax/2.7.5/MathJax.js?config=TeX-AMS-MML_SVG\"></script><script type=\"text/javascript\">if (window.MathJax) {MathJax.Hub.Config({SVG: {font: \"STIX-Web\"}});}</script>                <script type=\"text/javascript\">window.PlotlyConfig = {MathJaxConfig: 'local'};</script>\n",
              "        <script src=\"https://cdn.plot.ly/plotly-2.8.3.min.js\"></script>                <div id=\"bc255382-ffb6-4ef8-9f5b-3df1446f0de6\" class=\"plotly-graph-div\" style=\"height:525px; width:100%;\"></div>            <script type=\"text/javascript\">                                    window.PLOTLYENV=window.PLOTLYENV || {};                                    if (document.getElementById(\"bc255382-ffb6-4ef8-9f5b-3df1446f0de6\")) {                    Plotly.newPlot(                        \"bc255382-ffb6-4ef8-9f5b-3df1446f0de6\",                        [{\"marker\":{\"color\":\"blue\",\"line\":{\"width\":1},\"opacity\":0.8,\"size\":7},\"mode\":\"markers\",\"name\":\"Bronze\",\"x\":[214,336,262,173,294,372,138,282,143,275,214,185,204,264,311,306,112,197,156,85,318,105,56,323,372,357,273,249,253,72,191,373,82,192,266,179,70,99,234,133,372,238,77,94,261,273,332,313,64,267,337,135,267,127,200,273,201,225,112,263,366,113,78,59,330,359,137,268,155,120,64,71,365,280,203,63,149,91,259,165,252,184,99,200,232,65,241,71,243,260,126,73,78,319,215,243,309,306,312,173,252,120,179,60,301,151,187,285,182,59,155,318,218,246,269,246,217,162,373,288,151,218,103,250,367,66,255,63,367,176,211,252,168,57,326,74,63,86,71,325,351,294,169,65,360,145,70,287,206,60,213,211,277,60,176,266,284,124,65,266,266,320,364,56,324,154,72,273,143,133,233,266,173,275,331,218,94,373,326,183,234,278,318,141,154,225,196,213,222,106,242,163,242,218,274,164,215,365,319,295,358,191,296,218,119,362,218,302,98,365,306,190,310,74,257,281,175,183,187,64,108,259,185,280,372,276,371,242,57,262,58,201,187,208,264,218,214,198,147,274,297,58,112,319,63,166,52,51,75,369,197,64,366,267,148,52,261,336,253,157,74,245,72,253,270,247,57,246,159,172,199,273,319,213,372,256,281,311,134,245,239,239,225,357,320,322,260,367,92,357,241,87,176,366,318,358,310,276,298,148,283,323,106,338,354,172,201,95,110,326,283,52,332,366,72,373,361,372,128,213,172,325,112,289,189,264,171,323,254,248,264,330,362,94,92,81,330,155,233,254,163,288,217,277,351,151,162,70,53,78,52,336,184,51,52,317,106,217,296,117,119,252,264,201,283,234,364,201,212,212,282,77,304,218,245,319,372,303,186,277,60,80,253,149,194,368,173,178,247,373,372,194,239,64,311,276,365,74,303,366,211,373,173,220,297,283,81,106,264,240,248,65,143,183,170,189,317,367,246,296,281,252,59,138,60,78,80,235,203,225,170,61,176,339,169,126,330,217,196,157,284,158,290,332,197,53,322,312,302,191,263,106,64,198,149,87,218,177,73,74,274,192,161,296,372,277,171,81,53,164,242,364,182,373,248,232,68,285,219,186,235,263,245,222,105,169,368,189,362,366,72,241,262,297,176,372,214,318,294,74,372,282,57,192,360,93,156,184,128,52,186,368,59,140,84,187,299,290,276,371,109,239,87,116,187,226,267,218,149,185,63,266,78,322,261,165,288,317,119,161,185,334,239,51,284,289,217,201,226,273,53,253,234,182,312,204,362,107,208,241,57,308,95,280,123,302,94,355,86,179,311,238,65,163,219,163,71,253,156,176,203,365,158,79,248,358,75,220,308,361,359,190,53,280,177,269,233,205,71,242,218,236,239,173,59,81,276,373,65,277,227,263,358,137,141,260,185,187,169,320,200,232,240,112,359,263,254,159,53,281,51,303,185,372,304,323,204,170,173,304,129,212,162,225,159,190,247,282,372,159,233,147,249,171,166,241,365,56,185,225,281,362,235,256,373,155,51,334,154,53,203,359,289,185,373,274,254,368,290,367,214,243,295,140,177,60,249,192,261,165,157,236,89,226,263,217,325,89,140,134,366,58,73,277,180],\"y\":[343.06399999999996,1084.1,795.685,496.17,1152.735,140.97,544.344,1383.8000000000002,1269.951,1102.6,1310.244,1224.6999999999998,801.0500000000001,513.116,436.045,399.859,503.015,535.76,145.188,781.884,447.515,551.485,301.80899999999997,849.0389999999998,187.035,705.035,1910.7540000000001,678.58,1137.861,919.857,1283.826,761.6820000000001,427.20200000000006,846.56,655.455,214.896,275.28,767.2320000000001,374.40299999999996,283.05,1295.222,113.22,958.9290000000002,236.8,286.01,406.26,410.515,417.17499999999995,1045.065,264.18,873.274,224.58999999999997,1234.8380000000002,231.768,603.8399999999999,400.377,953.49,595.5150000000001,1000.4800000000001,741.0729999999999,2183.0,514.226,509.675,346.542,744.4029999999999,744.44,323.38,527.25,235.875,55.5,864.912,499.352,1140.636,825.063,221.26,817.9219999999999,591.4449999999999,1097.568,2183.0,1320.826,560.55,1139.2299999999998,610.5,1113.5149999999999,683.1680000000001,519.258,1161.06,802.345,410.589,929.4770000000001,758.87,563.1400000000001,454.17499999999995,339.65999999999997,524.8820000000001,886.113,436.6,526.88,812.2239999999999,656.1579999999999,951.7510000000001,932.77,701.0389999999999,313.205,689.643,860.6200000000001,220.15,248.751,266.4,637.3249999999999,1141.7459999999999,368.15,932.622,846.708,511.6360000000001,1134.235,739.4449999999999,1110.148,294.52,1096.1249999999998,1045.6200000000001,1134.864,661.1899999999999,473.00800000000004,852.4799999999999,723.5350000000001,1025.1589999999999,948.606,416.61999999999995,701.15,1003.5880000000001,314.5,1437.4500000000003,799.8290000000001,744.292,538.979,453.99,433.788,901.172,576.9409999999999,637.325,1137.3799999999999,587.745,335.21999999999997,377.4,298.59000000000003,703.925,979.39,1324.526,740.518,1151.81,2351.9419999999996,1216.56,387.834,544.64,523.2170000000001,573.463,962.925,342.102,679.32,564.435,983.645,674.325,595.7,282.384,799.9770000000001,533.5400000000001,1430.1610000000003,333.0,428.46,581.6400000000001,439.375,1070.632,453.39799999999997,731.305,685.98,561.4380000000001,595.6999999999999,543.345,790.6899999999999,1038.035,506.049,1119.546,444.0,1235.6889999999999,415.58400000000006,495.948,1578.42,1418.7649999999999,444.0,680.2449999999999,1153.105,1145.224,498.39,1046.841,188.7,335.22,645.28,573.5,371.85,283.235,2283.085,526.88,251.41500000000002,579.975,453.98999999999995,981.24,1740.3319999999997,329.522,233.10000000000002,488.03000000000003,443.74099999999993,420.468,867.058,798.09,507.27,1261.441,929.477,1018.5360000000001,645.1690000000001,892.033,635.6600000000001,382.025,806.8220000000001,130.98,878.2320000000001,147.075,1502.496,835.6450000000001,423.872,355.644,899.9139999999999,192.39999999999998,417.36,639.73,697.8570000000002,403.781,662.3000000000001,695.3039999999999,993.7460000000001,330.04,946.8299999999999,515.262,740.37,22.939999999999998,486.365,642.838,583.49,715.543,575.0909999999999,1005.845,1006.659,180.56,232.54500000000002,1144.78,465.423,1210.825,502.83,464.905,2279.755,1027.8600000000001,1147.1850000000002,1076.034,216.41299999999998,468.78999999999996,762.9770000000001,1035.778,377.844,580.567,629.148,502.94100000000003,448.32899999999995,798.386,1371.96,392.93999999999994,326.34,1135.6779999999999,1182.15,905.76,985.6800000000001,514.485,662.1520000000002,959.965,585.192,603.1,502.27500000000003,149.85000000000002,323.75,716.4680000000001,1171.346,376.66,357.42,1131.2749999999999,1492.025,2164.5,1191.696,571.317,728.9,1187.8849999999998,364.265,1173.455,662.115,579.087,441.40999999999997,1074.887,418.544,669.4780000000001,759.61,192.4,610.5,756.65,772.375,933.954,745.9200000000001,584.748,427.905,1550.004,1206.1999999999998,621.6,2208.3450000000003,1850.0,397.56499999999994,1066.2659999999998,347.8,1291.6699999999998,988.566,704.961,361.49,1418.3580000000002,2197.8,419.95,574.129,662.67,868.02,337.884,195.471,925.0,447.7,988.011,848.521,410.404,473.0819999999999,333.44399999999996,803.64,497.83500000000004,957.856,470.27,739.26,890.5160000000001,179.376,800.643,387.61199999999997,1104.376,416.102,826.4319999999999,1146.2600000000002,511.118,282.384,640.2850000000001,716.875,940.1700000000001,506.16,782.55,529.4699999999999,493.025,556.11,751.4699999999999,807.525,314.5,1088.2440000000001,600.51,128.76,293.04,936.248,388.13,765.826,55.5,440.115,594.627,553.668,670.033,622.747,975.135,662.929,821.585,208.125,710.1780000000001,979.0939999999998,455.46999999999997,1367.1499999999999,470.19599999999997,766.4549999999999,1542.3820000000003,537.7950000000001,132.46,1202.8700000000001,669.6999999999999,386.095,1162.1699999999998,1138.934,375.18000000000006,948.828,510.23,498.76,452.88,293.04,803.492,62.9,1186.2939999999999,684.685,1246.752,401.00600000000003,724.238,597.1060000000001,502.275,859.1769999999999,921.3000000000001,1070.595,648.24,282.384,1288.3400000000001,138.38,270.84,732.23,798.5709999999999,588.3,896.6949999999999,1125.7250000000001,943.9440000000001,1162.614,423.872,565.8779999999999,173.715,622.71,527.25,862.914,837.569,1496.2800000000002,767.75,794.76,406.81500000000005,374.07,197.95,569.4300000000001,783.549,404.632,349.132,656.7500000000001,618.825,494.172,891.922,1052.835,1063.38,698.893,1154.1039999999998,987.7890000000002,770.932,560.2540000000001,503.2,277.13,828.615,515.5949999999999,373.589,1345.69,917.9699999999999,601.99,1074.332,843.8219999999999,442.594,1255.41,1405.0009999999997,642.69,391.608,863.7650000000001,1716.615,833.0550000000001,789.95,536.685,279.942,479.113,561.8449999999999,836.9770000000001,478.965,806.23,855.07,792.022,455.98800000000006,144.74400000000003,500.98,480.075,834.6460000000001,417.175,1082.1390000000001,13.875,1195.1,767.75,885.7800000000001,395.2710000000001,125.8,909.9780000000001,1151.625,408.406,902.208,1145.2980000000002,1773.5949999999996,475.45,729.714,736.855,669.1450000000001,1041.2540000000001,460.909,1390.0529999999999,642.912,768.6379999999998,49.21,1023.901,1072.1860000000001,419.728,1448.624,851.925,620.1569999999999,1541.5679999999998,434.19500000000005,866.429,409.03499999999997,744.403,930.624,662.3000000000001,1091.5,572.871,543.419,866.6880000000001,439.56000000000006,1117.4,94.35,604.2099999999999,429.94,580.974,511.784,1277.6100000000001,1105.893,581.2330000000001,2142.2999999999997,462.05600000000004,587.116,832.1669999999999,221.63,1132.6809999999998,754.615,971.6940000000001,755.688,839.345,419.95000000000005,554.593,1415.2499999999998,634.365,1048.136,888.0,234.728,910.348,694.971,2037.96,306.175,358.16,648.24,1135.974,900.432,716.4680000000001,847.152,409.775,659.414,623.0799999999999,241.98,1882.56,754.319,120.80499999999999,372.96000000000004,1437.2649999999999,689.754,447.33000000000004,487.28999999999996,924.482,1072.852,719.169,1385.9089999999999,1002.885,1007.214,1067.8200000000002,569.578,536.5,1563.99,1097.7900000000002,826.432,608.28,283.04999999999995,631.7750000000001,382.21000000000004,584.23,838.975,686.905,530.802,648.499,429.237,2113.44,301.328,280.275,401.44999999999993,375.735,492.322,434.93499999999995,761.09,1103.007,1074.48,741.739,1047.5439999999999,573.3149999999999,563.88,988.196,508.56500000000005,566.1,1207.68,515.595,407.925,264.18,298.368,55.5,208.68,695.674,488.178,835.83,1104.0800000000002,760.276,1151.6619999999998,773.1890000000001,548.3770000000001,1224.33,576.83,879.157,660.5240000000001,493.395,411.995,754.319,754.282,415.32500000000005,576.46,415.14,269.73,767.75,903.096,366.818,553.4459999999999,1326.6719999999998,47.175,272.986,844.34,503.34799999999996,1113.404,76.96,734.7090000000001,345.395,281.57,627.039,952.158,646.7600000000001,380.323,692.9730000000001,142.265,271.95,259.074,610.685,637.473,275.28,376.29,915.5279999999999,1811.52,374.958,1002.7,282.384,814.37,670.1440000000001,411.255,416.43499999999995,564.805,593.2950000000001,1119.1019999999999,749.805,1125.725,1052.5020000000002,768.86,901.912,593.5540000000001,860.176,1107.558,1129.536,588.115,346.875,1628.0,382.21,553.076,94.35,623.82,408.406,643.4300000000001,668.22,299.03400000000005],\"type\":\"scatter\"},{\"marker\":{\"color\":\"green\",\"line\":{\"width\":1},\"opacity\":0.5,\"size\":9},\"mode\":\"markers\",\"name\":\"Silver\",\"x\":[59,145,282,267,96,52,84,326,44,88,30,176,148,128,161,64,78,25,288,7,9,211,242,18,73,292,31,196,106,173,7,54,291,99,64,212,24,4,157,70,39,138,269,196,39,26,22,283,63,26,45,11,18,61,15,93,122,81,261,203,92,50,124,156,14,61,61,268,31,63,15,155,169,351,72,81,316,157,177,287,70,10,66,60,257,268,63,50,256,371,89,329,74,185,192,127,17,1,74,107,74,1,255,23,29,60,236,233,57,105,311,282,64,316,30,78,205,182,85,19,173,205,50,63,35,52,47,64,26,318,116,15,215,256,35,164,149,50,75,151,63,38,302,271,31,219,200,18,240,287,54,81,75,127,309,66,52,301,144,22,19,159,64,92,247,58,119,358,189,204,119,92,297,50,49,53,23,74,169,57,109,263,179,35,79,176,154,21,21,308,14,30,110,77,155,225,121,63,284,33,305,106,32,129,124,32,36,137,84,319,129,373,78,220,33,297,66,201,106,239,89,42,4,247,177,80,331,73,51,8,40,18,117,242,64,206,114,124,67,161,38,260,5,43,22,185,52,9,149,310,22,99,50,180,110,98,253,11,164,50,207,25,50,311,309,88,100,1,57,64,150,311,18,151,57,85,1,16,40,50,305,10,274,72,245,205,184,266,50,21,170,156,77,169,86,26,24,71,106,24,373,249,43,87,75,263,46,29,17,280,54,26,10,28,21,61,180,196,53,10,311,24,119,19,29,7,185,210,19,26,131,252,207,148,204,91,32,14,79,147,49,30,128,37,19,198,211,170,43,33,266,71,89,170,31,151,269,275,308,67,215,42,84,333,245,133,22,65,169,240,133,75,45,373,25,331,71,66,154,70,60,59,225,318,225,234,239,113,74,65,238,122,127,168,135,64,23,66,46,49,64,290,274,199,64,44,103,333,208,156,53,129,87,158,29,39,21,169,40,186,16,92,148,313,85,24,38,15,23,213,22,262,131,312,283,262,25,354,29,51,77,161,362,171,44,84,24,33,173,11,114,54,24,50,18,176,255,36,141,116,17,134,191,157,204,336,91,92,243,22,43,50,39,81,52,28,266,143,66,49,134,40,51,24,65,64,115,68,133,241,183,10,358,149,142,51,207,172,50,64,58,46,51,18,25,101,312,198,92,156,226,190,154,172,67,112,133,84,165,30,19,3,54,245,47,260,43,91,309,196,269,54,260,365,288,299,154,61,218,211,51,262,88,249,157,133,232,50,73,67,15,40,236,75,360,58,88,267,189,71,78,56,261,266,116,373,196,176,100,121,268,138,213,3,36,75,63,267,247,89,269,94,264,70,53,56,21,302,57,213,28,67,135,197,44,164,88,25,173,360,19,30,61,25,3,190,290,35,24,194,3,71,113,71,75,15,4,40,74,70,182,3,274,79,245,42,71,141,19,43,75,256,135,226,78,266,369,26,364,53,46,58,372,65,96,198,273,260,57,80,19,8,365,89,65,173,99,103,95,227,51,227,39,197,50,43,333,10,14,77,66,35,366,64,72,36,61,115,53,211,235,138,30,184,189,77,60,5,288,18,30,31,45,60,110,245,30,137,113,157,194,130,313,22,47,233,50,106,275,247,194,24,75,21,38,78,57,46,58,53,53,31,65,310,308,35,18,52,127,107,35,101,361,138,22,85,46,303,11,239,72,218,199,70,19,77,306,36,184,79,128,32,313,1,192,94,10,77,65,261,58,289,75,261,72,128,53,25,23,197,359,129,332,252,17,78,217,130,312,169,19,86,21,141,74,23,43,236,252,168,372,9,113,178,21,158,198,56,72,85,73,29,179,73,36,33,47,218,368,142,107,364,322,56,44,23,85,29,21,373,310,133,45,138,130,7,37,198,66,116,142,371,373,211,51,372,29,165,145,236,28,81,108,152,98,4,65,70,288,9,173,133,75,257,217,36,16,330,61,312,127,37,329,149,60,212,157,45,50,75,301,57,7,358,227,15,82,106,28,326,211,92,81,46,23,17,310,38,2,30,43,7],\"y\":[1469.344,1544.306,1155.806,1310.133,500.166,1928.44,1408.368,2219.889,2120.9139999999998,1143.4850000000001,696.118,2775.0,1345.505,2197.8,1499.9059999999997,654.789,1538.46,422.318,1712.9150000000004,985.6429999999999,592.6659999999999,2732.8199999999997,1444.998,360.75,2067.19,1980.6839999999997,1515.1500000000003,1686.7559999999999,1978.9450000000002,1900.69,754.8,2378.249,2073.739,1129.5359999999998,2429.7160000000003,1288.155,1004.1800000000001,814.37,1539.4959999999996,1767.9710000000002,902.578,1854.2180000000003,1049.8010000000002,11455.2,2288.524,846.967,339.65999999999997,1543.6399999999999,2637.656,429.237,448.366,424.02,964.5160000000001,436.15599999999995,925.962,1307.876,1975.7259999999999,1324.6000000000001,1219.3719999999998,2220.259,450.43800000000005,1592.85,1723.016,3812.48,0.0,1081.5839999999998,2063.194,3493.17,1023.2720000000002,2186.441,956.08,1336.1070000000002,1375.993,1111.5539999999999,2099.232,2498.6099999999997,4841.376,1801.9740000000002,1307.691,1441.1499999999999,1263.032,915.084,1383.578,1472.526,2256.8149999999996,1624.411,1626.372,207.792,2306.58,2793.018999999999,1400.9679999999996,1977.909,2013.096,1138.5639999999999,1692.158,2298.5509999999995,277.5,934.2130000000001,2118.0687000000003,790.135,1976.688,728.493,1049.727,1079.9560000000001,678.728,1563.7679999999998,849.483,1680.6879999999999,2128.98,1663.224,1170.1619999999998,1287.785,1094.941,1696.5240000000001,465.46,1138.712,1790.06,1001.9229999999999,2335.9580000000005,888.8140000000001,713.5450000000001,5121.725,1089.28,2635.88,917.4520000000001,1468.789,666.629,1586.893,608.0579999999999,1545.4530000000004,791.245,453.768,1312.76,1282.42,348.53999999999996,1404.7050000000002,1128.574,808.635,1293.8899999999996,1801.234,3367.0000000000005,559.81,1223.9229999999998,1098.4560000000001,667.776,2259.183,1256.5200000000002,802.53,1297.7749999999999,2742.6620000000003,1061.123,1276.4999999999998,1143.4479999999996,5609.199999999999,2065.784,1201.76,3421.0199999999995,4219.295,1426.8680000000002,775.1129999999999,193.14,1423.76,1158.026,4643.5,1131.3860000000002,1855.7720000000002,1441.5199999999998,1999.665,1875.16,1293.3350000000003,2240.831,1542.5300000000002,3038.0700000000006,1151.292,1006.548,1299.181,828.2450000000001,1291.263,3117.805,1248.158,2252.523,3411.7699999999995,1393.346,265.142,2077.8089999999997,2495.4649999999997,1194.952,851.814,627.335,2458.7980000000002,728.123,284.15999999999997,1750.1740000000004,1869.166,2338.03,1628.0,1212.4899999999998,1730.342,2318.605,563.14,1516.7409999999998,2684.868,558.8480000000001,453.13899999999995,1387.8700000000001,168.72,545.195,721.13,1552.446,1790.282,2240.8680000000004,1153.697,1788.58,1652.494,497.502,2134.5299999999997,1675.693,3744.3999999999996,1241.424,1214.192,3960.7760000000003,627.0760000000001,332.778,2339.8800000000006,2527.729,1816.1819999999998,1822.805,1620.452,2071.889,653.5310000000001,614.9399999999999,159.84,2368.5179999999996,1147.962,1881.7459999999999,1767.8229999999999,2238.7219999999993,1711.8419999999999,1536.24,2176.414,403.226,1515.409,605.394,835.349,596.44,953.416,749.916,747.8070000000001,2126.39,3933.1,1813.8139999999999,1433.8239999999998,1344.3580000000002,1788.025,1607.058,1959.594,1170.1249999999998,1032.4850000000001,2355.0869999999995,1191.1039999999998,1714.5059999999999,516.372,458.05999999999995,1993.5969999999998,1758.8690000000001,1320.3450000000003,1685.683,1001.22,1315.5720000000001,1436.5249999999996,2415.36,1070.188,689.051,610.7590000000001,1199.318,2917.006,841.3430000000001,512.82,422.207,581.085,1455.3210000000001,791.6519999999999,2442.0,2225.772,1459.4279999999999,1527.2859999999998,1186.146,1276.1299999999997,1641.3200000000002,408.70200000000006,2567.0969999999998,2209.233,422.466,1076.885,1057.238,399.415,722.4250000000001,1846.115,2325.0060000000003,592.703,1159.913,1214.3400000000001,1441.6680000000001,2083.6549999999997,1555.85,1111.924,1029.71,940.207,712.62,1428.7549999999999,1656.416,1072.963,286.38,731.268,847.263,714.6179999999999,1189.291,7917.112000000001,729.3810000000001,379.065,1205.275,1760.46,2388.905,630.1840000000001,987.0120000000001,193.14,2628.0359999999996,1922.8159999999998,944.98,2181.8900000000003,2831.684,1349.76,1366.0400000000002,2051.206,1734.449,1137.676,828.356,373.33,1153.253,1848.816,1716.06,546.0830000000001,424.649,423.243,789.099,1097.975,1237.798,1590.519,962.6290000000001,464.64599999999996,984.1999999999998,1917.636,935.101,667.295,1986.9,2721.942,1271.394,5511.15,1410.884,1778.6269999999997,1693.897,811.743,1518.7759999999998,3241.2,1794.3149999999998,1327.6340000000005,681.503,1504.161,1221.4070000000002,2306.9500000000003,1926.96,1096.754,1485.18,1804.675,394.27200000000005,4771.15,829.318,2551.076,2304.545,1149.294,1847.4840000000002,4694.19,1225.366,1214.895,2796.275,1514.78,1589.52,2264.622,1171.716,2336.809,1902.3549999999998,1317.2,1111.3319999999999,2305.6919999999996,942.8340000000001,1456.838,1512.56,500.64700000000005,946.83,890.0350000000001,1836.8280000000004,2123.8740000000003,1148.739,1213.489,2110.85,988.381,600.4730000000001,1153.327,3805.6719999999996,1301.179,643.6890000000001,1502.533,1348.6499999999999,1753.0970000000002,1025.0849999999998,1583.341,1653.678,2376.917,1172.4560000000001,1458.318,857.882,2649.94,2319.0489999999995,2119.397,1882.5600000000002,502.682,160.95000000000002,346.98600000000005,633.403,1973.2100000000003,552.373,740.5919999999999,579.3459999999999,1830.1680000000001,1654.714,877.159,598.068,802.0120000000001,466.718,1729.7869999999998,1680.207,865.097,544.233,1821.7320000000002,230.991,1524.437,1628.0,549.228,1984.6799999999998,789.2099999999999,314.9810000000001,1083.064,1035.149,640.6919999999999,688.2370000000001,1684.6099999999997,1770.561,722.0550000000001,1113.811,2176.081,901.1349999999999,1573.684,2456.8,1656.2679999999998,2432.195,3019.2,1249.6380000000004,3246.5280000000002,2074.479,111.0,1133.865,1429.7909999999997,1114.884,1197.653,1304.99,706.8480000000001,1516.9259999999997,1319.7900000000002,1661.7440000000001,573.056,728.4560000000001,552.4469999999999,1696.709,759.4250000000001,2159.875,1165.7219999999998,2300.771,1001.96,893.994,3874.307,1758.536,911.3100000000001,1299.8100000000002,2257.0370000000003,1670.254,1538.534,4824.467000000001,1971.8780000000002,508.269,1450.326,1315.572,483.73800000000006,409.96000000000015,1098.9,254.708,852.9609999999999,1855.143,1910.532,1403.595,1653.4189999999999,1940.7239999999995,1236.6509999999998,619.75,1243.311,1578.531,1496.9460000000004,1248.5279999999998,1372.737,1594.478,622.0439999999999,584.711,155.363,1580.1589999999999,1507.7499999999998,783.9559999999999,2324.6359999999995,873.533,3458.094,1225.5879999999997,1619.49,3163.5740000000005,1339.6220000000003,1240.684,1376.7330000000002,2161.9840000000004,1613.866,1165.722,1118.732,2263.956,2267.2859999999996,1138.786,1914.9350000000002,2295.48,1980.7579999999998,2716.281,1387.5,3169.42,1228.215,1130.498,1253.227,797.2760000000001,795.796,1163.465,1482.5196999999998,1351.499,2193.73,2023.9739999999997,3385.2410000000004,2005.5109999999997,1985.7159999999997,1599.1400000000003,1532.54,1440.9279999999999,2783.9910000000004,1523.29,1324.415,2071.519,2999.22,2095.606,1118.325,1117.03,1336.5140000000001,2339.3990000000003,1014.355,558.885,1192.9170000000001,1464.4599999999998,2501.9399999999996,1342.915,2162.65,818.403,1124.541,1108.52,1639.2849999999999,561.7710000000001,970.1400000000001,467.12499999999994,1119.99,1113.145,2378.397,681.762,1410.44,958.337,2618.4530000000004,25.529999999999998,1169.607,2013.91,1224.7,1495.91,1352.165,334.11,376.29,1791.984,795.7960000000002,904.317,1684.4250000000002,2912.455,1057.7930000000001,1042.845,3202.7200000000003,459.54,1670.3280000000002,1160.3939999999998,1699.188,670.033,925.5549999999998,333.148,905.7600000000001,1785.1390000000001,2288.7829999999994,1872.9030000000002,662.152,1232.396,1194.3600000000001,1803.7869999999998,1075.442,1918.154,2224.699,440.226,679.6899999999999,1563.6200000000001,4721.2,2434.2300000000005,7392.6,1116.3640000000003,3334.4399999999996,2307.875,574.3879999999999,1009.4340000000001,1545.1200000000001,1720.13,828.5039999999999,7408.88,1366.558,1171.494,2263.8450000000003,4238.72,1407.443,634.883,837.4950000000001,398.12,298.96,1535.056,1130.7939999999999,1229.51,1704.183,1067.154,1543.122,1841.157,1326.006,1264.2899999999997,1529.802,931.919,2178.745,792.9839999999999,715.728,1229.9170000000001,536.167,130.98,2516.0740000000005,1598.4,721.0559999999998,539.9409999999999,810.818,1402.818,771.3019999999999,628.2230000000001,2009.285,599.1779999999999,3021.9010000000003,1503.9759999999999,1609.574,76.96,1919.0790000000002,1180.3739999999998,1274.0209999999997,1421.022,466.644,2597.3999999999996,722.832,1002.33,262.70000000000005,354.645,1323.749,2649.2000000000003,1604.0610000000001,415.88,1664.0009999999997,1255.928,2375.474,914.418,1844.376,1991.9689999999998,1064.194,919.8570000000003,1137.602,959.5949999999999,1572.5,1407.85,1721.684,6251.15,790.9860000000001,1218.5580000000002,1084.47,763.458,1175.712,887.7040000000001,532.8000000000001,1645.538,1267.7310000000002,1421.0959999999998,422.65100000000007,1310.3549999999998,1579.123,1455.9129999999998,706.2560000000001,659.5619999999999,4637.432,1175.194,2825.468,414.326,1844.1539999999998,925.1480000000003,2383.91,1346.43,1828.725,594.1089999999999,1353.6449999999998,473.08199999999994,1155.2510000000002,1650.866,1834.3490000000002,1480.3699999999994,751.84,1244.68,4660.371999999999,1694.2669999999998,1041.994,2855.8449999999993,1879.0080000000003,1942.2040000000004,983.312,1492.2099999999998,800.3100000000001,1914.8610000000003,2302.991,506.9,1893.734,1531.9479999999999,1468.419,1393.568,2304.656,1118.14,2240.6459999999997,1898.84,772.0050000000001,2023.1969999999997,364.154,550.7819999999999,988.492,1135.3080000000002,5504.12,1273.318,798.1639999999999,598.1790000000001,1460.464,1144.6320000000005,1219.52,808.5239999999999,1863.32,1056.572,2300.1420000000003,614.4960000000001,725.2,2038.848,682.28,885.817,1254.1150000000002,1546.415,3275.2030000000004,1124.689,622.488,1313.9069999999997,2495.724,1064.083,1375.956,4230.098999999999,909.4970000000002,1048.839,1031.3380000000002,4136.2300000000005,392.57,1296.4430000000002,1895.547,135.272,130.98,407.777,2241.46,935.3599999999999,1219.705,1584.266,1698.004,2227.7329999999997,903.1700000000001,362.6,948.384,562.622,408.40600000000006,709.1790000000002,900.1360000000002,1150.7369999999999,1469.973,786.3979999999999,539.423,1126.8719999999998,286.74999999999994,653.716,2062.01,413.2160000000001,1881.3020000000001,380.471,455.35900000000004,1026.195,2155.5829999999996,1247.048,1306.8029999999999,1066.118,3002.3650000000002,564.916,2334.1079999999993,615.7539999999999,1935.1000000000004,451.918,1442.1860000000001,426.647,853.405,362.48900000000003,1110.074,1345.5049999999999,629.592,2665.924,3011.8000000000006,1176.6000000000001,1676.1,1243.681,1270.765,334.776,2552.8150000000005,620.3789999999999,2146.185,622.747,419.876,1593.59,2490.4700000000003,765.271,3446.5499999999997,3772.224,663.558,2264.696,1374.9940000000001,1961.5550000000005,2360.822,384.8,1762.4949999999994,2338.6589999999997,184.26000000000002,3603.2080000000005,606.06,514.6700000000001,919.1539999999999,2449.6960000000004,1639.1,2193.989,1563.5460000000003,2205.5699999999997,352.75800000000004,1292.299,1047.6549999999997,754.8000000000001,650.904,1242.682,658.785],\"type\":\"scatter\"},{\"marker\":{\"color\":\"red\",\"line\":{\"width\":1},\"opacity\":0.9,\"size\":11},\"mode\":\"markers\",\"name\":\"Gold\",\"x\":[70,74,5,37,32,143,70,29,22,31,134,78,210,185,236,9,24,63,67,24,42,18,17,88,24,64,54,131,35,143,9,89,358,157,29,23,23,22,73,64,1,113,22,30,52,73,138,80,30,78,24,10,129,126,4,28,275,21,3,44,59,21,19,94,23,85,22,108,19,10,295,5,33,94,122,46,18,21,4,46,39,95,19,58,56,78,240,74,212,24,17,96,17,92,9,11,53,37,40,122,18,38,189,1,103,22,28,4,22,1,78,17,3,31,92,14,77,200,260,16,71,122,80,88,99,26,131,29,72,24,133,43,4,108,19,10,18,67,23,24,38,58,191,178,37,78,51,10,23,16,72,21,85,40,14,33,43,39,12,96,25,28,7,81,84,144,17,23,14,155,14,64,45,29,40,89,40,30,59,99,67,36,52,74,31,45,114,10,205,85,18,24,7,267,281,116,36,131,38,28,36,135,28,71,2,95,95,53,124,33,50,63,70,7,4,116,138,5,18,57,25,11,24,51,129,95,57,31,54,26,23,16,183,37,11,49,92,10,95,23,11,217,1,79,49,73,26,17,65,45,134,115,198,52,46,16,7,22,28,78,109,8,31,19,29,63,40,101,302,2,73,239,30,14,19,7,122,60,46,2,46,35,75,239,19,40,215,87,70,39,98,10,86,67,18,60,2,16,30,92,110,51,183,49,75,30,219,110,260,50,162,98,30,21,51,22,21,127,120,10,157,79,19,108,44,26,38,65,65,130,107,71,92,42,91,57,17,21,53,18,9,60,10,155,148,246,17,11,46,71,19,38,67,23,22,61,33,24,37,60,236,15,58,75,56,179,3,169,35,21,7,44,9,196,91,50,36,67,67,5,19,60,241,280,234,44,137,14,2,29,24,43,5,24,47,3,42,197,16,112,29,44,15,144,232,58,127,7,162,8,15,36,200,73,21,10,29,23,36,59,25,3,107,77,18,79,85,25,2,35,70,115,212,30,50,23,19,25,12,64,8,96,14,68,107,57,15,38,46,47,147,51,35,53,38,33,80,30,8,256,72,58,65,71,53,78,46,179,93,105,77,172,212,22,21,103,4,8,31,196,23,29,18,50,114,60,18,127,52,46,164,10,31,18,68,29,14,119,2,10,87,85,10,60,46,36,217,29,134,36,66,100,151,22,57,37,22,29,10,67,60,64,75,3,70,85,39,32,66,80,0,45,254,95,75,57,137,169,31,26,9,58,26,54,26,30,29,338,85,9,50,2,113,14,40,22,28,17,52,189,1,32,19,7,4,36,60,28,11,103,11,31,177,37,68,24,50,46,100,35,26,36,61,28,32,10,56,4,103,74,45,89,166,18,36,9,45,190,168,40,49,25,4,17,172,63,11,145,24,11,15,65,114,19,61,65,31,5,25,10,14,113,75,107,46,46,50,306,36,78,107,63,44,3,56,99,37,58,254,44,33,72,38,19,136,22,40,32,369,2,23,8,19,21,89,82,16,8,33,31,19,23,2,77,88,123,44,88,2,23,22,35,39,12,29,92,87,7,65,30,22,37,119,32,145,45,65,22,44,16,100,59,114,87,50,70,84,8,59,57,73,39,51,21,59,18,65,4,268,15,65,17,95,126,94,72,64,16,44,23,30,54,25,44,88,19,170,36,318,57,87,43,40,33,211,23,52,50,73,71,353,72,22,37,106,17,119,35,1,128,46,17,107,16,44,21,17,33,32,18,2,82,33,66,61,74,60,28,53,56,60,154,19,18,19,44,26,112,24,46,33,63,21,23,51,10,75,15,77,33,46,79,296,4,106,25,31,4,186,22,17,5,110,95,163,42,26,5,53,15,26,127,84,80,50,61,36,32,15,51,80,73,32,31,4,177,16,68,15,28,54,72,4,61,68,37,45,84,218,91,302,52,31,52,37,44,30,114,19,47,57,67,60,100,123,163,23,103,142,4,15,38,38,100,4,23,144,31,66,37,194,1,26,116,29,81,9,23,156,21,26,1,54,25,56,134,17,38,4,39,38,255,29,7,30,23,85,46,50,8,40,78,11,86,16,87,26,25,85,117,28,28,81,73,21,58,114,36,36,25,109,123,22,18,159,8,3,152,105,17,7,32,57,44,178,56,106,35,29,23,175,60,7,18,96,264,2,25,11,108,53,15,120,3,116,4,40,148,138,2,227,130,21,28,17,21,78,31,46,100,14,151,156,15,36,129,50,24,49,17,40,11,4,14,19,39,22,114,333,12,43,42,50,46,19,18,88,40,17,126,15,60,10,44,191,7,17,9,2,206,161,24,31,29,11,4,53,29,24,43,60,19,14,94,19,24,29,4,7,109,100,85,12,213,33,57,21,32,1,31,31,119,219,60,138,36,73,25,18,3,1,52,127,131,35,10,44,26,127,71,79,38,53,9,32,50,15,10,96,21,152,25,40,82,11,4,71,1,49,2,42,85,81,372,11,1,30,80,185,43,12,21,71,172,71,9,58,3,45,88,64,11,35,134,29,51,5,49,72,39,31,37,22,11,121,37,12,3,23,70,4,21,35,32,19,24,45,23,40,114,18,25,98,93,81,11,37,19,12,67,25,24,19,29,63,116,32,134,3,9,37,23,176,33,58,86,31,128,24,77,71,95,199,36,25,31,29,22,56,192,29,218,72,122,87,50,172,43,25,72],\"y\":[3510.8560000000007,6510.15,1591.5550000000003,25214.167999999998,1417.2110000000002,10089.048999999999,4140.262999999999,1206.052,3224.698,3888.293,7241.27,4900.65,4093.6800000000007,5946.122,3163.463,5413.2480000000005,2602.8389999999995,4348.314,5100.080000000001,1407.739,1379.36,1885.446,607.6510000000001,3454.69,2247.861,42852.659999999996,3380.098,2530.4300000000003,2236.687,5934.763000000001,1220.445,2856.067,6145.33,27287.13,1377.214,1863.9119999999998,1534.612,4539.493,2922.593,2552.63,3608.8320000000003,25574.399999999994,2446.8839999999996,4615.749999999999,3737.666,3410.956,3259.959,3361.302,2328.4470000000006,4493.317,1741.96,1272.8000000000002,3402.5570000000007,13370.431,1123.875,1279.534,28980.138999999996,7131.084000000001,4064.376,5666.994,2910.198,3644.1670000000004,4431.897,3412.843,3971.21,6636.245999999999,3560.843,1567.764,1136.2330000000002,2637.3600000000006,4654.119000000001,1799.014,3595.5119999999997,4443.9220000000005,6246.673000000001,3779.4760000000006,2927.921,1733.117,1308.5049999999999,1823.508,5830.793000000001,3374.178,3219.3329999999996,4528.43,5626.146,3031.3729999999996,3135.4169999999995,2238.944,3814.9589999999994,2755.9450000000006,2592.701,2455.5049999999997,1854.1440000000002,2632.2169999999996,1478.187,2584.746,7798.342,804.306,2008.1009999999997,3014.982000000001,4188.918000000001,2142.0780000000004,3232.838,1332.0,2286.9330000000004,5126.387000000001,4188.5109999999995,2214.709,5754.683999999999,2370.812,5730.1900000000005,738.0759999999999,2915.0450000000005,2919.3,4221.441000000001,1298.3300000000002,2941.9440000000004,3182.444,2870.645,3622.744,2751.061,2496.39,2842.488,2881.005,3773.112,2118.472,2505.2699999999995,5035.6630000000005,5713.281,3711.321999999999,5144.849999999999,2636.25,2371.071,6009.577,2155.62,808.3389999999999,2513.965,4695.67,4177.818,3915.8579999999997,5346.5,2496.316,5297.585999999999,4582.339,5381.946000000001,4152.9169999999995,4498.534000000001,2417.321,4317.049,1080.4,3297.1440000000002,5140.817,2439.928,2516.6659999999997,2326.4860000000003,778.147,4739.1449999999995,1078.217,2319.863,2524.9169999999995,3397.34,2161.022,645.169,6657.521,2876.861,6471.374,1382.8749999999998,2708.6590000000006,1728.0479999999998,2889.8109999999997,1404.705,4133.381,2565.284,1037.998,2508.6369999999997,4335.66,2013.466,2766.786,6062.339000000001,11360.554,3962.8109999999997,3511.7439999999997,2998.8499999999995,3823.358,1921.9279999999999,4051.796,3451.989,1413.9180000000001,5820.84,3321.712,1468.6040000000003,5506.784,2633.8819999999996,2983.7169999999996,3993.5580000000004,2959.63,1939.3180000000002,8789.017,3994.742,1233.876,3759.7179999999994,2784.6200000000003,1819.8820000000003,2473.191,4963.919999999999,4278.532,3508.525,6094.861999999999,4389.236,2439.817,3961.4050000000007,6345.352,5630.512000000001,1332.037,1290.5600000000002,2548.7819999999992,17017.854000000003,2338.4,3543.3420000000006,1524.585,3087.9089999999997,1337.9940000000001,3200.722,5690.414999999999,5903.276,9810.402,4033.518,3756.5729999999994,4741.661000000001,2341.989,2089.094,1437.524,2741.515,1230.7679999999998,2317.8650000000002,4487.508000000001,2509.525,1718.909,4578.860999999999,2103.6349999999998,2756.7219999999998,12028.9627,1627.704,2213.3399999999997,1530.2830000000001,3218.5190000000002,3405.887,1185.7019999999998,4684.496,7559.396,1960.001,3560.103000000001,2573.7570000000005,3394.158,5259.957,2378.359999999999,2161.059,2411.7339999999995,5283.673999999999,5773.406000000001,6141.075000000001,4841.857,2761.532,833.8319999999999,5008.838,1386.3899999999996,1847.854,3882.669,3457.7239999999997,719.3539999999999,22114.123,4685.0509999999995,2212.267,2563.545,5116.138,2612.681,2625.9269999999997,2358.7499999999995,1538.5339999999999,3385.9809999999998,13846.140000000001,2436.968,2298.773,4978.794000000001,1601.656,1878.3419999999999,4108.924,9049.867000000002,6037.549000000001,2126.908,1346.0230000000001,1668.108,2069.817,3157.5429999999997,2595.180000000001,2765.528,595.8109999999999,1726.79,3716.205999999999,3667.181,3885.444,5724.64,3425.127,5412.064,11635.982,3294.258,6265.765,5454.022000000001,3585.5220000000004,4304.765,5610.088000000001,4143.038,2202.4249999999997,7067.037,7745.284000000001,3205.347,2473.6719999999996,3292.740999999999,3779.846,493.94999999999993,3992.1519999999996,2594.5509999999995,3375.066,13754.195,1287.97,2316.459,4616.453,3860.8020000000006,1805.5629999999999,5460.497,7983.601,7619.965,4088.7590000000005,2849.1109999999994,5538.826000000001,3008.5069999999996,1191.6960000000001,5079.360000000001,5254.74,4303.951,1388.795,2451.583,978.428,6800.303999999998,7781.321999999999,3916.894,2215.412,1706.403,2026.3419999999999,3425.645,4845.52,613.275,3937.8359999999993,5117.7660000000005,1022.754,3904.795,1222.6649999999997,3605.7980000000002,1347.614,2294.148,3451.545,1988.676,5408.105,3998.8119999999994,5662.332,6117.654,623.931,3856.362,2110.702,2286.563,1405.371,821.289,2047.728,3328.6310000000003,2486.252,3725.826,2256.4449999999997,3073.812000000001,2422.02,914.455,2360.1929999999998,6792.09,4698.963,1522.6609999999998,2832.535,1375.29,2188.735,1177.229,4167.569,3393.1589999999997,3209.306,1219.8159999999998,2456.097,2656.8959999999997,1406.0739999999996,4308.835,4863.465000000001,5358.377,4069.926,4514.9619999999995,5238.275000000001,2360.7850000000003,2734.152,5491.021999999998,3242.754,3744.03,2704.1820000000002,2513.9280000000003,3128.5350000000003,1307.0990000000002,2052.205,2880.4500000000003,4108.258,2433.86,1876.973,4172.527,2580.935,1891.9950000000003,4852.106,4340.544000000001,3112.44,1932.806,5421.684,2612.9029999999993,2817.8829999999994,6889.4000000000015,2426.2749999999996,1230.8419999999999,1607.0950000000003,4541.491,4695.225999999999,5957.555000000001,3617.7490000000003,4869.459,2771.67,4077.289,1373.44,1072.334,1243.8289999999997,2573.054,818.6990000000001,2216.3,707.8840000000001,5890.622,4863.465,2926.182,1207.68,862.9510000000001,2020.94,1814.924,4611.384,1857.7330000000002,1143.078,1565.248,1835.9769999999994,1394.937,1735.3000000000004,3944.7549999999997,2320.3810000000003,18348.67,1722.535,2610.3129999999996,1420.9850000000001,3655.082,3306.283,6455.611999999999,2047.432,4105.261,3633.659,2770.8190000000004,2860.2110000000007,3259.145,3313.7570000000005,1867.76,4292.259,5071.22,917.896,1174.861,2602.4320000000002,3801.5280000000002,3685.57,5799.676,1258.407,1693.5639999999999,6044.986000000001,5442.699999999999,3618.3410000000003,3634.9540000000006,8710.725,1845.338,4910.492,1114.773,1218.225,1126.539,3119.2849999999994,1505.0120000000004,1522.217,3863.984,14285.7,3994.5570000000007,4575.198000000001,2416.9880000000003,1555.1100000000001,3309.317,2719.278,4511.78,8315.786999999998,3966.3630000000007,9308.608000000002,2740.886,3296.145,6699.848999999999,5572.644,6354.232,2671.178,2276.0179999999996,1800.7530000000002,3477.186,2375.178,16675.937,2569.2799999999997,4345.094999999999,3421.945,1156.694,10168.747,2514.8160000000003,3883.89,2645.352,2124.0589999999997,7475.924,2086.578,1456.0980000000002,2874.974,3378.8029999999994,2229.287,6947.0830000000005,7427.38,13702.172999999999,1889.627,5027.855999999999,2867.13,3516.332,1470.195,1419.616,3605.7239999999997,1590.408,1993.301,3880.745,1237.7610000000002,1942.0559999999998,1992.635,1737.0760000000002,1374.7720000000002,6553.4400000000005,5333.254,4196.835999999999,2440.002,4670.139999999999,13360.552,3700.999,1270.95,1475.708,2988.009,1992.3020000000001,2129.831,1613.422,1617.751,1752.505,2962.183,5090.127,2406.591,2247.565,2598.325,3480.4789999999994,1289.8200000000002,2526.767,3380.6159999999995,1437.746,5204.383000000001,1200.9089999999999,2818.438,4433.451,10804.592,4046.616,2874.3487,1244.6799999999998,5746.766,4784.211,5676.762000000001,2500.46,4389.495,2681.612,3008.1000000000004,2264.437000000001,2391.31,3413.361000000001,2769.4500000000003,3789.17,8295.437,2532.058,2431.7509999999997,5276.792,887.1120000000001,1145.705,2577.716,3924.0719999999997,1224.2560000000003,4139.597,2215.301,1876.1960000000001,1536.4250000000002,4147.255999999999,4955.965,4049.9829999999997,1971.952,2643.354,4021.604,2352.016,1278.2020000000002,817.145,3572.757000000001,8167.38,3271.3179999999998,2586.5960000000005,3936.615,2902.9460000000004,3344.4300000000003,13819.389000000001,1908.349,5150.326,6664.217999999999,7772.22,2112.5519999999997,3276.2390000000005,6120.946999999999,2353.718,2131.2,2966.5119999999997,3096.1229999999996,3530.133,3879.4130000000005,4529.022,1440.2990000000002,883.745,2635.2879999999996,7164.384,3311.9809999999998,1310.1329999999996,1270.136,1466.976,1299.107,609.316,2367.593,4097.602,22625.537000000004,6320.487999999999,1349.464,2620.4139999999998,2984.309,1586.893,1741.812,1549.671,2464.5699999999997,4065.486000000001,8875.782000000001,4226.953999999999,2930.8069999999993,3924.516,45856.69,1771.4859999999999,3673.027,5236.572999999999,1512.9299999999998,929.588,1626.7419999999997,2031.078,2808.004000000001,1745.586,4860.135,11715.68,4429.899,2863.7629999999995,4960.590000000001,5594.215,2900.43,2459.9450000000006,5401.482,3152.955,1207.088,5002.4,4875.1939999999995,4149.143,3026.0819999999994,7420.830999999999,2708.03,4775.59,3117.25,1566.4320000000002,4843.818,3208.307,2532.354,2428.125,12974.198000000002,2286.9329999999995,2624.705999999999,2351.0170000000003,2683.1659999999997,1037.924,6767.448000000001,2429.7529999999997,3794.1279999999997,3043.1759999999995,4218.777,3735.3350000000005,3839.083,24485.304999999997,4287.523,1958.8169999999998,3632.882,1501.127,2817.1059999999998,1987.1220000000003,1459.2059999999997,2457.7620000000006,8371.694000000001,2554.2580000000003,3932.1750000000006,3199.982,3132.8640000000005,4792.610000000001,3739.2200000000007,3666.2560000000003,3209.0469999999996,1513.67,5634.175,5230.542,6660.259,3831.165,3188.993,2470.3050000000003,4222.588,7629.622,2213.34,9472.0,2614.309,2280.162,4964.1050000000005,1214.1550000000002,1208.9750000000001,1586.1159999999998,2198.6879999999996,932.067,2031.559,1370.7759999999998,2129.0170000000003,4130.939,1829.428,2437.8559999999998,2718.649,1211.01,1840.4910000000002,4886.072,1361.3410000000003,1750.2109999999996,6588.183,2472.9320000000002,2056.793,1173.6399999999999,5113.659,5754.758000000001,5501.53,6311.459999999999,1511.7089999999998,603.359,794.2049999999999,778.2950000000001,3890.1800000000003,3597.2509999999997,1280.644,2422.2789999999995,852.8870000000002,6812.366000000001,5262.88,2406.5909999999994,2820.8430000000003,1113.0710000000001,2846.3730000000005,816.294,1345.5049999999999,1845.56,2706.5499999999997,5001.031,3058.161,1483.182,5298.141,1792.206,2877.12,3235.983,3872.309,4604.983,24970.559999999998,2196.875,2031.189,3411.844,21163.334000000003,3097.2699999999995,3113.217,1891.144,3987.638,2274.242,5260.253000000001,3735.52,2455.357,3463.496,1221.111,1332.5919999999999,1953.8960000000002,4394.342,1851.5539999999999,3009.8759999999997,2999.109,1545.601,4271.539000000001,4652.787,2546.821,3084.9860000000003,4690.305,2109.4809999999998,1134.864,6261.399000000001,1182.557,6550.258,3803.6000000000004,1199.688,1783.4370000000001,1965.9950000000001,2429.5310000000004,11210.518999999998,4297.660999999999,2179.8550000000005,2889.7740000000003,2749.507,2233.875,2406.887,3093.422,2308.5409999999993,6529.464,5538.271,5555.106000000001,1768.9329999999998,2849.37,2447.6240000000003,1436.636,1573.203,2210.676,5993.000999999999,1986.8629999999996,2965.5130000000004,4149.883,2024.159,1704.368,2868.1659999999993,1205.8669999999997,4677.503,1267.0650000000003,1215.08,2766.897,1860.3600000000001,2608.9440000000004,1590.4080000000001,5841.079,1944.498,1882.597,6315.456,1380.9880000000003,2145.149,2300.216,2132.1620000000003,9606.864999999998,3132.9750000000004,1408.0350000000003,2083.951,3518.441,971.916,4360.672,4727.674999999999,1142.3380000000002,1876.0850000000003,1625.8909999999998,2406.517,1321.6770000000001,3992.152000000001,6930.84,4193.025,5390.752,1793.834,5526.801,5227.878000000001,3292.741000000001,2169.421,3404.3700000000003,3294.073,1407.295,3811.518,2758.424,4689.084,4001.809,3509.3759999999997,4073.3300000000004,3423.795,1530.8750000000002,5018.420999999999,4365.593,19359.251000000004,5406.218,3179.595,1154.9180000000001,3111.9959999999996,1399.3399999999997,1073.592,5201.3859999999995,5796.605,4899.392,3595.438,2463.386,3098.7500000000005,2245.567,3717.575,2774.186,931.29,1180.2999999999997,4687.789,3092.3859999999995,5341.652999999999,2633.623,2945.3109999999997,1422.28,6287.41,3748.137,2561.214,5788.871999999999,3955.744,1239.9810000000002,3475.4840000000004,1179.412,13462.117,1559.624,2035.222,1164.353,4199.648,3533.1299999999997,1044.1029999999998,1179.005,1422.724,1309.2820000000002,1008.028,1104.1170000000002,2232.469,2082.73,1149.368,3941.7949999999996,6302.617,569.5039999999999,2060.7149999999997,487.586,731.231,5123.945000000001,8616.707999999999,9621.257999999998,4442.294000000001,1935.507,7503.119,2891.0319999999997,1989.6380000000004,2172.4549999999995,6438.0,5154.322,1436.1180000000002,1806.34,1568.3929999999998,2393.604,1497.242,737.3729999999999,966.1070000000001,2901.2070000000003,27123.96,2576.7169999999996,2417.506000000001,8141.554,2882.0780000000004,2878.6,1714.802,2215.671,2584.117,2808.929,1353.312,1121.6920000000002,2003.6609999999998,1800.8639999999998,6429.49,1171.05,2500.053000000001,2824.136,4162.759000000001,2628.073,1840.972,4210.6,2549.67,2068.1519999999996,11089.010999999999,4239.608,1141.376,2364.374,2675.877,2415.138,4424.83,3475.669,3321.194,2141.9300000000003,2390.052,3442.5170000000003,1788.062,2003.4019999999998,3163.315,620.194,1679.837,1408.22,1660.93,4596.51,4192.359,4588.74,3674.766,1438.523,7564.169,715.654,1443.259,5105.63,1950.085,1954.8210000000001,4901.908000000001,2024.122,2635.473,3731.0429999999997,6650.75,3213.4129999999996,4467.972,6196.352999999999,2203.054,2237.1679999999997,2694.192,1286.675,7370.807,2741.478,2831.758,2955.338,1424.87,1934.7669999999996,4424.978,12122.68,3822.1,4588.407,2561.103,2592.331,1396.528,2637.286,3029.6339999999996,1003.44,676.2489999999999,4534.017,2436.709,6901.2029999999995,1195.2480000000003,2582.2299999999996,4754.647999999999,2020.3479999999997,1434.4160000000002,13708.019,1475.1899999999998,574.869,1297.3680000000002,1253.5600000000002,7522.47,3334.44,19947.477,423.058,5246.711,4429.2699999999995,6878.891999999999,2528.802,1403.9650000000001,703.703,2686.3849999999998,4143.297,2096.4199999999996,2960.888,1355.051,1522.9199999999998,1244.7910000000002,1262.736,4824.948,3058.124,3119.1,6439.776000000002,1510.932,4926.809,2605.725,1442.4080000000001,15193.827999999998,1784.1399999999999,3731.597999999999,1745.29,4064.1910000000003,2349.3150000000005,744.1440000000002,2510.413,1413.6219999999998,1543.751,923.9640000000002,1645.3159999999998,7829.903,444.1109999999999,1564.6560000000002,2702.48,1500.7939999999999,1321.64,2070.187,700.7800000000002,1133.902,1466.421,14346.824,4556.55,2602.469,15006.164,7794.124,11164.01,827.5049999999999,2792.167999999999,874.3100000000001,1304.953,5246.710999999999,1186.664,2180.9280000000003,1290.3010000000002,2523.067,2902.021000000001,3700.592,2096.346,2417.3950000000004,1477.003,1677.58,1478.705,5123.981999999999,4328.778,3627.1469999999995,4555.846999999999,7795.307999999999,4963.254,5885.997,1416.3600000000001,4033.888,3544.489000000001,2549.781,5168.862999999999,1914.232,2220.259,1782.4750000000001,2300.4750000000004,3853.957,2885.63,7708.099000000001,3264.2879999999996,5777.957,8260.212999999998,2974.8740000000003,15964.464,1948.679,9779.84,1199.688,4488.692,2965.587],\"type\":\"scatter\"},{\"marker\":{\"color\":\"black\",\"line\":{\"width\":1},\"opacity\":0.9,\"size\":13},\"mode\":\"markers\",\"name\":\"Platinum\",\"x\":[2,3,3,2,2,59,33,2,4,65,7,26,3,11,39,23,2,4,138,8,4,35,2,17,15,16,30,2,8,5,1,9,8,7,3,0,3,4,4,11,9,1,10,53,16,4,11,8,31,14,14,12,0,1,3,8,32,1,31,0,11,89,4,56,10,16,84,29,14,49,8,36,16,26,7,14,11,10,3,9,30,10,19,60,3,4,12,18,1,11,2,17,1,23,7,4,7,1,37,66,5,36,38,82,45,67,9,17,33,60,31,30,11,1,11,40,64,0,10,5,14,16,26,26,17,7,10,1,1,45,17,7,17,3,8,1,59,1,33,33,2,1,66,73,5,40,12,10,25,15,11,108,5,1,12,24,23,5,24,33,16,9,16,43,9,2,1,17,2,31,26,5,3,32,15,49,24,5,16,3,2,11,2,64,33,12,9,30,5,32,16,5,58,8,1,18,7,123,2,22,53,21,2,10,7,1,28,72,79,57,1,17,21,2,7,5,7,18,31,39,29,4,19,12,42,3,15,10,43,9,18,2,40,26,16,1,23,4,9,3,4,4,2,7,12,16,5,51,3,22,3,3,10,1,2,1,1,3,8,19,59,8,40,10,30,2,1,4,10,105,53,11,3,1,42,28,26,42,22,43,8,7,1,64,9,8,3,23,8,11,1,7,3,17,8,71,88,8,46,44,10,17,16,16,45,31,8,32,10,10,2,2,4,33,10,1,3,10,0,23,7,9,8,0,0,18,5,66,29,103,18,26,7,42,26,19,3,47,17,17,11,17,31,19,2,25,24,2,60,9,28,24,5,3,10,19,10,7,3,95,3,12,5,18,15,19,11,4,1,32,23,4,52,24,4,1,8,17,8,28,10,3,16,31,25,7,30,4,1,32,10,1,11,15,14,10,9,1,10,1,8,16,3,4,11,9,4,8,2,51,16,2,1,47,39,40,3,17,89,53,43,63,21,58,78,12,3,8,12,9,7,7,23,11,21,2,3,29,59,10,9,35,72,115,15,12,8,11,3,9,4,4,15,19,9,25,23,4,12,25,40,8,37,9,7,10,18,18,17,9,30,17,14,7,25,50,14,2,8,4,17,9,1,3,8,18,1,3,25,1,1,10,51,66,1,10,44,66,31,9,16,15,7,4,58,43,4,25,50,2,50,12,31,4,25,40,8,40,8,14,4,9,16,1,33,84,64,19,33,8,12,1,9,1,19,15,1,30,95,32,21,2,8,15,22,11,12,64,40,2,18,22,21,8,25,9,7,77,12,22,2,7,4,120,23,15,11,8,9,10,43,4,15,4,105,25,18,88,73,18,24,9,8,0,33,2,140,35,40,9,32,35,16,14,18,16,12,2,39,10,88,9,32,46,26,43,1,0,23,22,16,49,73,70,17,4,15,40,12,8,5,14,63,1,1,16,9,19,3,0,16,4,8,31,15,24,17,17,39,17,24,22,2,12,8,36,29,12,47,8,37,3,3,46,16,46,5,40,16,9,16,3,56,23,11,42,7,17,45,9,29,17,3,8,42,49,8,1,10,8,50,15,100,22,31,2,4,3,29,44,24,9,8,66,16,45,17,9,2,21,5,31,21,9,25,64,5,14,28,24,11,32,3,1,7,4,9,11,17,37,18,8,4,2,1,12,36,44,2,29,5,7,1,99,2,28,19,33,7,63,3,8,49,21,52,1,2,19,2,10,108,66,0,15,4,4,17,15,31,0,29,17,22,58,16,17,22,9,23,16,2,33,2,47,1,8,8,19,3,9,18,23,14,17,26,46,38,78,29,11,86,4,17,7,3,30,33,10,2,10,3,29,1,11,23,8,14,2,10,1,31,36,42,22,22,4,67,12,30,15,1,7,16,4,5,29,4,28,49,12,80,3,5,8,52,12,21,3,0,8,3,12,88,17,3,10,0,4,28,2,11,2,32,2,96,29,12,28,28,17,17,33,35,7,28,4,2,50,15,10,33,29,5,5,15,16,15,1,22,21,31,28,32,5,7,11,28,35,26,40,4,24,15,12,12,2,1,42,60,26,9,31,3,8,11,14,10,24,1,8,15,17,17,29,3,14,8,17,0,12,23,40,23,7,126,4,1,16,2,29,11,16,8,2,36,2,1,43,22,16,16,3,0,1,57,28,15,17,1,1,1,1,14,8,7,50,8,0,60,2,73,3,23,2,40,7,53,22,5,14,18,5,36,1,11,25,10,17,25,66,42,15,50,1,4,10,16,7,30,38,16,30,3,4,22,37,96,16,15,3,3,2,19,11,3,5,0,1,19,17,8,12,24,26,22,22,37,16,4,12,14,5,42,26,5,3,59,12,30,2,3,3,31,4,11,8,5,21,37,24,15,35,74,32,35,11,4,7,21,5,26,23,8,45,2,11,7,1,10,8,29,15,17,7,12,12,15,14,9,4,15,4,71,1,2,4,3,44,11,9,71,2,9,7,39,24,2,3,42],\"y\":[15525.237,15136.256000000001,3486.658,5456.464,3769.2270000000008,9667.581999999999,2527.5809999999997,20688.253999999997,14882.695,6298.361999999999,8065.741,14936.234,5682.349,10803.296999999999,8061.079000000001,11377.648,6150.51,9189.431,11122.755000000001,4940.203,2567.9850000000006,7631.99,7994.59,3936.4299999999994,5565.799,7640.315,15418.714,6819.099999999998,3937.059,5134.823,17601.492,14864.898000000003,6869.531,1673.2879999999996,41402.667,4585.706000000001,25619.207000000002,3605.3540000000003,36329.634000000005,20926.867000000002,6148.808000000001,17800.478,12825.236,12381.236,26927.49,9680.606,2958.0760000000005,2504.863,11978.898,6792.867,21596.382000000005,4142.112999999999,16413.644,2698.299,46723.378000000004,32970.034,22238.553999999996,23769.133,5508.079,45310.051999999996,8490.685999999998,14305.420999999998,7768.668,9648.157,13506.517,18740.278,8838.375,13716.344000000001,6201.4220000000005,6442.514,5320.045,4881.003,10423.010999999999,21184.238999999998,14643.785999999998,6294.773000000001,6651.786000000001,12584.588,36323.344,3217.002,21798.957,4430.454000000001,2915.8959999999997,7977.015000000001,23916.208,10385.788999999999,5023.120000000001,7353.01,27580.058999999997,14186.762,16729.513,11894.353000000001,19781.051,10023.744,7732.445000000001,7403.182,5390.123000000001,2870.978,22117.601,8412.616,40128.534999999996,26351.215,13422.749,13086.234,39724.976,9411.764,11435.738000000001,3672.25,8233.868999999999,12255.325,13465.447,15362.141,2952.452,9324.074,22671.491,6848.995999999999,9717.309999999998,13472.884000000002,3725.16,14096.593,12609.822,13095.668999999998,7561.764,11011.755000000001,6536.864,35692.309,4009.727,21108.389000000003,9366.846,6676.872,33182.747,7566.019,4288.707,9172.892,3624.964,6628.772000000001,7875.154,4046.505,14670.056,8463.787,21719.296000000002,12758.673,13838.259,15352.336000000001,2238.7219999999998,3236.4269999999997,7741.584000000001,24854.158,6244.120000000001,9172.115000000002,7333.104,7537.196,2579.0480000000002,19068.579,4187.956,5958.702,28831.731999999996,7517.585999999999,7848.6990000000005,5828.092000000001,9709.762000000002,6209.044000000001,6794.458,10017.121000000001,9764.928999999996,23545.283,13772.954,3062.971,11541.928,9265.280999999999,8380.944000000001,8539.822,23413.785,5346.536999999998,3854.216,7328.072,10675.387999999999,2708.0299999999997,11584.774000000001,7996.995,19201.223999999995,11805.035000000002,10347.087,9747.464999999997,4188.880999999999,3374.4000000000005,9112.323,9752.422999999999,6466.341999999999,6286.077999999999,8151.062999999998,2559.401,12526.794,30005.224,4609.83,8174.632,11812.398000000001,11488.315,10252.478,23692.025,6611.123,11913.149000000001,4407.1810000000005,9895.576000000001,2914.1199999999994,6970.097,9594.359,10608.64,8767.335,9549.367,6803.745,3104.818,18917.951999999997,8981.084,13008.016000000001,3797.754,33499.578,10205.562,9347.236,6925.696999999999,9632.691,26122.481,15347.452000000001,3167.0890000000004,12825.532,8558.618,5156.652999999999,14436.697,16955.768,10636.464,8732.333,11009.683,13375.204000000002,2415.434,21022.364,30394.205,23006.451999999997,22719.554,38719.94500000001,5323.634,3486.362,3768.191,16459.597999999998,15084.567000000001,1638.5449999999998,11485.429,5033.036,10001.951000000001,21027.655,10786.055,6809.554,10286.555,10139.591000000002,4158.282,13268.311000000002,17354.147,3634.8059999999996,3459.6850000000004,15506.7,17364.137000000002,11922.509999999998,5997.440999999999,2663.1859999999997,17569.523999999998,7601.132,17220.096,17333.612,41993.224,7671.691,7051.608,8292.07,6621.964,6805.41,7418.426,12701.36,8259.103000000001,12398.552,7577.8589999999995,2869.2019999999998,8809.145,9578.449,7044.985000000002,10654.890000000001,11468.964,46878.926000000014,9687.451000000001,13798.558,17126.375,3371.6620000000007,8564.204999999998,14368.025000000001,18026.141,3872.272,4829.721,14672.794000000002,6878.152,11084.164,8704.361,5962.883,9180.181,5663.775000000001,18554.908,9443.177,5975.167,8074.436,7874.451,34267.623999999996,6551.071999999999,11887.508000000002,17215.434,12978.527,9667.952,14990.475999999999,5454.984000000001,9644.161000000002,21831.036,7167.825,3914.822,15775.467999999997,16582.179,4605.871,8345.386999999999,8723.416,6337.692999999999,3846.446,3356.2700000000004,11330.880000000001,7414.874,8407.880000000001,7166.308000000001,7652.155000000001,4426.421,8817.988,7242.084,3016.6839999999997,9141.479,13110.061999999998,2491.062,21850.868,7445.029,4864.7970000000005,7777.733,6910.415999999999,16029.14,31482.634000000002,10825.867,7213.964,16454.085,10597.503,3686.1620000000003,13432.221000000001,7490.465,9538.932999999999,14827.898000000001,2832.794,3179.2989999999995,8809.848,8279.749,18776.648999999998,11466.743999999999,10481.508000000002,3180.9269999999997,3894.435,5924.218000000001,5354.418,6440.22,3267.6550000000007,6605.054999999999,6616.932000000001,3290.2250000000004,10327.698999999999,3548.337,11042.613000000001,7862.795999999999,5243.973,7205.9349999999995,7149.251,3138.414,9360.741,2853.3289999999997,34192.44,6424.679999999999,2237.5750000000003,9428.488,4574.236000000001,20834.218999999997,7823.021,7692.115,4627.812,8270.609999999999,9432.668999999998,12180.918,5723.567,18207.847999999998,2242.6810000000005,10614.560000000001,9865.532,5927.881,4285.71,7418.722,9999.213,35467.867000000006,22443.053,14438.436000000002,5181.258000000002,18538.036,6016.089000000002,9151.469000000001,39496.575000000004,9391.71,2756.7220000000007,4883.667,29683.213,16057.037999999999,10142.329000000002,7725.156,8239.567000000001,6365.110000000001,6103.15,12194.312000000002,10451.353,11802.297000000002,29342.998,10495.753,10211.371,5008.838,10928.283,2685.0899999999997,5496.4980000000005,4580.045,41213.227,5055.606,4823.024,5258.773,10399.331,3794.1280000000006,12954.07,21830.925000000003,29968.113,26065.316,5504.860000000001,4131.309,7146.254000000001,6074.512000000001,23371.309,4668.586,7084.834000000001,3348.648,25170.212,6146.921,2472.1179999999995,9570.679,15941.857,28490.850999999995,19290.949,6593.733,5148.957,2581.823,1117.7699999999998,7862.463,4949.564,1121.433,11685.081,3860.617,36049.507,8957.108,17008.974000000002,8506.041000000001,5263.324,13354.521,10214.072,5005.174999999999,5741.585999999999,8137.447000000001,42655.376000000004,12755.38,5135.563,4760.789999999998,24347.628000000004,4420.500999999999,19663.539,17559.053,3557.5130000000004,7163.459,6008.985,8165.715,17675.565999999995,28181.161000000004,6762.860000000001,3219.444,6147.328,21300.493,6582.152000000001,12530.827,5225.584,2888.183,6314.309,6498.828000000001,24747.302,38794.46300000001,3397.34,8804.113000000001,9276.159,2651.308999999999,8628.955,8534.124,29389.914,17272.71,13589.582,17759.63,18760.295,7252.407000000001,10236.050000000001,30884.640000000003,8562.984,8828.385,8938.867,4563.432000000001,6253.962,22036.127,5681.461,8079.098,4978.461,3018.3490000000006,3908.8279999999995,12768.108,14741.984,5355.343,5487.618,3853.4760000000006,4153.361,11976.567,5247.562,5136.969,27212.093999999997,40903.352,13298.947000000002,9527.5,11470.333000000002,7406.66,4807.151,49270.68,4186.772,38424.24100000001,3623.2620000000006,3364.151,15316.002,7187.0650000000005,11100.74,3055.904,8990.186,14782.351,5558.695,7427.528,5849.441,13122.827000000001,18332.908,6265.062,17779.129,5181.628000000001,2805.6730000000007,15412.423999999999,9445.582,13615.889,2682.907,6555.586,25073.272,4802.119,5888.365000000001,38479.038,13725.372,10619.887999999999,12155.646999999999,46307.941999999995,6982.6399999999985,5923.182000000001,9831.381000000003,10659.774000000001,9052.419999999998,12712.312,2890.7360000000003,4934.616,11074.469999999998,23973.78,10124.901999999998,5705.918,8486.393999999998,3498.6460000000006,12447.688,3967.732,18668.757,8223.472,19162.152000000002,4458.9439999999995,17805.953999999998,2902.5019999999995,3603.9480000000003,9122.276000000002,9758.306,8747.724999999999,12135.889,9674.538,8617.189,18249.14,3507.785,5966.953000000001,10032.772,15563.643,20455.375999999997,8208.894,7197.721,7050.165000000001,6793.532999999999,8264.875,13733.548999999999,11006.205000000002,5323.745000000001,3615.6769999999997,11711.831999999999,3081.656,14106.768,1335.441,16301.756,1825.136,5138.856,1346.3560000000002,18969.012000000002,5800.4529999999995,3579.5649999999996,4559.066000000001,5653.932999999999,9234.719000000001,3534.388,6532.387,6139.706,16340.162000000004,3128.868,15539.445,12735.955000000002,3902.501,12611.376,5457.5740000000005,10499.378999999999,5369.735999999999,10351.009,11432.889,10120.868999999999,2276.9429999999998,6297.178,12442.027000000002,2450.8059999999996,2609.9430000000007,5582.412,14009.087999999998,3148.7370000000005,2663.297,32620.68,4113.623,8373.543999999998,4268.394,5630.919000000001,8268.501,10385.529999999999,3631.5870000000004,3989.451,6815.918000000001,5289.668,11855.392000000003,4948.6759999999995,6171.489,23264.749000000003,6956.814,8972.278,14058.113000000001,7596.174,6749.651,11551.547999999999,20629.572000000004,14014.119999999999,6744.9890000000005,6974.6849999999995,5247.784000000001,37940.466,14825.678,25572.328,19167.924,3998.294,6894.839000000001,11413.316,4056.3840000000005,13759.559999999998,9649.118999999999,13331.877,13630.282000000001,9693.667,19252.987000000005,2763.2709999999997,20153.9,5288.188,5585.446000000001,5811.996999999999,3048.689,8321.262999999999,4915.635000000001,19834.331,10873.967,11510.552,14223.614,5894.84,7295.919000000001,3284.305,5436.965,24700.126999999997,7501.75,6478.404,12996.361,3317.642,2616.0480000000007,5699.554,2976.613,5748.541999999999,3651.9370000000004,7982.380000000001,11270.976999999999,15163.784,7869.6410000000005,7506.856,2498.499,7060.525,5632.324999999999,2953.895,13470.479000000001,2282.123,7985.969,12886.137999999999,3014.464,4864.316,5932.802000000001,6924.549999999999,9229.502,2532.317,5918.224000000001,10973.053,3515.962,6020.381,34848.339,48201.565,4053.572,5138.597,15372.168000000001,8506.188999999998,12261.023000000001,30852.413,13832.08,15220.616,3010.024,12386.527,20325.802,9796.083,16328.469999999998,8095.785000000001,10667.470000000001,6218.663999999999,25063.689,4486.842,14039.724000000002,31915.46,3454.3940000000002,5087.019,15154.830000000002,30099.278000000002,5890.844,11506.963,11332.471,4665.182000000001,18783.235,19973.71,9187.248,6108.811000000001,13488.091,25615.581,14276.006000000001,6624.553999999999,17503.997,5113.474,3902.2790000000005,26787.703999999998,8512.072000000002,8280.933,4827.612000000001,26618.91,24781.342000000004,5608.83,2922.223,10357.224999999999,20648.22,8313.197,6273.942000000001,39329.964,8435.63,5718.794,6370.585999999999,4524.027,4445.513,3384.353,6264.026,24083.67,5937.574999999999,12393.409,4094.161,11732.626,6918.334000000001,37727.309,3054.054,10405.658,26357.394,7753.461000000001,3158.7639999999997,5620.596,1744.5869999999998,2995.89,4741.771999999999,3282.3070000000007,13890.798999999999,11478.991000000002,3632.1050000000005,5587.222,9528.905999999999,3954.634,26816.157,10536.119999999999,4792.943,17035.614,10124.606,11284.556,7106.182999999999,16078.350000000002,4759.198999999999,7714.796,7973.389,6852.400000000001,7145.625000000001,16580.995,20217.244000000002,6012.6849999999995,5972.947,14761.409,2892.5859999999993,6817.472000000001,32168.762000000002,4708.657,3864.206,6420.166,20941.926,11946.708000000002,11451.648,16842.917999999998,10025.890000000001,8987.410999999998,5350.532999999999,3086.2439999999997,7414.245,10914.075,7585.296,7366.737,7562.614999999998,14162.712,6577.786,3781.8810000000003,6000.401,40017.091,3274.6479999999997,2991.894,9113.729,18101.288000000004,4217.001000000001,39473.33899999999,3642.9089999999997,6343.983,5693.855999999999,13016.711,6347.201999999999,9129.195,13936.42,12385.046999999999,9154.651,7751.981,13186.244999999999,8573.714,10290.551,7254.663999999999,11833.525000000001,7052.533,11744.984,3389.6809999999996,13855.204999999998,32104.345,7949.9310000000005,6114.546,3937.2070000000003,5253.000999999999,3494.3169999999996,1943.3880000000001,6937.907,2475.707,4201.831000000001,31935.847000000005,9353.304,23281.362,2593.182,3407.959,3663.8510000000006,24582.540999999997,45707.172999999995,9903.271999999999,4290.224,4758.459000000001,2167.4230000000002,16580.365999999998,17765.772,7076.878999999997,4967.916,15173.403999999999,9939.754,7880.851999999999,9745.244999999999,3816.217,4494.464,4654.822,25505.654000000002,15638.309,7323.669000000001,18637.862,8783.133999999998,8319.672,9327.182,6369.18,2432.01,2802.6020000000003,7016.717000000001,6922.589,4645.683,7741.584000000001,13167.819,22626.018,10822.463000000002,2841.8959999999997,6822.874,3961.627,13425.45,8824.5,7224.065,4152.805999999999,3334.477,16026.476,5544.487,13403.916,40866.648,8895.429,5473.1140000000005,8236.089,14531.158000000001,10463.341,18880.989,4115.214,14741.614000000001,7579.265000000001,16868.855000000003,3594.8459999999995,3120.8759999999997,7573.9,6712.244000000001,8739.289,10713.868,14596.5,18010.564,9764.078000000001,11098.002,6670.766999999999,7605.387,12604.863999999998,5819.026999999999,11759.229000000001,6027.744000000001,5134.415999999999,9155.021,11808.661,21236.002,17604.415,8457.127,9378.168000000001,6750.169,6747.024000000001,38866.613,20927.163,19965.347999999998,8968.947999999999,12724.596000000001,3922.9249999999997,10641.237000000001,19604.376,48507.074,6952.485000000001,10327.994999999997,8592.880000000001,6651.009,6557.362,20739.573,12789.79,3089.463,8410.766,14792.526,2463.6820000000002,7272.535,2887.590999999999,11306.940999999999,4436.3369999999995,20024.067000000003,28999.601000000002,2708.992,6552.255999999999,7383.202,5895.506,10283.41,19075.942,7772.960000000001,11692.0,2210.7499999999995,38947.384000000005,7009.095,2485.5490000000004,2654.565,3328.5570000000002,15555.170000000002,10961.25,15914.514,8631.063999999998,4796.8279999999995,9703.508999999998,2740.923,16608.597,2803.527,7291.479,5489.1720000000005,2472.0070000000005,15478.542999999998,7727.82,25101.503,7841.817,8853.471,7535.679,9663.474999999999,9742.136999999999,13512.289,33552.562000000005,3371.2550000000006,9981.86,29795.989,20919.134000000002,6756.977000000001,4229.063,3919.7430000000004,31221.858,10688.375,10587.735,2719.2780000000002,5989.153,27978.216,6634.728999999999,6821.874999999999,7403.848,20074.572000000004,7376.69,9699.106,7658.149,23992.798,20383.744000000002,19343.785,26924.53,10397.74,6646.976000000001,3652.2700000000004,7670.433000000001,9498.122000000001,8649.230999999996,8652.82,11390.746,7751.056,6797.936000000001],\"type\":\"scatter\"}],                        {\"template\":{\"data\":{\"barpolar\":[{\"marker\":{\"line\":{\"color\":\"#E5ECF6\",\"width\":0.5},\"pattern\":{\"fillmode\":\"overlay\",\"size\":10,\"solidity\":0.2}},\"type\":\"barpolar\"}],\"bar\":[{\"error_x\":{\"color\":\"#2a3f5f\"},\"error_y\":{\"color\":\"#2a3f5f\"},\"marker\":{\"line\":{\"color\":\"#E5ECF6\",\"width\":0.5},\"pattern\":{\"fillmode\":\"overlay\",\"size\":10,\"solidity\":0.2}},\"type\":\"bar\"}],\"carpet\":[{\"aaxis\":{\"endlinecolor\":\"#2a3f5f\",\"gridcolor\":\"white\",\"linecolor\":\"white\",\"minorgridcolor\":\"white\",\"startlinecolor\":\"#2a3f5f\"},\"baxis\":{\"endlinecolor\":\"#2a3f5f\",\"gridcolor\":\"white\",\"linecolor\":\"white\",\"minorgridcolor\":\"white\",\"startlinecolor\":\"#2a3f5f\"},\"type\":\"carpet\"}],\"choropleth\":[{\"colorbar\":{\"outlinewidth\":0,\"ticks\":\"\"},\"type\":\"choropleth\"}],\"contourcarpet\":[{\"colorbar\":{\"outlinewidth\":0,\"ticks\":\"\"},\"type\":\"contourcarpet\"}],\"contour\":[{\"colorbar\":{\"outlinewidth\":0,\"ticks\":\"\"},\"colorscale\":[[0.0,\"#0d0887\"],[0.1111111111111111,\"#46039f\"],[0.2222222222222222,\"#7201a8\"],[0.3333333333333333,\"#9c179e\"],[0.4444444444444444,\"#bd3786\"],[0.5555555555555556,\"#d8576b\"],[0.6666666666666666,\"#ed7953\"],[0.7777777777777778,\"#fb9f3a\"],[0.8888888888888888,\"#fdca26\"],[1.0,\"#f0f921\"]],\"type\":\"contour\"}],\"heatmapgl\":[{\"colorbar\":{\"outlinewidth\":0,\"ticks\":\"\"},\"colorscale\":[[0.0,\"#0d0887\"],[0.1111111111111111,\"#46039f\"],[0.2222222222222222,\"#7201a8\"],[0.3333333333333333,\"#9c179e\"],[0.4444444444444444,\"#bd3786\"],[0.5555555555555556,\"#d8576b\"],[0.6666666666666666,\"#ed7953\"],[0.7777777777777778,\"#fb9f3a\"],[0.8888888888888888,\"#fdca26\"],[1.0,\"#f0f921\"]],\"type\":\"heatmapgl\"}],\"heatmap\":[{\"colorbar\":{\"outlinewidth\":0,\"ticks\":\"\"},\"colorscale\":[[0.0,\"#0d0887\"],[0.1111111111111111,\"#46039f\"],[0.2222222222222222,\"#7201a8\"],[0.3333333333333333,\"#9c179e\"],[0.4444444444444444,\"#bd3786\"],[0.5555555555555556,\"#d8576b\"],[0.6666666666666666,\"#ed7953\"],[0.7777777777777778,\"#fb9f3a\"],[0.8888888888888888,\"#fdca26\"],[1.0,\"#f0f921\"]],\"type\":\"heatmap\"}],\"histogram2dcontour\":[{\"colorbar\":{\"outlinewidth\":0,\"ticks\":\"\"},\"colorscale\":[[0.0,\"#0d0887\"],[0.1111111111111111,\"#46039f\"],[0.2222222222222222,\"#7201a8\"],[0.3333333333333333,\"#9c179e\"],[0.4444444444444444,\"#bd3786\"],[0.5555555555555556,\"#d8576b\"],[0.6666666666666666,\"#ed7953\"],[0.7777777777777778,\"#fb9f3a\"],[0.8888888888888888,\"#fdca26\"],[1.0,\"#f0f921\"]],\"type\":\"histogram2dcontour\"}],\"histogram2d\":[{\"colorbar\":{\"outlinewidth\":0,\"ticks\":\"\"},\"colorscale\":[[0.0,\"#0d0887\"],[0.1111111111111111,\"#46039f\"],[0.2222222222222222,\"#7201a8\"],[0.3333333333333333,\"#9c179e\"],[0.4444444444444444,\"#bd3786\"],[0.5555555555555556,\"#d8576b\"],[0.6666666666666666,\"#ed7953\"],[0.7777777777777778,\"#fb9f3a\"],[0.8888888888888888,\"#fdca26\"],[1.0,\"#f0f921\"]],\"type\":\"histogram2d\"}],\"histogram\":[{\"marker\":{\"pattern\":{\"fillmode\":\"overlay\",\"size\":10,\"solidity\":0.2}},\"type\":\"histogram\"}],\"mesh3d\":[{\"colorbar\":{\"outlinewidth\":0,\"ticks\":\"\"},\"type\":\"mesh3d\"}],\"parcoords\":[{\"line\":{\"colorbar\":{\"outlinewidth\":0,\"ticks\":\"\"}},\"type\":\"parcoords\"}],\"pie\":[{\"automargin\":true,\"type\":\"pie\"}],\"scatter3d\":[{\"line\":{\"colorbar\":{\"outlinewidth\":0,\"ticks\":\"\"}},\"marker\":{\"colorbar\":{\"outlinewidth\":0,\"ticks\":\"\"}},\"type\":\"scatter3d\"}],\"scattercarpet\":[{\"marker\":{\"colorbar\":{\"outlinewidth\":0,\"ticks\":\"\"}},\"type\":\"scattercarpet\"}],\"scattergeo\":[{\"marker\":{\"colorbar\":{\"outlinewidth\":0,\"ticks\":\"\"}},\"type\":\"scattergeo\"}],\"scattergl\":[{\"marker\":{\"colorbar\":{\"outlinewidth\":0,\"ticks\":\"\"}},\"type\":\"scattergl\"}],\"scattermapbox\":[{\"marker\":{\"colorbar\":{\"outlinewidth\":0,\"ticks\":\"\"}},\"type\":\"scattermapbox\"}],\"scatterpolargl\":[{\"marker\":{\"colorbar\":{\"outlinewidth\":0,\"ticks\":\"\"}},\"type\":\"scatterpolargl\"}],\"scatterpolar\":[{\"marker\":{\"colorbar\":{\"outlinewidth\":0,\"ticks\":\"\"}},\"type\":\"scatterpolar\"}],\"scatter\":[{\"marker\":{\"colorbar\":{\"outlinewidth\":0,\"ticks\":\"\"}},\"type\":\"scatter\"}],\"scatterternary\":[{\"marker\":{\"colorbar\":{\"outlinewidth\":0,\"ticks\":\"\"}},\"type\":\"scatterternary\"}],\"surface\":[{\"colorbar\":{\"outlinewidth\":0,\"ticks\":\"\"},\"colorscale\":[[0.0,\"#0d0887\"],[0.1111111111111111,\"#46039f\"],[0.2222222222222222,\"#7201a8\"],[0.3333333333333333,\"#9c179e\"],[0.4444444444444444,\"#bd3786\"],[0.5555555555555556,\"#d8576b\"],[0.6666666666666666,\"#ed7953\"],[0.7777777777777778,\"#fb9f3a\"],[0.8888888888888888,\"#fdca26\"],[1.0,\"#f0f921\"]],\"type\":\"surface\"}],\"table\":[{\"cells\":{\"fill\":{\"color\":\"#EBF0F8\"},\"line\":{\"color\":\"white\"}},\"header\":{\"fill\":{\"color\":\"#C8D4E3\"},\"line\":{\"color\":\"white\"}},\"type\":\"table\"}]},\"layout\":{\"annotationdefaults\":{\"arrowcolor\":\"#2a3f5f\",\"arrowhead\":0,\"arrowwidth\":1},\"autotypenumbers\":\"strict\",\"coloraxis\":{\"colorbar\":{\"outlinewidth\":0,\"ticks\":\"\"}},\"colorscale\":{\"diverging\":[[0,\"#8e0152\"],[0.1,\"#c51b7d\"],[0.2,\"#de77ae\"],[0.3,\"#f1b6da\"],[0.4,\"#fde0ef\"],[0.5,\"#f7f7f7\"],[0.6,\"#e6f5d0\"],[0.7,\"#b8e186\"],[0.8,\"#7fbc41\"],[0.9,\"#4d9221\"],[1,\"#276419\"]],\"sequential\":[[0.0,\"#0d0887\"],[0.1111111111111111,\"#46039f\"],[0.2222222222222222,\"#7201a8\"],[0.3333333333333333,\"#9c179e\"],[0.4444444444444444,\"#bd3786\"],[0.5555555555555556,\"#d8576b\"],[0.6666666666666666,\"#ed7953\"],[0.7777777777777778,\"#fb9f3a\"],[0.8888888888888888,\"#fdca26\"],[1.0,\"#f0f921\"]],\"sequentialminus\":[[0.0,\"#0d0887\"],[0.1111111111111111,\"#46039f\"],[0.2222222222222222,\"#7201a8\"],[0.3333333333333333,\"#9c179e\"],[0.4444444444444444,\"#bd3786\"],[0.5555555555555556,\"#d8576b\"],[0.6666666666666666,\"#ed7953\"],[0.7777777777777778,\"#fb9f3a\"],[0.8888888888888888,\"#fdca26\"],[1.0,\"#f0f921\"]]},\"colorway\":[\"#636efa\",\"#EF553B\",\"#00cc96\",\"#ab63fa\",\"#FFA15A\",\"#19d3f3\",\"#FF6692\",\"#B6E880\",\"#FF97FF\",\"#FECB52\"],\"font\":{\"color\":\"#2a3f5f\"},\"geo\":{\"bgcolor\":\"white\",\"lakecolor\":\"white\",\"landcolor\":\"#E5ECF6\",\"showlakes\":true,\"showland\":true,\"subunitcolor\":\"white\"},\"hoverlabel\":{\"align\":\"left\"},\"hovermode\":\"closest\",\"mapbox\":{\"style\":\"light\"},\"paper_bgcolor\":\"white\",\"plot_bgcolor\":\"#E5ECF6\",\"polar\":{\"angularaxis\":{\"gridcolor\":\"white\",\"linecolor\":\"white\",\"ticks\":\"\"},\"bgcolor\":\"#E5ECF6\",\"radialaxis\":{\"gridcolor\":\"white\",\"linecolor\":\"white\",\"ticks\":\"\"}},\"scene\":{\"xaxis\":{\"backgroundcolor\":\"#E5ECF6\",\"gridcolor\":\"white\",\"gridwidth\":2,\"linecolor\":\"white\",\"showbackground\":true,\"ticks\":\"\",\"zerolinecolor\":\"white\"},\"yaxis\":{\"backgroundcolor\":\"#E5ECF6\",\"gridcolor\":\"white\",\"gridwidth\":2,\"linecolor\":\"white\",\"showbackground\":true,\"ticks\":\"\",\"zerolinecolor\":\"white\"},\"zaxis\":{\"backgroundcolor\":\"#E5ECF6\",\"gridcolor\":\"white\",\"gridwidth\":2,\"linecolor\":\"white\",\"showbackground\":true,\"ticks\":\"\",\"zerolinecolor\":\"white\"}},\"shapedefaults\":{\"line\":{\"color\":\"#2a3f5f\"}},\"ternary\":{\"aaxis\":{\"gridcolor\":\"white\",\"linecolor\":\"white\",\"ticks\":\"\"},\"baxis\":{\"gridcolor\":\"white\",\"linecolor\":\"white\",\"ticks\":\"\"},\"bgcolor\":\"#E5ECF6\",\"caxis\":{\"gridcolor\":\"white\",\"linecolor\":\"white\",\"ticks\":\"\"}},\"title\":{\"x\":0.05},\"xaxis\":{\"automargin\":true,\"gridcolor\":\"white\",\"linecolor\":\"white\",\"ticks\":\"\",\"title\":{\"standoff\":15},\"zerolinecolor\":\"white\",\"zerolinewidth\":2},\"yaxis\":{\"automargin\":true,\"gridcolor\":\"white\",\"linecolor\":\"white\",\"ticks\":\"\",\"title\":{\"standoff\":15},\"zerolinecolor\":\"white\",\"zerolinewidth\":2}}},\"title\":{\"text\":\"Segments\"},\"xaxis\":{\"title\":{\"text\":\"Recency\"}},\"yaxis\":{\"title\":{\"text\":\"Monetary\"}}},                        {\"responsive\": true}                    ).then(function(){\n",
              "                            \n",
              "var gd = document.getElementById('bc255382-ffb6-4ef8-9f5b-3df1446f0de6');\n",
              "var x = new MutationObserver(function (mutations, observer) {{\n",
              "        var display = window.getComputedStyle(gd).display;\n",
              "        if (!display || display === 'none') {{\n",
              "            console.log([gd, 'removed!']);\n",
              "            Plotly.purge(gd);\n",
              "            observer.disconnect();\n",
              "        }}\n",
              "}});\n",
              "\n",
              "// Listen for the removal of the full notebook cells\n",
              "var notebookContainer = gd.closest('#notebook-container');\n",
              "if (notebookContainer) {{\n",
              "    x.observe(notebookContainer, {childList: true});\n",
              "}}\n",
              "\n",
              "// Listen for the clearing of the current output cell\n",
              "var outputEl = gd.closest('.output');\n",
              "if (outputEl) {{\n",
              "    x.observe(outputEl, {childList: true});\n",
              "}}\n",
              "\n",
              "                        })                };                            </script>        </div>\n",
              "</body>\n",
              "</html>"
            ]
          },
          "metadata": {}
        }
      ],
      "source": [
        "import chart_studio as cs\n",
        "import plotly.offline as po\n",
        "import plotly.graph_objs as gobj\n",
        "\n",
        "#Recency Vs Frequency\n",
        "graph = RFMScores.query(\"Monetary < 50000 and Frequency < 2000\")\n",
        "\n",
        "plot_data = [\n",
        "    gobj.Scatter(\n",
        "        x=graph.query(\"RFM_Loyalty_Level == 'Bronze'\")['Recency'],\n",
        "        y=graph.query(\"RFM_Loyalty_Level == 'Bronze'\")['Frequency'],\n",
        "        mode='markers',\n",
        "        name='Bronze',\n",
        "        marker= dict(size= 7,\n",
        "            line= dict(width=1),\n",
        "            color= 'blue',\n",
        "            opacity= 0.8\n",
        "           )\n",
        "    ),\n",
        "        gobj.Scatter(\n",
        "        x=graph.query(\"RFM_Loyalty_Level == 'Silver'\")['Recency'],\n",
        "        y=graph.query(\"RFM_Loyalty_Level == 'Silver'\")['Frequency'],\n",
        "        mode='markers',\n",
        "        name='Silver',\n",
        "        marker= dict(size= 9,\n",
        "            line= dict(width=1),\n",
        "            color= 'green',\n",
        "            opacity= 0.5\n",
        "           )\n",
        "    ),\n",
        "        gobj.Scatter(\n",
        "        x=graph.query(\"RFM_Loyalty_Level == 'Gold'\")['Recency'],\n",
        "        y=graph.query(\"RFM_Loyalty_Level == 'Gold'\")['Frequency'],\n",
        "        mode='markers',\n",
        "        name='Gold',\n",
        "        marker= dict(size= 11,\n",
        "            line= dict(width=1),\n",
        "            color= 'red',\n",
        "            opacity= 0.9\n",
        "           )\n",
        "    ),\n",
        "    gobj.Scatter(\n",
        "        x=graph.query(\"RFM_Loyalty_Level == 'Platinum'\")['Recency'],\n",
        "        y=graph.query(\"RFM_Loyalty_Level == 'Platinum'\")['Frequency'],\n",
        "        mode='markers',\n",
        "        name='Platinum',\n",
        "        marker= dict(size= 13,\n",
        "            line= dict(width=1),\n",
        "            color= 'black',\n",
        "            opacity= 0.9\n",
        "           )\n",
        "    ),\n",
        "]\n",
        "\n",
        "plot_layout = gobj.Layout(\n",
        "        yaxis= {'title': \"Frequency\"},\n",
        "        xaxis= {'title': \"Recency\"},\n",
        "        title='Segments'\n",
        "    )\n",
        "fig = gobj.Figure(data=plot_data, layout=plot_layout)\n",
        "po.iplot(fig)\n",
        "\n",
        "#Frequency Vs Monetary\n",
        "graph = RFMScores.query(\"Monetary < 50000 and Frequency < 2000\")\n",
        "\n",
        "plot_data = [\n",
        "    gobj.Scatter(\n",
        "        x=graph.query(\"RFM_Loyalty_Level == 'Bronze'\")['Frequency'],\n",
        "        y=graph.query(\"RFM_Loyalty_Level == 'Bronze'\")['Monetary'],\n",
        "        mode='markers',\n",
        "        name='Bronze',\n",
        "        marker= dict(size= 7,\n",
        "            line= dict(width=1),\n",
        "            color= 'blue',\n",
        "            opacity= 0.8\n",
        "           )\n",
        "    ),\n",
        "        gobj.Scatter(\n",
        "        x=graph.query(\"RFM_Loyalty_Level == 'Silver'\")['Frequency'],\n",
        "        y=graph.query(\"RFM_Loyalty_Level == 'Silver'\")['Monetary'],\n",
        "        mode='markers',\n",
        "        name='Silver',\n",
        "        marker= dict(size= 9,\n",
        "            line= dict(width=1),\n",
        "            color= 'green',\n",
        "            opacity= 0.5\n",
        "           )\n",
        "    ),\n",
        "        gobj.Scatter(\n",
        "        x=graph.query(\"RFM_Loyalty_Level == 'Gold'\")['Frequency'],\n",
        "        y=graph.query(\"RFM_Loyalty_Level == 'Gold'\")['Monetary'],\n",
        "        mode='markers',\n",
        "        name='Gold',\n",
        "        marker= dict(size= 11,\n",
        "            line= dict(width=1),\n",
        "            color= 'red',\n",
        "            opacity= 0.9\n",
        "           )\n",
        "    ),\n",
        "    gobj.Scatter(\n",
        "        x=graph.query(\"RFM_Loyalty_Level == 'Platinum'\")['Frequency'],\n",
        "        y=graph.query(\"RFM_Loyalty_Level == 'Platinum'\")['Monetary'],\n",
        "        mode='markers',\n",
        "        name='Platinum',\n",
        "        marker= dict(size= 13,\n",
        "            line= dict(width=1),\n",
        "            color= 'black',\n",
        "            opacity= 0.9\n",
        "           )\n",
        "    ),\n",
        "]\n",
        "\n",
        "plot_layout = gobj.Layout(\n",
        "        yaxis= {'title': \"Monetary\"},\n",
        "        xaxis= {'title': \"Frequency\"},\n",
        "        title='Segments'\n",
        "    )\n",
        "fig = gobj.Figure(data=plot_data, layout=plot_layout)\n",
        "po.iplot(fig)\n",
        "\n",
        "#Recency Vs Monetary\n",
        "graph = RFMScores.query(\"Monetary < 50000 and Frequency < 2000\")\n",
        "\n",
        "plot_data = [\n",
        "    gobj.Scatter(\n",
        "        x=graph.query(\"RFM_Loyalty_Level == 'Bronze'\")['Recency'],\n",
        "        y=graph.query(\"RFM_Loyalty_Level == 'Bronze'\")['Monetary'],\n",
        "        mode='markers',\n",
        "        name='Bronze',\n",
        "        marker= dict(size= 7,\n",
        "            line= dict(width=1),\n",
        "            color= 'blue',\n",
        "            opacity= 0.8\n",
        "           )\n",
        "    ),\n",
        "        gobj.Scatter(\n",
        "        x=graph.query(\"RFM_Loyalty_Level == 'Silver'\")['Recency'],\n",
        "        y=graph.query(\"RFM_Loyalty_Level == 'Silver'\")['Monetary'],\n",
        "        mode='markers',\n",
        "        name='Silver',\n",
        "        marker= dict(size= 9,\n",
        "            line= dict(width=1),\n",
        "            color= 'green',\n",
        "            opacity= 0.5\n",
        "           )\n",
        "    ),\n",
        "        gobj.Scatter(\n",
        "        x=graph.query(\"RFM_Loyalty_Level == 'Gold'\")['Recency'],\n",
        "        y=graph.query(\"RFM_Loyalty_Level == 'Gold'\")['Monetary'],\n",
        "        mode='markers',\n",
        "        name='Gold',\n",
        "        marker= dict(size= 11,\n",
        "            line= dict(width=1),\n",
        "            color= 'red',\n",
        "            opacity= 0.9\n",
        "           )\n",
        "    ),\n",
        "    gobj.Scatter(\n",
        "        x=graph.query(\"RFM_Loyalty_Level == 'Platinum'\")['Recency'],\n",
        "        y=graph.query(\"RFM_Loyalty_Level == 'Platinum'\")['Monetary'],\n",
        "        mode='markers',\n",
        "        name='Platinum',\n",
        "        marker= dict(size= 13,\n",
        "            line= dict(width=1),\n",
        "            color= 'black',\n",
        "            opacity= 0.9\n",
        "           )\n",
        "    ),\n",
        "]\n",
        "\n",
        "plot_layout = gobj.Layout(\n",
        "        yaxis= {'title': \"Monetary\"},\n",
        "        xaxis= {'title': \"Recency\"},\n",
        "        title='Segments'\n",
        "    )\n",
        "fig = gobj.Figure(data=plot_data, layout=plot_layout)\n",
        "po.iplot(fig)\n",
        "\n",
        "\n"
      ]
    },
    {
      "cell_type": "markdown",
      "metadata": {
        "id": "rbBUtoTVK-V9"
      },
      "source": [
        "## K-Means Clustering"
      ]
    },
    {
      "cell_type": "code",
      "execution_count": null,
      "metadata": {
        "id": "0zCUWwXiK-V9"
      },
      "outputs": [],
      "source": [
        "#Handle negative and zero values so as to handle infinite numbers during log transformation\n",
        "def handle_neg_n_zero(num):\n",
        "    if num <= 0:\n",
        "        return 1\n",
        "    else:\n",
        "        return num\n",
        "#Apply handle_neg_n_zero function to Recency and Monetary columns \n",
        "RFMScores['Recency'] = [handle_neg_n_zero(x) for x in RFMScores.Recency]\n",
        "RFMScores['Monetary'] = [handle_neg_n_zero(x) for x in RFMScores.Monetary]\n",
        "\n",
        "#Perform Log transformation to bring data into normal or near normal distribution\n",
        "Log_Tfd_Data = RFMScores[['Recency', 'Frequency', 'Monetary']].apply(np.log, axis = 1).round(3)"
      ]
    },
    {
      "cell_type": "code",
      "execution_count": null,
      "metadata": {
        "id": "7sQxetqbK-V9",
        "outputId": "7dc8f80e-2dab-41d4-de3b-c7e4eee4fa9b"
      },
      "outputs": [
        {
          "data": {
            "image/png": "[encoded data removed]",
            "text/plain": [
              "<Figure size 432x288 with 1 Axes>"
            ]
          },
          "metadata": {
            "needs_background": "light"
          },
          "output_type": "display_data"
        }
      ],
      "source": [
        "#Data distribution after data normalization for Recency\n",
        "Recency_Plot = Log_Tfd_Data['Recency']\n",
        "ax = sns.distplot(Recency_Plot)"
      ]
    },
    {
      "cell_type": "code",
      "execution_count": null,
      "metadata": {
        "id": "qrWvGkjSK-V9",
        "outputId": "0f78b0f0-df74-4de6-9425-f32ad34a4922"
      },
      "outputs": [
        {
          "data": {
            "image/png": "[encoded data removed]",
            "text/plain": [
              "<Figure size 432x288 with 1 Axes>"
            ]
          },
          "metadata": {
            "needs_background": "light"
          },
          "output_type": "display_data"
        }
      ],
      "source": [
        "#Data distribution after data normalization for Frequency\n",
        "Frequency_Plot = Log_Tfd_Data.query('Frequency < 1000')['Frequency']\n",
        "ax = sns.distplot(Frequency_Plot)"
      ]
    },
    {
      "cell_type": "code",
      "execution_count": null,
      "metadata": {
        "id": "R-dDxGhJK-V-",
        "outputId": "b9e4cd46-3bab-43f5-f01b-174af2f09196"
      },
      "outputs": [
        {
          "data": {
            "image/png": "[encoded data removed]",
            "text/plain": [
              "<Figure size 432x288 with 1 Axes>"
            ]
          },
          "metadata": {
            "needs_background": "light"
          },
          "output_type": "display_data"
        }
      ],
      "source": [
        "#Data distribution after data normalization for Monetary\n",
        "Monetary_Plot = Log_Tfd_Data.query('Monetary < 10000')['Monetary']\n",
        "ax = sns.distplot(Monetary_Plot)"
      ]
    },
    {
      "cell_type": "code",
      "execution_count": null,
      "metadata": {
        "id": "fSV_3XWmK-V-"
      },
      "outputs": [],
      "source": [
        "from sklearn.preprocessing import StandardScaler\n",
        "\n",
        "#Bring the data on same scale\n",
        "scaleobj = StandardScaler()\n",
        "Scaled_Data = scaleobj.fit_transform(Log_Tfd_Data)\n",
        "\n",
        "#Transform it back to dataframe\n",
        "Scaled_Data = pd.DataFrame(Scaled_Data, index = RFMScores.index, columns = Log_Tfd_Data.columns)"
      ]
    },
    {
      "cell_type": "code",
      "execution_count": null,
      "metadata": {
        "id": "ekfZqM4SK-V-",
        "outputId": "c16e5a98-4f70-48aa-9ad8-3d95533da63c"
      },
      "outputs": [
        {
          "data": {
            "image/png": "[encoded data removed]",
            "text/plain": [
              "<Figure size 432x288 with 1 Axes>"
            ]
          },
          "metadata": {
            "needs_background": "light"
          },
          "output_type": "display_data"
        }
      ],
      "source": [
        "from sklearn.cluster import KMeans\n",
        "\n",
        "sum_of_sq_dist = {}\n",
        "for k in range(1,15):\n",
        "    km = KMeans(n_clusters= k, init= 'k-means++', max_iter= 1000)\n",
        "    km = km.fit(Scaled_Data)\n",
        "    sum_of_sq_dist[k] = km.inertia_\n",
        "    \n",
        "#Plot the graph for the sum of square distance values and Number of Clusters\n",
        "sns.pointplot(x = list(sum_of_sq_dist.keys()), y = list(sum_of_sq_dist.values()))\n",
        "plt.xlabel('Number of Clusters(k)')\n",
        "plt.ylabel('Sum of Square Distances')\n",
        "plt.title('Elbow Method For Optimal k')\n",
        "plt.show()"
      ]
    },
    {
      "cell_type": "code",
      "execution_count": null,
      "metadata": {
        "id": "bdIawaqFK-V-",
        "outputId": "c55ffefb-7d56-4303-81f6-09b6a11b2d1e"
      },
      "outputs": [
        {
          "data": {
            "text/html": [
              "<div>\n",
              "<style scoped>\n",
              "    .dataframe tbody tr th:only-of-type {\n",
              "        vertical-align: middle;\n",
              "    }\n",
              "\n",
              "    .dataframe tbody tr th {\n",
              "        vertical-align: top;\n",
              "    }\n",
              "\n",
              "    .dataframe thead th {\n",
              "        text-align: right;\n",
              "    }\n",
              "</style>\n",
              "<table border=\"1\" class=\"dataframe\">\n",
              "  <thead>\n",
              "    <tr style=\"text-align: right;\">\n",
              "      <th></th>\n",
              "      <th>Recency</th>\n",
              "      <th>Frequency</th>\n",
              "      <th>Monetary</th>\n",
              "      <th>R</th>\n",
              "      <th>F</th>\n",
              "      <th>M</th>\n",
              "      <th>RFMGroup</th>\n",
              "      <th>RFMScore</th>\n",
              "      <th>RFM_Loyalty_Level</th>\n",
              "      <th>Cluster</th>\n",
              "    </tr>\n",
              "    <tr>\n",
              "      <th>CustomerID</th>\n",
              "      <th></th>\n",
              "      <th></th>\n",
              "      <th></th>\n",
              "      <th></th>\n",
              "      <th></th>\n",
              "      <th></th>\n",
              "      <th></th>\n",
              "      <th></th>\n",
              "      <th></th>\n",
              "      <th></th>\n",
              "    </tr>\n",
              "  </thead>\n",
              "  <tbody>\n",
              "    <tr>\n",
              "      <th>12346.0</th>\n",
              "      <td>325</td>\n",
              "      <td>1</td>\n",
              "      <td>77183.60</td>\n",
              "      <td>4</td>\n",
              "      <td>4</td>\n",
              "      <td>1</td>\n",
              "      <td>441</td>\n",
              "      <td>9</td>\n",
              "      <td>Silver</td>\n",
              "      <td>2</td>\n",
              "    </tr>\n",
              "    <tr>\n",
              "      <th>12747.0</th>\n",
              "      <td>2</td>\n",
              "      <td>103</td>\n",
              "      <td>4196.01</td>\n",
              "      <td>1</td>\n",
              "      <td>1</td>\n",
              "      <td>1</td>\n",
              "      <td>111</td>\n",
              "      <td>3</td>\n",
              "      <td>Platinum</td>\n",
              "      <td>0</td>\n",
              "    </tr>\n",
              "    <tr>\n",
              "      <th>12748.0</th>\n",
              "      <td>1</td>\n",
              "      <td>4596</td>\n",
              "      <td>33719.73</td>\n",
              "      <td>1</td>\n",
              "      <td>1</td>\n",
              "      <td>1</td>\n",
              "      <td>111</td>\n",
              "      <td>3</td>\n",
              "      <td>Platinum</td>\n",
              "      <td>0</td>\n",
              "    </tr>\n",
              "    <tr>\n",
              "      <th>12749.0</th>\n",
              "      <td>3</td>\n",
              "      <td>199</td>\n",
              "      <td>4090.88</td>\n",
              "      <td>1</td>\n",
              "      <td>1</td>\n",
              "      <td>1</td>\n",
              "      <td>111</td>\n",
              "      <td>3</td>\n",
              "      <td>Platinum</td>\n",
              "      <td>0</td>\n",
              "    </tr>\n",
              "    <tr>\n",
              "      <th>12820.0</th>\n",
              "      <td>3</td>\n",
              "      <td>59</td>\n",
              "      <td>942.34</td>\n",
              "      <td>1</td>\n",
              "      <td>2</td>\n",
              "      <td>2</td>\n",
              "      <td>122</td>\n",
              "      <td>5</td>\n",
              "      <td>Platinum</td>\n",
              "      <td>0</td>\n",
              "    </tr>\n",
              "  </tbody>\n",
              "</table>\n",
              "</div>"
            ],
            "text/plain": [
              "            Recency  Frequency  Monetary  R  F  M RFMGroup  RFMScore  \\\n",
              "CustomerID                                                             \n",
              "12346.0         325          1  77183.60  4  4  1      441         9   \n",
              "12747.0           2        103   4196.01  1  1  1      111         3   \n",
              "12748.0           1       4596  33719.73  1  1  1      111         3   \n",
              "12749.0           3        199   4090.88  1  1  1      111         3   \n",
              "12820.0           3         59    942.34  1  2  2      122         5   \n",
              "\n",
              "           RFM_Loyalty_Level  Cluster  \n",
              "CustomerID                             \n",
              "12346.0               Silver        2  \n",
              "12747.0             Platinum        0  \n",
              "12748.0             Platinum        0  \n",
              "12749.0             Platinum        0  \n",
              "12820.0             Platinum        0  "
            ]
          },
          "execution_count": 37,
          "metadata": {},
          "output_type": "execute_result"
        }
      ],
      "source": [
        "#Perform K-Mean Clustering or build the K-Means clustering model\n",
        "KMean_clust = KMeans(n_clusters= 3, init= 'k-means++', max_iter= 1000)\n",
        "KMean_clust.fit(Scaled_Data)\n",
        "\n",
        "#Find the clusters for the observation given in the dataset\n",
        "RFMScores['Cluster'] = KMean_clust.labels_\n",
        "RFMScores.head()"
      ]
    },
    {
      "cell_type": "code",
      "execution_count": null,
      "metadata": {
        "id": "yosBYVfVK-V-",
        "outputId": "47f850a1-6dbb-44d6-9649-6128b89aea50"
      },
      "outputs": [
        {
          "data": {
            "text/plain": [
              "<Figure size 504x504 with 0 Axes>"
            ]
          },
          "metadata": {},
          "output_type": "display_data"
        },
        {
          "data": {
            "image/png": "[encoded data removed]",
            "text/plain": [
              "<Figure size 720x576 with 1 Axes>"
            ]
          },
          "metadata": {
            "needs_background": "light"
          },
          "output_type": "display_data"
        }
      ],
      "source": [
        "from matplotlib import pyplot as plt\n",
        "plt.figure(figsize=(7,7))\n",
        "\n",
        "##Scatter Plot Frequency Vs Recency\n",
        "Colors = [\"red\", \"green\", \"blue\"]\n",
        "RFMScores['Color'] = RFMScores['Cluster'].map(lambda p: Colors[p])\n",
        "ax = RFMScores.plot(    \n",
        "    kind=\"scatter\", \n",
        "    x=\"Recency\", y=\"Frequency\",\n",
        "    figsize=(10,8),\n",
        "    c = RFMScores['Color']\n",
        ")\n"
      ]
    },
    {
      "cell_type": "code",
      "execution_count": null,
      "metadata": {
        "id": "pGnJAjDkK-V_",
        "outputId": "c0c64bc0-a548-4776-9163-29307362a548"
      },
      "outputs": [
        {
          "data": {
            "text/html": [
              "<div>\n",
              "<style scoped>\n",
              "    .dataframe tbody tr th:only-of-type {\n",
              "        vertical-align: middle;\n",
              "    }\n",
              "\n",
              "    .dataframe tbody tr th {\n",
              "        vertical-align: top;\n",
              "    }\n",
              "\n",
              "    .dataframe thead th {\n",
              "        text-align: right;\n",
              "    }\n",
              "</style>\n",
              "<table border=\"1\" class=\"dataframe\">\n",
              "  <thead>\n",
              "    <tr style=\"text-align: right;\">\n",
              "      <th></th>\n",
              "      <th>Recency</th>\n",
              "      <th>Frequency</th>\n",
              "      <th>Monetary</th>\n",
              "      <th>R</th>\n",
              "      <th>F</th>\n",
              "      <th>M</th>\n",
              "      <th>RFMGroup</th>\n",
              "      <th>RFMScore</th>\n",
              "      <th>RFM_Loyalty_Level</th>\n",
              "      <th>Cluster</th>\n",
              "      <th>Color</th>\n",
              "    </tr>\n",
              "    <tr>\n",
              "      <th>CustomerID</th>\n",
              "      <th></th>\n",
              "      <th></th>\n",
              "      <th></th>\n",
              "      <th></th>\n",
              "      <th></th>\n",
              "      <th></th>\n",
              "      <th></th>\n",
              "      <th></th>\n",
              "      <th></th>\n",
              "      <th></th>\n",
              "      <th></th>\n",
              "    </tr>\n",
              "  </thead>\n",
              "  <tbody>\n",
              "    <tr>\n",
              "      <th>12346.0</th>\n",
              "      <td>325</td>\n",
              "      <td>1</td>\n",
              "      <td>77183.60</td>\n",
              "      <td>4</td>\n",
              "      <td>4</td>\n",
              "      <td>1</td>\n",
              "      <td>441</td>\n",
              "      <td>9</td>\n",
              "      <td>Silver</td>\n",
              "      <td>2</td>\n",
              "      <td>blue</td>\n",
              "    </tr>\n",
              "    <tr>\n",
              "      <th>12747.0</th>\n",
              "      <td>2</td>\n",
              "      <td>103</td>\n",
              "      <td>4196.01</td>\n",
              "      <td>1</td>\n",
              "      <td>1</td>\n",
              "      <td>1</td>\n",
              "      <td>111</td>\n",
              "      <td>3</td>\n",
              "      <td>Platinum</td>\n",
              "      <td>0</td>\n",
              "      <td>red</td>\n",
              "    </tr>\n",
              "    <tr>\n",
              "      <th>12748.0</th>\n",
              "      <td>1</td>\n",
              "      <td>4596</td>\n",
              "      <td>33719.73</td>\n",
              "      <td>1</td>\n",
              "      <td>1</td>\n",
              "      <td>1</td>\n",
              "      <td>111</td>\n",
              "      <td>3</td>\n",
              "      <td>Platinum</td>\n",
              "      <td>0</td>\n",
              "      <td>red</td>\n",
              "    </tr>\n",
              "    <tr>\n",
              "      <th>12749.0</th>\n",
              "      <td>3</td>\n",
              "      <td>199</td>\n",
              "      <td>4090.88</td>\n",
              "      <td>1</td>\n",
              "      <td>1</td>\n",
              "      <td>1</td>\n",
              "      <td>111</td>\n",
              "      <td>3</td>\n",
              "      <td>Platinum</td>\n",
              "      <td>0</td>\n",
              "      <td>red</td>\n",
              "    </tr>\n",
              "    <tr>\n",
              "      <th>12820.0</th>\n",
              "      <td>3</td>\n",
              "      <td>59</td>\n",
              "      <td>942.34</td>\n",
              "      <td>1</td>\n",
              "      <td>2</td>\n",
              "      <td>2</td>\n",
              "      <td>122</td>\n",
              "      <td>5</td>\n",
              "      <td>Platinum</td>\n",
              "      <td>0</td>\n",
              "      <td>red</td>\n",
              "    </tr>\n",
              "  </tbody>\n",
              "</table>\n",
              "</div>"
            ],
            "text/plain": [
              "            Recency  Frequency  Monetary  R  F  M RFMGroup  RFMScore  \\\n",
              "CustomerID                                                             \n",
              "12346.0         325          1  77183.60  4  4  1      441         9   \n",
              "12747.0           2        103   4196.01  1  1  1      111         3   \n",
              "12748.0           1       4596  33719.73  1  1  1      111         3   \n",
              "12749.0           3        199   4090.88  1  1  1      111         3   \n",
              "12820.0           3         59    942.34  1  2  2      122         5   \n",
              "\n",
              "           RFM_Loyalty_Level  Cluster Color  \n",
              "CustomerID                                   \n",
              "12346.0               Silver        2  blue  \n",
              "12747.0             Platinum        0   red  \n",
              "12748.0             Platinum        0   red  \n",
              "12749.0             Platinum        0   red  \n",
              "12820.0             Platinum        0   red  "
            ]
          },
          "execution_count": 39,
          "metadata": {},
          "output_type": "execute_result"
        }
      ],
      "source": [
        "RFMScores.head()"
      ]
    },
    {
      "cell_type": "code",
      "execution_count": null,
      "metadata": {
        "id": "k0BwSAbNK-V_"
      },
      "outputs": [],
      "source": [
        ""
      ]
    }
  ],
  "metadata": {
    "kernelspec": {
      "display_name": "Python 3",
      "language": "python",
      "name": "python3"
    },
    "language_info": {
      "codemirror_mode": {
        "name": "ipython",
        "version": 3
      },
      "file_extension": ".py",
      "mimetype": "text/x-python",
      "name": "python",
      "nbconvert_exporter": "python",
      "pygments_lexer": "ipython3",
      "version": "3.6.8"
    },
    "colab": {
      "name": "Customer_Segmentation_to_identify_Loyal_Customers.ipynb",
      "provenance": [],
      "collapsed_sections": [
        "rbBUtoTVK-V9"
      ],
      "include_colab_link": true
    }
  },
  "nbformat": 4,
  "nbformat_minor": 0
}